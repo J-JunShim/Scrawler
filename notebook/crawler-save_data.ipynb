{
 "cells": [
  {
   "cell_type": "markdown",
   "metadata": {},
   "source": [
    "url\n",
    "\n",
    "|index|url|crawled_date|\n",
    "|-|-|-|\n",
    "|0|'www'|2020/11/01|"
   ]
  },
  {
   "cell_type": "markdown",
   "metadata": {},
   "source": [
    "article\n",
    "\n",
    "|index|url_id|date|title|text|morpheme|\n",
    "|-|-|-|-|-|-|\n",
    "|0|0|2020/01/01|'코로나'|'~~~'|'~~~'|"
   ]
  },
  {
   "cell_type": "code",
   "execution_count": 18,
   "metadata": {},
   "outputs": [],
   "source": [
    "import os\n",
    "import json\n",
    "\n",
    "from pathlib import Path\n",
    "from newspaper import Article"
   ]
  },
  {
   "cell_type": "code",
   "execution_count": 3,
   "metadata": {},
   "outputs": [],
   "source": [
    "url = 'http://v.media.daum.net/v/20170604205121164'"
   ]
  },
  {
   "cell_type": "code",
   "execution_count": 4,
   "metadata": {},
   "outputs": [
    {
     "name": "stdout",
     "output_type": "stream",
     "text": [
      "True\n",
      "True\n"
     ]
    }
   ],
   "source": [
    "a = Article(url, language='ko')\n",
    "print(a.is_valid_url())\n",
    "\n",
    "a.download()\n",
    "a.parse()\n",
    "print(a.is_parsed)"
   ]
  },
  {
   "cell_type": "code",
   "execution_count": 63,
   "metadata": {},
   "outputs": [],
   "source": [
    "def dict_to_json(data, path):\n",
    "    p = Path().cwd() / path\n",
    "    \n",
    "    if p.parent.is_dir():\n",
    "        with open(p, 'w', encoding='utf-8') as f:\n",
    "            json.dump(data, f, ensure_ascii=False)\n",
    "        \n",
    "    return p.exists()"
   ]
  },
  {
   "cell_type": "code",
   "execution_count": 14,
   "metadata": {},
   "outputs": [
    {
     "data": {
      "text/plain": [
       "{'url': 'http://v.media.daum.net/v/20170604205121164',\n",
       " 'date': None,\n",
       " 'title': '[디지털+] 전지전능 AI 전성시대'}"
      ]
     },
     "execution_count": 14,
     "metadata": {},
     "output_type": "execute_result"
    }
   ],
   "source": [
    "b = dict(url=a.url, date=a.publish_date, title=str(a.title))\n",
    "b"
   ]
  },
  {
   "cell_type": "code",
   "execution_count": 39,
   "metadata": {},
   "outputs": [
    {
     "name": "stdout",
     "output_type": "stream",
     "text": [
      "{\n",
      "    \"url\": \"http://v.media.daum.net/v/20170604205121164\",\n",
      "    \"date\": null,\n",
      "    \"title\": \"[디지털+] 전지전능 AI 전성시대\"\n",
      "}\n"
     ]
    }
   ],
   "source": [
    "print(json.dumps(b, ensure_ascii=False, indent=4))"
   ]
  },
  {
   "cell_type": "code",
   "execution_count": 48,
   "metadata": {},
   "outputs": [
    {
     "name": "stdout",
     "output_type": "stream",
     "text": [
      "..\\data\n"
     ]
    }
   ],
   "source": [
    "p = Path('..') / 'data'\n",
    "print(p)"
   ]
  },
  {
   "cell_type": "code",
   "execution_count": 50,
   "metadata": {},
   "outputs": [
    {
     "name": "stdout",
     "output_type": "stream",
     "text": [
      "C:\\Users\\wowns\\Documents\\GitHub\\isProject\\notebook\\..\\data\n"
     ]
    }
   ],
   "source": [
    "if p.exists():\n",
    "    print(p.absolute())\n",
    "    \n",
    "    with open(p / 'sample.json', 'w', encoding='utf-8') as f:\n",
    "        json.dump(b, f, ensure_ascii=False)"
   ]
  },
  {
   "cell_type": "code",
   "execution_count": 51,
   "metadata": {},
   "outputs": [
    {
     "data": {
      "text/plain": [
       "WindowsPath('C:/Users/wowns/Documents/GitHub/isProject/notebook')"
      ]
     },
     "execution_count": 51,
     "metadata": {},
     "output_type": "execute_result"
    }
   ],
   "source": [
    "p.cwd()"
   ]
  },
  {
   "cell_type": "code",
   "execution_count": 53,
   "metadata": {},
   "outputs": [
    {
     "data": {
      "text/plain": [
       "False"
      ]
     },
     "execution_count": 53,
     "metadata": {},
     "output_type": "execute_result"
    }
   ],
   "source": [
    "p.is_file()"
   ]
  },
  {
   "cell_type": "code",
   "execution_count": 65,
   "metadata": {},
   "outputs": [
    {
     "name": "stdout",
     "output_type": "stream",
     "text": [
      "C:\\Users\\wowns\\Documents\\GitHub\\isProject\\notebook\\..\\data\\test.json\n"
     ]
    }
   ],
   "source": [
    "dict_to_json(b, '../data/test.json')"
   ]
  },
  {
   "cell_type": "code",
   "execution_count": 56,
   "metadata": {},
   "outputs": [
    {
     "data": {
      "text/plain": [
       "{'url': 'http://v.media.daum.net/v/20170604205121164',\n",
       " 'date': None,\n",
       " 'title': '[디지털+] 전지전능 AI 전성시대'}"
      ]
     },
     "execution_count": 56,
     "metadata": {},
     "output_type": "execute_result"
    }
   ],
   "source": [
    "b"
   ]
  },
  {
   "cell_type": "code",
   "execution_count": 60,
   "metadata": {},
   "outputs": [
    {
     "data": {
      "text/plain": [
       "False"
      ]
     },
     "execution_count": 60,
     "metadata": {},
     "output_type": "execute_result"
    }
   ],
   "source": [
    "p = Path().cwd() / '../data/sample.json'\n",
    "p.is_dir()"
   ]
  },
  {
   "cell_type": "code",
   "execution_count": 64,
   "metadata": {},
   "outputs": [
    {
     "data": {
      "text/plain": [
       "True"
      ]
     },
     "execution_count": 64,
     "metadata": {},
     "output_type": "execute_result"
    }
   ],
   "source": [
    "p.parent.is_dir()"
   ]
  },
  {
   "cell_type": "code",
   "execution_count": 67,
   "metadata": {},
   "outputs": [
    {
     "data": {
      "text/plain": [
       "{1, 2, 3}"
      ]
     },
     "execution_count": 67,
     "metadata": {},
     "output_type": "execute_result"
    }
   ],
   "source": [
    "set().union([1, 2, 3])"
   ]
  },
  {
   "cell_type": "code",
   "execution_count": null,
   "metadata": {},
   "outputs": [],
   "source": []
  }
 ],
 "metadata": {
  "kernelspec": {
   "display_name": "isProject",
   "language": "python",
   "name": "proj"
  },
  "language_info": {
   "codemirror_mode": {
    "name": "ipython",
    "version": 3
   },
   "file_extension": ".py",
   "mimetype": "text/x-python",
   "name": "python",
   "nbconvert_exporter": "python",
   "pygments_lexer": "ipython3",
   "version": "3.7.9"
  }
 },
 "nbformat": 4,
 "nbformat_minor": 4
}
