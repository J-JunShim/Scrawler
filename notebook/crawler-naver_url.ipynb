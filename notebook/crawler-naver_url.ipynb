{
 "cells": [
  {
   "cell_type": "code",
   "execution_count": null,
   "metadata": {},
   "outputs": [],
   "source": [
    "https://search.naver.com/search.naver?\n",
    "where=news\n",
    "&sm=tab_jum\n",
    "&query=%EC%BD%94%EB%A1%9C%EB%82%98\n",
    "\n",
    "https://search.naver.com/search.naver?\n",
    "&where=news\n",
    "&query=%EC%BD%94%EB%A1%9C%EB%82%98\n",
    "&sm=tab_pge\n",
    "&sort=0\n",
    "&photo=0\n",
    "&field=0\n",
    "&reporter_article=\n",
    "&pd=0\n",
    "&ds=\n",
    "&de=\n",
    "&docid=\n",
    "&nso=so:r,p:all,a:all\n",
    "&mynews=0\n",
    "&cluster_rank=33\n",
    "&start=11\n",
    "&refresh_start=0\n",
    "\n",
    "https://search.naver.com/search.naver?\n",
    "where=news\n",
    "&query=%EC%BD%94%EB%A1%9C%EB%82%98\n",
    "&sm=tab_srt\n",
    "&sort=1\n",
    "&photo=0\n",
    "&field=0\n",
    "&reporter_article=\n",
    "&pd=0\n",
    "&ds=\n",
    "&de=\n",
    "&docid=\n",
    "&nso=so%3Add%2Cp%3Aall%2Ca%3Aall\n",
    "&mynews=0\n",
    "&refresh_start=0\n",
    "&related=0"
   ]
  },
  {
   "cell_type": "code",
   "execution_count": null,
   "metadata": {},
   "outputs": [],
   "source": [
    "https://search.naver.com/search.naver?&where=news&query=%EC%BD%94%EB%A1%9C%EB%82%98&sm=tab_pge&sort=0&photo=0&field=0&reporter_article=&pd=0&ds=&de=&docid=\n",
    "    &nso=so:r,p:all,a:all\n",
    "                &mynews=0&cluster_rank=59&start=11&refresh_start=0\n",
    "                \n",
    "https://search.naver.com/search.naver?where=news&query=%EC%BD%94%EB%A1%9C%EB%82%98&sm=tab_opt&sort=0&photo=0&field=0&reporter_article=&pd=3&ds=2020.10.31&de=2020.10.31&docid=&nso=so%3Ar%2Cp%3Afrom20201031to20201031%2Ca%3Aall&mynews=0&refresh_start=0&related=0\n",
    "    \n",
    "https://search.naver.com/search.naver?where=news&query=%EC%BD%94%EB%A1%9C%EB%82%98&sm=tab_srt&sort=1&photo=0&field=0&reporter_article=&pd=3&ds=2020.10.31&de=2020.10.31&docid=&nso=so%3Add%2Cp%3Afrom20201031to20201031%2Ca%3Aall&mynews=0&refresh_start=0&related=0\n",
    "    \n",
    "https://search.naver.com/search.naver?where=news&query=%EC%BD%94%EB%A1%9C%EB%82%98&sm=tab_opt&sort=1&photo=0&field=0&reporter_article=&pd=4&ds=&de=&docid=\n",
    "    &nso=so%3Add%2Cp%3A1d%2Ca%3Aall\n",
    "    &mynews=0&refresh_start=0&related=0\n",
    "    \n",
    "https://search.naver.com/search.naver?where=news&query=%EC%BD%94%EB%A1%9C%EB%82%98&sm=tab_opt&sort=1&photo=3&field=0&reporter_article=&pd=3&ds=2020.10.31&de=2020.10.31&docid=\n",
    "    &nso=so%3Add%2Cp%3Afrom20201031to20201031%2Ca%3Aall\n",
    "    &mynews=0&refresh_start=0&related=0\n",
    "    \n",
    "https://search.naver.com/search.naver?where=news&query=%EC%BD%94%EB%A1%9C%EB%82%98&sm=tab_srt&sort=2&photo=3&field=0&reporter_article=&pd=5&ds=2019.11.02&de=2020.11.01&docid=&nso=so%3Ada%2Cp%3A1y%2Ca%3Aall&mynews=0&refresh_start=0&related=0"
   ]
  }
 ],
 "metadata": {
  "kernelspec": {
   "display_name": "isProject",
   "language": "python",
   "name": "proj"
  },
  "language_info": {
   "name": ""
  }
 },
 "nbformat": 4,
 "nbformat_minor": 4
}
