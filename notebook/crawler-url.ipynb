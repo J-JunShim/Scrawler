{
 "cells": [
  {
   "cell_type": "code",
   "execution_count": 1,
   "metadata": {},
   "outputs": [],
   "source": [
    "import pathlib\n",
    "from multiprocessing import Process, Pool, cpu_count, Queue\n",
    "from datetime import datetime, timedelta\n",
    "from dateutil.relativedelta import relativedelta"
   ]
  },
  {
   "cell_type": "code",
   "execution_count": 2,
   "metadata": {},
   "outputs": [],
   "source": [
    "import os, sys\n",
    "sys.path.append(os.path.abspath('../.'))\n",
    "\n",
    "from DataScraper import DataTools"
   ]
  },
  {
   "cell_type": "code",
   "execution_count": 52,
   "metadata": {},
   "outputs": [],
   "source": [
    "def make_url_naver(query, start=0, sort='old', date=None):\n",
    "    def _dt_format(dt): return dt.strftime('%Y%m%d')\n",
    "    \n",
    "    if date:\n",
    "        ds, de = [date] * 2\n",
    "    else:\n",
    "        now = datetime.now()\n",
    "        ds = now - relativedelta(year=now.year - 1)\n",
    "        de = now - timedelta(days=1)\n",
    "\n",
    "    url = 'https://search.naver.com/search.naver?where=news'\n",
    "\n",
    "    sort = {'acc':0, 'new':1, 'old':2}[sort]\n",
    "    dse = f\"from{_dt_format(ds)}to{_dt_format(de)}\"\n",
    "    nso = f'so%3Add%2Cp%3A{dse}%2Ca%3Aall'\n",
    "\n",
    "    url += f\"&query={query}&sort={sort}&nso={nso}&start={start}&refresh_start=0\"\n",
    "\n",
    "    return str(url)"
   ]
  },
  {
   "cell_type": "code",
   "execution_count": null,
   "metadata": {},
   "outputs": [],
   "source": [
    "page = 0\n",
    "with Pool(cpu_count()) as pool:\n",
    "    while True:\n",
    "        try:\n",
    "            url = make_url_naver(keyword, start=(page * 10), date=date)\n",
    "            hrefs = DataTools.get_href(url, select)\n",
    "            if not hrefs:\n",
    "                break\n",
    "            else:\n",
    "                print(page, end='\\t')\n",
    "                urls.put(hrefs)\n",
    "            page += 1\n",
    "        except KeyboardInterrupt:\n",
    "            break\n",
    "        except:\n",
    "            print(page, 'pass')"
   ]
  },
  {
   "cell_type": "code",
   "execution_count": 4,
   "metadata": {},
   "outputs": [],
   "source": [
    "def creator(queue, query, date):\n",
    "    select = 'div.news_area > a'\n",
    "    \n",
    "    while True:\n",
    "        print(page, end='\\t')\n",
    "        url = make_url_naver(keyword, start=(page * 10), date=date)\n",
    "        hrefs = DataTools.get_href(url, select)\n",
    "        page += 1\n",
    "\n",
    "        if hrefs:\n",
    "            map(queue.put, hrefs)\n",
    "        else:\n",
    "            print('pass')\n",
    "            break"
   ]
  },
  {
   "cell_type": "code",
   "execution_count": 5,
   "metadata": {},
   "outputs": [],
   "source": [
    "def worker(queue, path):\n",
    "    url = queue.get()\n",
    "    try:\n",
    "        value = DataTools.article_to_dict(url)\n",
    "    except:\n",
    "        print(url)\n",
    "        value = None\n",
    "\n",
    "    if DataTools.dict_to_json(value, path):\n",
    "        print('process complite!!')"
   ]
  },
  {
   "cell_type": "code",
   "execution_count": 18,
   "metadata": {},
   "outputs": [],
   "source": [
    "if __name__ == '__main__':\n",
    "    que = Queue()\n",
    "    now = datetime.now()\n",
    "    root = pathlib.Path('.').absolute()\n",
    "    \n",
    "    keyword = '코로나'\n",
    "    date = now - timedelta(days=1)\n",
    "    path = root / 'data' / f\"{date.strftime('%Y%m%d')}.json\"\n",
    "    \n",
    "    proc_one = Process(target=creator, args=(que, keyword, date))\n",
    "    proc_two = Process(target=worker, args=(que, path))\n",
    "\n",
    "    proc_one.start()\n",
    "    proc_two.start()\n",
    " \n",
    "    que.close()\n",
    "    que.join_thread()\n",
    " \n",
    "    proc_one.join()\n",
    "    proc_two.join()    "
   ]
  },
  {
   "cell_type": "code",
   "execution_count": 19,
   "metadata": {},
   "outputs": [],
   "source": [
    "now = datetime.now()"
   ]
  },
  {
   "cell_type": "code",
   "execution_count": 21,
   "metadata": {},
   "outputs": [
    {
     "data": {
      "text/plain": [
       "'2020-11-24T08:05:28.469344'"
      ]
     },
     "execution_count": 21,
     "metadata": {},
     "output_type": "execute_result"
    }
   ],
   "source": [
    "now.isoformat()"
   ]
  },
  {
   "cell_type": "code",
   "execution_count": 29,
   "metadata": {},
   "outputs": [],
   "source": [
    "from tqdm import tqdm_notebook"
   ]
  },
  {
   "cell_type": "code",
   "execution_count": 53,
   "metadata": {},
   "outputs": [
    {
     "name": "stdout",
     "output_type": "stream",
     "text": [
      "https://search.naver.com/search.naver?where=news&query=코로나&sort=2&nso=so%3Add%2Cp%3Afrom20201124to20201124%2Ca%3Aall&start=0&refresh_start=0\n"
     ]
    }
   ],
   "source": [
    "print(make_url_naver('코로나', date=now))"
   ]
  },
  {
   "cell_type": "code",
   "execution_count": null,
   "metadata": {},
   "outputs": [],
   "source": []
  },
  {
   "cell_type": "code",
   "execution_count": 51,
   "metadata": {},
   "outputs": [
    {
     "data": {
      "text/plain": [
       "'asdad&adads12'"
      ]
     },
     "execution_count": 51,
     "metadata": {},
     "output_type": "execute_result"
    }
   ],
   "source": [
    "'asdad' + f\"&adads{a['ab']}\""
   ]
  },
  {
   "cell_type": "code",
   "execution_count": null,
   "metadata": {},
   "outputs": [],
   "source": [
    "https://search.naver.com/search.naver?&where=news&query=%EC%BD%94%EB%A1%9C%EB%82%98"
   ]
  },
  {
   "cell_type": "code",
   "execution_count": null,
   "metadata": {},
   "outputs": [],
   "source": [
    "https://search.naver.com/search.naver?where=news&query=%EC%BD%94%EB%A1%9C%EB%82%98&sm=tab_opt&sort=0&photo=0&field=0&reporter_article=&pd=4&ds=&de=&docid=&nso=so%3Ar%2Cp%3A1d%2Ca%3Aall&mynews=0&refresh_start=0&related=0"
   ]
  }
 ],
 "metadata": {
  "kernelspec": {
   "display_name": "isProject",
   "language": "python",
   "name": "proj"
  },
  "language_info": {
   "codemirror_mode": {
    "name": "ipython",
    "version": 3
   },
   "file_extension": ".py",
   "mimetype": "text/x-python",
   "name": "python",
   "nbconvert_exporter": "python",
   "pygments_lexer": "ipython3",
   "version": "3.7.9"
  }
 },
 "nbformat": 4,
 "nbformat_minor": 4
}
