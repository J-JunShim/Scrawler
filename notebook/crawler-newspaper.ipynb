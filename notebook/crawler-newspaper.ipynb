{
 "cells": [
  {
   "cell_type": "code",
   "execution_count": 1,
   "metadata": {},
   "outputs": [],
   "source": [
    "from newspaper import Article"
   ]
  },
  {
   "cell_type": "code",
   "execution_count": 2,
   "metadata": {},
   "outputs": [],
   "source": [
    "#크롤링할 url 주소 입력\n",
    "url = 'http://v.media.daum.net/v/20170604205121164'"
   ]
  },
  {
   "cell_type": "code",
   "execution_count": 3,
   "metadata": {},
   "outputs": [],
   "source": [
    "#언어가 한국어이므로 language='ko'로 설정\n",
    "a = Article(url, language='ko')\n",
    "a.download()\n",
    "a.parse()"
   ]
  },
  {
   "cell_type": "code",
   "execution_count": 4,
   "metadata": {},
   "outputs": [
    {
     "name": "stdout",
     "output_type": "stream",
     "text": [
      "[디지털+] 전지전능 AI 전성시대\n"
     ]
    }
   ],
   "source": [
    "#기사 제목 가져오기\n",
    "print(a.title)"
   ]
  },
  {
   "cell_type": "code",
   "execution_count": 5,
   "metadata": {},
   "outputs": [
    {
     "name": "stdout",
     "output_type": "stream",
     "text": [
      "구글의 인공지능(AI) 바둑기사인 알파고가 인간계 최고수인 커제 9단에 승리를 거두면서 다시 한 번 위력을 입증했다. 알파고는 지난해 이세돌 9단 때보다 하드웨어와 소프트웨어 모두 크게 진화했다. 보통 사람이라면 평생 걸려야 할 성취를 AI는 비교도 할 수 없을 만큼 \n"
     ]
    }
   ],
   "source": [
    "#기사 내용 가져오기(150자)\n",
    "print(a.text[:150])"
   ]
  },
  {
   "cell_type": "code",
   "execution_count": null,
   "metadata": {},
   "outputs": [],
   "source": []
  }
 ],
 "metadata": {
  "kernelspec": {
   "display_name": "isProject",
   "language": "python",
   "name": "proj"
  },
  "language_info": {
   "codemirror_mode": {
    "name": "ipython",
    "version": 3
   },
   "file_extension": ".py",
   "mimetype": "text/x-python",
   "name": "python",
   "nbconvert_exporter": "python",
   "pygments_lexer": "ipython3",
   "version": "3.7.9"
  }
 },
 "nbformat": 4,
 "nbformat_minor": 4
}
