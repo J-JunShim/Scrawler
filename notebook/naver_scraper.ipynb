{
 "cells": [
  {
   "cell_type": "code",
   "execution_count": 1,
   "id": "af334155-deec-4f08-abbf-e3be33fdb0aa",
   "metadata": {},
   "outputs": [],
   "source": [
    "import os\n",
    "import sys\n",
    "import time\n",
    "import requests\n",
    "\n",
    "from pathlib import Path\n",
    "from IPython.display import clear_output\n",
    "\n",
    "from modules import naver\n",
    "from modules.utils import iotools, timestamp"
   ]
  },
  {
   "cell_type": "code",
   "execution_count": 2,
   "id": "d11ca1c7",
   "metadata": {},
   "outputs": [
    {
     "data": {
      "text/plain": [
       "11"
      ]
     },
     "execution_count": 2,
     "metadata": {},
     "output_type": "execute_result"
    }
   ],
   "source": [
    "dataDir = Path('./data')\n",
    "cookieFile = dataDir / 'naver_cafe-user.json'\n",
    "\n",
    "articlesFileName = 'articles.json'\n",
    "fileList = [_ for _ in os.listdir(dataDir) if articlesFileName in _]\n",
    "\n",
    "# fileList.sort()\n",
    "len(fileList)\n"
   ]
  },
  {
   "cell_type": "code",
   "execution_count": 3,
   "id": "9f03eb76",
   "metadata": {},
   "outputs": [
    {
     "name": "stdout",
     "output_type": "stream",
     "text": [
      "<RequestsCookieJar[<Cookie NID_AUT=hwRi/27sTdI5a8+8/ZOIWSxx2vM02q6aMODhNbmeRPyizJEYaeas8HYKDnUoLQHv for />, <Cookie NID_JKL=sXfcuA2kv7rFlRmckfdGl5+sUWB5k6vv444MpScOJBA= for />, <Cookie NID_SES=AAABfFS0E51A4p+3NOdo2WKnuS4NxIAMJhGUTOPrMDIo5UW3ikSgJkWVNwq44i2krX9TdVhlBnIzmWIjjUDdSttizS7UirQMuqMcjMHCnpH4XUQI506w2UGQHrtYBOYI+R6S0uXmAnbJeYUwNV/dxxlWvTeBytEcepykI0ud4ddM1QOf/8OFWyZDK4mLNGs6uK1hhSg4yTCZugEFLpMa1WW+f7UEmrSyr89+yK8WjQ/cBI7nLxpvLP/cOjcMsbZt36A6TW0nojdeoMqth6troNypF9UNuUPqWPdv/emCCqlsdnVGjixtrBmOdraH7mtsO9uun5NI2dMIiNTsah+ll+TgkEYbK6iJzN36cQFnEvr3ZD8Z38w75WGwhrKhOqTNFZZMoCfOP2olxyEHm1aB/s8DnN4Kvqh544ph7F6vaF/tV7Tvkw7QqQcuDTggi/CKUTvPlEatXnga0Xum6FPbbFxHeZ4iAfAV1ZolaNLarRlnaSj81XZQTvgcfHnvv7+wWh0G4w== for />, <Cookie NNB=YOLYOCZ4EDFGE for />, <Cookie nid_inf=1836321479 for />, <Cookie nid_slevel=-1 for />]>\n"
     ]
    }
   ],
   "source": [
    "headers = {'User-Agent': 'Mozilla/5.0'}\n",
    "cookies = iotools.load_from_json(cookieFile)\n",
    "session = requests.Session()\n",
    "\n",
    "session.headers.update(headers)\n",
    "for cookie in cookies:\n",
    "    session.cookies.set(cookie['name'], cookie['value'])\n",
    "\n",
    "print(session.cookies)\n"
   ]
  },
  {
   "cell_type": "code",
   "execution_count": 4,
   "id": "5e83f692-1b88-4542-bd18-416f8ac3da2f",
   "metadata": {
    "tags": []
   },
   "outputs": [
    {
     "name": "stdout",
     "output_type": "stream",
     "text": [
      "15754634 1211 20000\n",
      "Percent: [------------------------------------------------->] 100%  Time: 00:5915754634 9686 1128\n",
      "Percent: [------------------------------------------------->] 100%  Time: 03:1315754634 1212 20000\n",
      "Percent: [------------------------------------------------->] 100%  Time: 57:1615754634 8719 20000\n",
      "Percent: [------------------------------------------------->] 100%  Time: 00:3415754634 870 20000\n",
      "Percent: [----------------------------------->              ] 72%  Time: 43:01"
     ]
    },
    {
     "name": "stderr",
     "output_type": "stream",
     "text": [
      "c:\\Users\\IPA\\miniconda3\\envs\\ipa\\lib\\site-packages\\bs4\\__init__.py:435: MarkupResemblesLocatorWarning: The input looks more like a filename than markup. You may want to open this file and pass the filehandle into Beautiful Soup.\n",
      "  warnings.warn(\n"
     ]
    },
    {
     "name": "stdout",
     "output_type": "stream",
     "text": [
      "Percent: [------------------------------------------------->] 100%  Time: 59:5715754634 2642 1616\n",
      "Percent: [------------------------------------------------->] 100%  Time: 04:3915754634 4830 372\n",
      "Percent: [------------------------------------------------->] 100%  Time: 01:3915754634 9486 255\n",
      "Percent: [------------------------------------------------->] 100%  Time: 01:01"
     ]
    },
    {
     "ename": "FileNotFoundError",
     "evalue": "[Errno 2] No such file or directory: 'data\\\\20220711_0922_16996348_313-articles.json'",
     "output_type": "error",
     "traceback": [
      "\u001b[1;31m---------------------------------------------------------------------------\u001b[0m",
      "\u001b[1;31mFileNotFoundError\u001b[0m                         Traceback (most recent call last)",
      "\u001b[1;32mc:\\Users\\IPA\\Documents\\GitHub\\research\\naver_scraper.ipynb 셀 4\u001b[0m in \u001b[0;36m<cell line: 1>\u001b[1;34m()\u001b[0m\n\u001b[0;32m      <a href='vscode-notebook-cell:/c%3A/Users/IPA/Documents/GitHub/research/naver_scraper.ipynb#ch0000003?line=0'>1</a>\u001b[0m \u001b[39mfor\u001b[39;00m articleIDFile \u001b[39min\u001b[39;00m fileList:\n\u001b[1;32m----> <a href='vscode-notebook-cell:/c%3A/Users/IPA/Documents/GitHub/research/naver_scraper.ipynb#ch0000003?line=1'>2</a>\u001b[0m     articleIDList \u001b[39m=\u001b[39m iotools\u001b[39m.\u001b[39;49mload_from_json(dataDir \u001b[39m/\u001b[39;49m articleIDFile)\n\u001b[0;32m      <a href='vscode-notebook-cell:/c%3A/Users/IPA/Documents/GitHub/research/naver_scraper.ipynb#ch0000003?line=2'>3</a>\u001b[0m     cafeID, menuID \u001b[39m=\u001b[39m articleIDFile\u001b[39m.\u001b[39msplit(\u001b[39m'\u001b[39m\u001b[39m-\u001b[39m\u001b[39m'\u001b[39m)[\u001b[39m0\u001b[39m]\u001b[39m.\u001b[39msplit(\u001b[39m'\u001b[39m\u001b[39m_\u001b[39m\u001b[39m'\u001b[39m)[\u001b[39m2\u001b[39m:]\n\u001b[0;32m      <a href='vscode-notebook-cell:/c%3A/Users/IPA/Documents/GitHub/research/naver_scraper.ipynb#ch0000003?line=4'>5</a>\u001b[0m     articleFile \u001b[39m=\u001b[39m dataDir \u001b[39m/\u001b[39m \u001b[39mf\u001b[39m\u001b[39m'\u001b[39m\u001b[39m{\u001b[39;00mcafeID\u001b[39m}\u001b[39;00m\u001b[39m_\u001b[39m\u001b[39m{\u001b[39;00mmenuID\u001b[39m}\u001b[39;00m\u001b[39m-naver_cafe-article.csv\u001b[39m\u001b[39m'\u001b[39m\n",
      "File \u001b[1;32mc:\\Users\\IPA\\Documents\\GitHub\\research\\modules\\utils\\iotools.py:34\u001b[0m, in \u001b[0;36mload_from_json\u001b[1;34m(file)\u001b[0m\n\u001b[0;32m     33\u001b[0m \u001b[39mdef\u001b[39;00m \u001b[39mload_from_json\u001b[39m(file):\n\u001b[1;32m---> 34\u001b[0m     \u001b[39mwith\u001b[39;00m \u001b[39mopen\u001b[39;49m(file, \u001b[39m'\u001b[39;49m\u001b[39mr\u001b[39;49m\u001b[39m'\u001b[39;49m, encoding\u001b[39m=\u001b[39;49m\u001b[39m'\u001b[39;49m\u001b[39mutf-8\u001b[39;49m\u001b[39m'\u001b[39;49m) \u001b[39mas\u001b[39;00m f:\n\u001b[0;32m     35\u001b[0m         data \u001b[39m=\u001b[39m _json\u001b[39m.\u001b[39mload(f)\n\u001b[0;32m     37\u001b[0m     \u001b[39mreturn\u001b[39;00m data\n",
      "\u001b[1;31mFileNotFoundError\u001b[0m: [Errno 2] No such file or directory: 'data\\\\20220711_0922_16996348_313-articles.json'"
     ]
    }
   ],
   "source": [
    "for articleIDFile in fileList:\n",
    "    articleIDList = iotools.load_from_json(dataDir / articleIDFile)\n",
    "    cafeID, menuID = articleIDFile.split('-')[0].split('_')[2:]\n",
    "\n",
    "    articleFile = dataDir / f'{cafeID}_{menuID}-naver_cafe-article.csv'\n",
    "    commentFile = dataDir / f'{cafeID}_{menuID}-naver_cafe-comment.csv'\n",
    "\n",
    "    total = len(articleIDList)\n",
    "    tic = time.time()\n",
    "\n",
    "    print(cafeID, menuID, total)\n",
    "\n",
    "    for i, articleDict in enumerate(articleIDList):\n",
    "        articleID = articleDict['articleId']\n",
    "\n",
    "        url = naver.url_gen_read(cafeID, articleID)\n",
    "        article = naver.CafeArticle(articleID, menuID, cafeID)\n",
    "\n",
    "        try:\n",
    "            response = session.get(url)\n",
    "\n",
    "            if response.ok:\n",
    "                data = response.json()\n",
    "            result = data['result']\n",
    "\n",
    "            article.set_from_json(result)\n",
    "        except KeyboardInterrupt:\n",
    "            break\n",
    "        except:\n",
    "            print(i)\n",
    "            continue\n",
    "        else:\n",
    "            article.save_article(articleFile)\n",
    "            article.save_comment(commentFile)\n",
    "        finally:\n",
    "            timestamp.progress_bar(i+1, total, time.time()-tic)\n"
   ]
  },
  {
   "cell_type": "code",
   "execution_count": null,
   "id": "41c78efa",
   "metadata": {},
   "outputs": [],
   "source": []
  }
 ],
 "metadata": {
  "kernelspec": {
   "display_name": "Python 3.10.4 ('ipa')",
   "language": "python",
   "name": "python3"
  },
  "language_info": {
   "codemirror_mode": {
    "name": "ipython",
    "version": 3
   },
   "file_extension": ".py",
   "mimetype": "text/x-python",
   "name": "python",
   "nbconvert_exporter": "python",
   "pygments_lexer": "ipython3",
   "version": "3.10.4"
  },
  "vscode": {
   "interpreter": {
    "hash": "127933747ecba9126e28a10036a54dfd7b6dc9db982a54c945fac9a897c65713"
   }
  }
 },
 "nbformat": 4,
 "nbformat_minor": 5
}
