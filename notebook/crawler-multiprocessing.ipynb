{
 "cells": [
  {
   "cell_type": "code",
   "execution_count": 2,
   "metadata": {},
   "outputs": [],
   "source": [
    "import os, sys\n",
    "sys.path.append(os.path.abspath('../.'))"
   ]
  },
  {
   "cell_type": "code",
   "execution_count": 3,
   "metadata": {},
   "outputs": [],
   "source": [
    "import multiprocessing as mp\n",
    "\n",
    "from itertools import repeat\n",
    "from functools import partial\n",
    "\n",
    "from DataScraper import DataTools, scraper"
   ]
  },
  {
   "cell_type": "code",
   "execution_count": 9,
   "metadata": {},
   "outputs": [],
   "source": [
    "htmlSelect = 'div.news_area > a'\n",
    "urls = [scraper.make_url_naver('코로나', 2, _ * 10) for _ in range(10)]"
   ]
  },
  {
   "cell_type": "code",
   "execution_count": 12,
   "metadata": {
    "collapsed": true,
    "jupyter": {
     "outputs_hidden": true
    }
   },
   "outputs": [
    {
     "name": "stdout",
     "output_type": "stream",
     "text": [
      "[['http://www.rapportian.com/news/articleView.html?idxno=121307', 'http://www.asiatoday.co.kr/view.php?key=20191103010000392', 'http://nc.asiae.co.kr/view.htm?idxno=2019111108572524869', 'https://www.ytn.co.kr/_sn/0117_201911111052575549', 'https://www.ytn.co.kr/_sn/0117_201911111458255409', 'https://www.donga.com/news/article/all/20191111/98312079/1', 'http://yna.kr/AKR20191017162900805?did=1195m', 'https://view.asiae.co.kr/article/2019111020504964516', 'https://www.news1.kr/articles/?3766561', 'https://www.news1.kr/articles/?3766775'], ['https://www.news1.kr/articles/?3766775', 'http://news.mt.co.kr/mtview.php?no=2019111209215894624', 'http://www.newsen.com/news_view.php?uid=201911130848361910', 'http://www.tenasia.co.kr/archives/1853545', 'http://kookbang.dema.mil.kr/newsWeb/20191113/17/BBSMSTR_000000010060/view.do', 'http://www.leaders.kr/news/articleView.html?idxno=133572', 'http://www.dailygrid.net/news/articleView.html?idxno=379869', 'https://www.dailysecu.com/news/articleView.html?idxno=79067', 'http://www.naeil.com/news_view/?id_art=331509', 'http://www.cstimes.com/?mod=news&act=articleView&idxno=320615'], ['https://www.ibabynews.com/news/articleView.html?idxno=79737', 'http://www.newsis.com/view/?id=NISI20191114_0015805304', 'http://www.newsis.com/view/?id=NISI20191114_0015805305', 'http://www.k-health.com/news/articleView.html?idxno=46232', 'https://news.sbs.co.kr/news/endPage.do?news_id=N1005523071&plink=ORI&cooper=NAVER', 'http://www.rapportian.com/news/articleView.html?idxno=121453', 'http://www.fintechpost.co.kr/news/articleView.html?idxno=88141', 'http://www.pressian.com/news/article.html?no=265631&utm_source=naver&utm_medium=search', 'http://www.ebn.co.kr/news/view/1009450/?sc=naver', 'https://www.ytn.co.kr/_sn/0117_201911151533159220'], ['https://www.news1.kr/articles/?3770448', 'http://www.enewstoday.co.kr/news/articleView.html?idxno=1349557', 'https://nownews.seoul.co.kr/news/newsView.php?id=20191116601002&wlog_tag3=naver', 'http://www.babytimes.co.kr/news/articleView.html?idxno=31013', 'http://www.fintechpost.co.kr/news/articleView.html?idxno=88971', 'https://www.kpanews.co.kr/article/show.asp?idx=208613&category=G', 'https://www.ytn.co.kr/_sn/0117_201911181311242840', 'https://www.donga.com/news/article/all/20191118/98414939/1', 'http://yna.kr/AKR20191118074300009?did=1195m', 'http://www.dailian.co.kr/news/view/844457/?sc=naver'], ['http://www.ksmnews.co.kr/default/index_view_page.php?idx=271722&part_idx=373', 'https://www.news1.kr/articles/?3773090', 'http://www.kihoilbo.co.kr/news/articleView.html?idxno=837333', 'https://www.donga.com/news/article/all/20191120/98463338/1', 'http://www.donga.com/news/article/all/20191121/98464611/1', 'http://www.sportsseoul.com/news/read/851661', 'https://www.nocutnews.co.kr/news/5247108', 'http://www.newspim.com/news/view/20191121000429', 'https://view.asiae.co.kr/article/2019112111111250659', 'http://research-paper.co.kr/news/view/263911'], ['http://www.mdtoday.co.kr/mdtoday/index.html?no=370748', 'http://www.newstown.co.kr/news/articleView.html?idxno=435421', 'http://www.koreadaily.com/news/read.asp?art_id=7794788', 'http://www.mediapen.com/news/view/478532', 'http://www.meconomynews.com/news/articleView.html?idxno=35255', 'https://www.ibabynews.com/news/articleView.html?idxno=80020', 'http://www.legaltimes.co.kr/news/articleView.html?idxno=49741', 'http://isplus.live.joins.com/news/article/aid.asp?aid=23233157', 'http://news.kbs.co.kr/news/view.do?ncd=4329663&ref=A', 'http://news.mt.co.kr/mtview.php?no=2019112216035674680'], ['http://moneys.mt.co.kr/news/mwView.php?no=2019112110538093384', 'http://www.fnnews.com/news/201911240527219646', 'http://www.fntimes.com/html/view.php?ud=201911241754018396dd55077bc2_18', 'http://news.bbsi.co.kr/news/articleView.html?idxno=961940', 'https://www.kpanews.co.kr/article/show.asp?idx=208880&category=G', 'http://kbench.com/?q=node/205201', 'http://health.chosun.com/site/data/html_dir/2019/11/25/2019112502794.html', 'http://www.newsway.co.kr/news/view?tp=1&ud=2019112610372505547', 'http://www.veritas-a.com/news/articleView.html?idxno=304517', 'http://www.ajunews.com/view/20191126112219754'], ['http://www.thebell.co.kr/front/free/contents/news/article_view.asp?key=201911250100046950002890', 'https://www.news1.kr/articles/?3778573', 'http://www.wolyo.co.kr/news/articleView.html?idxno=98364', 'http://www.dhnews.co.kr/news/articleView.html?idxno=115198', 'https://www.dailysecu.com/news/articleView.html?idxno=81747', 'http://sports.khan.co.kr/news/sk_index.html?art_id=201911261624003&sec_id=560101&pt=nv', 'http://www.asiatoday.co.kr/view.php?key=20191126010015508', 'http://news.heraldcorp.com/view.php?ud=20191126000799', 'http://www.mdtoday.co.kr/mdtoday/index.html?no=371161', 'http://www.nongmin.com/article/ar_detail.htm?ar_id=304550'], ['http://www.yakup.com/pharmplus/index.html?mode=view&cat=132&cat2=462&nid=3000132246', 'http://www.g-enews.com/ko-kr/news/article/news_all/2019112710180571574e4869c120_1/article.html', 'http://yna.kr/AKR20191127087500371?did=1195m', 'https://view.asiae.co.kr/article/2019112808363438732', 'http://www.gnmaeil.com/news/articleView.html?idxno=433745', 'http://www.newsis.com/view/?id=NISX20191128_0000843740&cID=13001&pID=13000', 'http://www.paxetv.com/news/articleView.html?idxno=82399', 'http://www.thekpm.com/view.php?ud=20191128092336820648e3dd6dd5_17', 'http://www.newspost.kr/news/articleView.html?idxno=74057', 'http://www.fnnews.com/news/201911280958320657'], ['http://www.polinews.co.kr/news/article.html?no=436721', 'http://biz.newdaily.co.kr/site/data/html/2019/11/28/2019112800031.html', 'http://www.edaily.co.kr/news/newspath.asp?newsid=02220566622690312', 'http://www.greenpostkorea.co.kr/news/articleView.html?idxno=111510', 'http://www.notepet.co.kr/news/article/article_view/?idx=17530&groupCode=AB120AD120', 'http://kpenews.com/View.aspx?No=336812', 'http://www.thefirstmedia.net/news/articleView.html?idxno=51211', 'http://www.metroseoul.co.kr/news/newsview?newscd=2019112800074', 'http://www.kdfnews.com/news/articleView.html?idxno=40662', 'http://weekly.cnbnews.com/news/article.html?no=131345']]\n",
      "Wall time: 9.6 s\n"
     ]
    }
   ],
   "source": [
    "%%time\n",
    "print([DataTools.get_href(url, htmlSelect) for url in urls])"
   ]
  },
  {
   "cell_type": "code",
   "execution_count": 6,
   "metadata": {
    "collapsed": true,
    "jupyter": {
     "outputs_hidden": true
    }
   },
   "outputs": [
    {
     "name": "stdout",
     "output_type": "stream",
     "text": [
      "[['http://www.rapportian.com/news/articleView.html?idxno=121307', 'http://www.asiatoday.co.kr/view.php?key=20191103010000392', 'http://nc.asiae.co.kr/view.htm?idxno=2019111108572524869', 'https://www.ytn.co.kr/_sn/0117_201911111052575549', 'https://www.ytn.co.kr/_sn/0117_201911111458255409', 'https://www.donga.com/news/article/all/20191111/98312079/1', 'http://yna.kr/AKR20191017162900805?did=1195m', 'https://view.asiae.co.kr/article/2019111020504964516', 'https://www.news1.kr/articles/?3766561', 'https://www.news1.kr/articles/?3766775'], ['https://www.news1.kr/articles/?3766775', 'http://news.mt.co.kr/mtview.php?no=2019111209215894624', 'http://www.newsen.com/news_view.php?uid=201911130848361910', 'http://www.tenasia.co.kr/archives/1853545', 'http://kookbang.dema.mil.kr/newsWeb/20191113/17/BBSMSTR_000000010060/view.do', 'http://www.leaders.kr/news/articleView.html?idxno=133572', 'http://www.dailygrid.net/news/articleView.html?idxno=379869', 'https://www.dailysecu.com/news/articleView.html?idxno=79067', 'http://www.naeil.com/news_view/?id_art=331509', 'http://www.cstimes.com/?mod=news&act=articleView&idxno=320615'], ['https://www.ibabynews.com/news/articleView.html?idxno=79737', 'http://www.newsis.com/view/?id=NISI20191114_0015805304', 'http://www.newsis.com/view/?id=NISI20191114_0015805305', 'http://www.k-health.com/news/articleView.html?idxno=46232', 'https://news.sbs.co.kr/news/endPage.do?news_id=N1005523071&plink=ORI&cooper=NAVER', 'http://www.rapportian.com/news/articleView.html?idxno=121453', 'http://www.fintechpost.co.kr/news/articleView.html?idxno=88141', 'http://www.pressian.com/news/article.html?no=265631&utm_source=naver&utm_medium=search', 'http://www.ebn.co.kr/news/view/1009450/?sc=naver', 'https://www.ytn.co.kr/_sn/0117_201911151533159220'], ['https://www.news1.kr/articles/?3770448', 'http://www.enewstoday.co.kr/news/articleView.html?idxno=1349557', 'https://nownews.seoul.co.kr/news/newsView.php?id=20191116601002&wlog_tag3=naver', 'http://www.babytimes.co.kr/news/articleView.html?idxno=31013', 'http://www.fintechpost.co.kr/news/articleView.html?idxno=88971', 'https://www.kpanews.co.kr/article/show.asp?idx=208613&category=G', 'https://www.ytn.co.kr/_sn/0117_201911181311242840', 'https://www.donga.com/news/article/all/20191118/98414939/1', 'http://yna.kr/AKR20191118074300009?did=1195m', 'http://www.dailian.co.kr/news/view/844457/?sc=naver'], ['http://www.ksmnews.co.kr/default/index_view_page.php?idx=271722&part_idx=373', 'https://www.news1.kr/articles/?3773090', 'http://www.kihoilbo.co.kr/news/articleView.html?idxno=837333', 'https://www.donga.com/news/article/all/20191120/98463338/1', 'http://www.donga.com/news/article/all/20191121/98464611/1', 'http://www.sportsseoul.com/news/read/851661', 'https://www.nocutnews.co.kr/news/5247108', 'http://www.newspim.com/news/view/20191121000429', 'https://view.asiae.co.kr/article/2019112111111250659', 'http://research-paper.co.kr/news/view/263911'], ['http://www.mdtoday.co.kr/mdtoday/index.html?no=370748', 'http://www.newstown.co.kr/news/articleView.html?idxno=435421', 'http://www.koreadaily.com/news/read.asp?art_id=7794788', 'http://www.mediapen.com/news/view/478532', 'http://www.meconomynews.com/news/articleView.html?idxno=35255', 'https://www.ibabynews.com/news/articleView.html?idxno=80020', 'http://www.legaltimes.co.kr/news/articleView.html?idxno=49741', 'http://isplus.live.joins.com/news/article/aid.asp?aid=23233157', 'http://news.kbs.co.kr/news/view.do?ncd=4329663&ref=A', 'http://news.mt.co.kr/mtview.php?no=2019112216035674680'], ['http://moneys.mt.co.kr/news/mwView.php?no=2019112110538093384', 'http://www.fnnews.com/news/201911240527219646', 'http://www.fntimes.com/html/view.php?ud=201911241754018396dd55077bc2_18', 'http://news.bbsi.co.kr/news/articleView.html?idxno=961940', 'https://www.kpanews.co.kr/article/show.asp?idx=208880&category=G', 'http://kbench.com/?q=node/205201', 'http://health.chosun.com/site/data/html_dir/2019/11/25/2019112502794.html', 'http://www.newsway.co.kr/news/view?tp=1&ud=2019112610372505547', 'http://www.veritas-a.com/news/articleView.html?idxno=304517', 'http://www.ajunews.com/view/20191126112219754'], ['http://www.thebell.co.kr/front/free/contents/news/article_view.asp?key=201911250100046950002890', 'https://www.news1.kr/articles/?3778573', 'http://www.wolyo.co.kr/news/articleView.html?idxno=98364', 'http://www.dhnews.co.kr/news/articleView.html?idxno=115198', 'https://www.dailysecu.com/news/articleView.html?idxno=81747', 'http://sports.khan.co.kr/news/sk_index.html?art_id=201911261624003&sec_id=560101&pt=nv', 'http://www.asiatoday.co.kr/view.php?key=20191126010015508', 'http://news.heraldcorp.com/view.php?ud=20191126000799', 'http://www.mdtoday.co.kr/mdtoday/index.html?no=371161', 'http://www.nongmin.com/article/ar_detail.htm?ar_id=304550'], ['http://www.yakup.com/pharmplus/index.html?mode=view&cat=132&cat2=462&nid=3000132246', 'http://www.g-enews.com/ko-kr/news/article/news_all/2019112710180571574e4869c120_1/article.html', 'http://yna.kr/AKR20191127087500371?did=1195m', 'https://view.asiae.co.kr/article/2019112808363438732', 'http://www.gnmaeil.com/news/articleView.html?idxno=433745', 'http://www.newsis.com/view/?id=NISX20191128_0000843740&cID=13001&pID=13000', 'http://www.paxetv.com/news/articleView.html?idxno=82399', 'http://www.thekpm.com/view.php?ud=20191128092336820648e3dd6dd5_17', 'http://www.newspost.kr/news/articleView.html?idxno=74057', 'http://www.fnnews.com/news/201911280958320657'], ['http://www.polinews.co.kr/news/article.html?no=436721', 'http://biz.newdaily.co.kr/site/data/html/2019/11/28/2019112800031.html', 'http://www.edaily.co.kr/news/newspath.asp?newsid=02220566622690312', 'http://www.greenpostkorea.co.kr/news/articleView.html?idxno=111510', 'http://www.notepet.co.kr/news/article/article_view/?idx=17530&groupCode=AB120AD120', 'http://kpenews.com/View.aspx?No=336812', 'http://www.thefirstmedia.net/news/articleView.html?idxno=51211', 'http://www.metroseoul.co.kr/news/newsview?newscd=2019112800074', 'http://www.kdfnews.com/news/articleView.html?idxno=40662', 'http://weekly.cnbnews.com/news/article.html?no=131345']]\n",
      "Wall time: 5.21 s\n"
     ]
    }
   ],
   "source": [
    "%%time\n",
    "if __name__ == '__main__':\n",
    "    get_href = partial(DataTools.get_href, selector=htmlSelect)\n",
    "    \n",
    "    with mp.Pool(mp.cpu_count()) as pool:\n",
    "        print(pool.map(get_href, urls))\n",
    "        pool.close()\n",
    "        pool.join()"
   ]
  },
  {
   "cell_type": "code",
   "execution_count": 7,
   "metadata": {
    "collapsed": true,
    "jupyter": {
     "outputs_hidden": true
    }
   },
   "outputs": [
    {
     "name": "stdout",
     "output_type": "stream",
     "text": [
      "[['http://www.rapportian.com/news/articleView.html?idxno=121307', 'http://www.asiatoday.co.kr/view.php?key=20191103010000392', 'http://nc.asiae.co.kr/view.htm?idxno=2019111108572524869', 'https://www.ytn.co.kr/_sn/0117_201911111052575549', 'https://www.ytn.co.kr/_sn/0117_201911111458255409', 'https://www.donga.com/news/article/all/20191111/98312079/1', 'http://yna.kr/AKR20191017162900805?did=1195m', 'https://view.asiae.co.kr/article/2019111020504964516', 'https://www.news1.kr/articles/?3766561', 'https://www.news1.kr/articles/?3766775'], ['https://www.news1.kr/articles/?3766775', 'http://news.mt.co.kr/mtview.php?no=2019111209215894624', 'http://www.newsen.com/news_view.php?uid=201911130848361910', 'http://www.tenasia.co.kr/archives/1853545', 'http://kookbang.dema.mil.kr/newsWeb/20191113/17/BBSMSTR_000000010060/view.do', 'http://www.leaders.kr/news/articleView.html?idxno=133572', 'http://www.dailygrid.net/news/articleView.html?idxno=379869', 'https://www.dailysecu.com/news/articleView.html?idxno=79067', 'http://www.naeil.com/news_view/?id_art=331509', 'http://www.cstimes.com/?mod=news&act=articleView&idxno=320615'], ['https://www.ibabynews.com/news/articleView.html?idxno=79737', 'http://www.newsis.com/view/?id=NISI20191114_0015805304', 'http://www.newsis.com/view/?id=NISI20191114_0015805305', 'http://www.k-health.com/news/articleView.html?idxno=46232', 'https://news.sbs.co.kr/news/endPage.do?news_id=N1005523071&plink=ORI&cooper=NAVER', 'http://www.rapportian.com/news/articleView.html?idxno=121453', 'http://www.fintechpost.co.kr/news/articleView.html?idxno=88141', 'http://www.pressian.com/news/article.html?no=265631&utm_source=naver&utm_medium=search', 'http://www.ebn.co.kr/news/view/1009450/?sc=naver', 'https://www.ytn.co.kr/_sn/0117_201911151533159220'], ['https://www.news1.kr/articles/?3770448', 'http://www.enewstoday.co.kr/news/articleView.html?idxno=1349557', 'https://nownews.seoul.co.kr/news/newsView.php?id=20191116601002&wlog_tag3=naver', 'http://www.babytimes.co.kr/news/articleView.html?idxno=31013', 'http://www.fintechpost.co.kr/news/articleView.html?idxno=88971', 'https://www.kpanews.co.kr/article/show.asp?idx=208613&category=G', 'https://www.ytn.co.kr/_sn/0117_201911181311242840', 'https://www.donga.com/news/article/all/20191118/98414939/1', 'http://yna.kr/AKR20191118074300009?did=1195m', 'http://www.dailian.co.kr/news/view/844457/?sc=naver'], ['http://www.ksmnews.co.kr/default/index_view_page.php?idx=271722&part_idx=373', 'https://www.news1.kr/articles/?3773090', 'http://www.kihoilbo.co.kr/news/articleView.html?idxno=837333', 'https://www.donga.com/news/article/all/20191120/98463338/1', 'http://www.donga.com/news/article/all/20191121/98464611/1', 'http://www.sportsseoul.com/news/read/851661', 'https://www.nocutnews.co.kr/news/5247108', 'http://www.newspim.com/news/view/20191121000429', 'https://view.asiae.co.kr/article/2019112111111250659', 'http://research-paper.co.kr/news/view/263911'], ['http://www.mdtoday.co.kr/mdtoday/index.html?no=370748', 'http://www.newstown.co.kr/news/articleView.html?idxno=435421', 'http://www.koreadaily.com/news/read.asp?art_id=7794788', 'http://www.mediapen.com/news/view/478532', 'http://www.meconomynews.com/news/articleView.html?idxno=35255', 'https://www.ibabynews.com/news/articleView.html?idxno=80020', 'http://www.legaltimes.co.kr/news/articleView.html?idxno=49741', 'http://isplus.live.joins.com/news/article/aid.asp?aid=23233157', 'http://news.kbs.co.kr/news/view.do?ncd=4329663&ref=A', 'http://news.mt.co.kr/mtview.php?no=2019112216035674680'], ['http://moneys.mt.co.kr/news/mwView.php?no=2019112110538093384', 'http://www.fnnews.com/news/201911240527219646', 'http://www.fntimes.com/html/view.php?ud=201911241754018396dd55077bc2_18', 'http://news.bbsi.co.kr/news/articleView.html?idxno=961940', 'https://www.kpanews.co.kr/article/show.asp?idx=208880&category=G', 'http://kbench.com/?q=node/205201', 'http://health.chosun.com/site/data/html_dir/2019/11/25/2019112502794.html', 'http://www.newsway.co.kr/news/view?tp=1&ud=2019112610372505547', 'http://www.veritas-a.com/news/articleView.html?idxno=304517', 'http://www.ajunews.com/view/20191126112219754'], ['http://www.thebell.co.kr/front/free/contents/news/article_view.asp?key=201911250100046950002890', 'https://www.news1.kr/articles/?3778573', 'http://www.wolyo.co.kr/news/articleView.html?idxno=98364', 'http://www.dhnews.co.kr/news/articleView.html?idxno=115198', 'https://www.dailysecu.com/news/articleView.html?idxno=81747', 'http://sports.khan.co.kr/news/sk_index.html?art_id=201911261624003&sec_id=560101&pt=nv', 'http://www.asiatoday.co.kr/view.php?key=20191126010015508', 'http://news.heraldcorp.com/view.php?ud=20191126000799', 'http://www.mdtoday.co.kr/mdtoday/index.html?no=371161', 'http://www.nongmin.com/article/ar_detail.htm?ar_id=304550'], ['http://www.yakup.com/pharmplus/index.html?mode=view&cat=132&cat2=462&nid=3000132246', 'http://www.g-enews.com/ko-kr/news/article/news_all/2019112710180571574e4869c120_1/article.html', 'http://yna.kr/AKR20191127087500371?did=1195m', 'https://view.asiae.co.kr/article/2019112808363438732', 'http://www.gnmaeil.com/news/articleView.html?idxno=433745', 'http://www.newsis.com/view/?id=NISX20191128_0000843740&cID=13001&pID=13000', 'http://www.paxetv.com/news/articleView.html?idxno=82399', 'http://www.thekpm.com/view.php?ud=20191128092336820648e3dd6dd5_17', 'http://www.newspost.kr/news/articleView.html?idxno=74057', 'http://www.fnnews.com/news/201911280958320657'], ['http://www.polinews.co.kr/news/article.html?no=436721', 'http://biz.newdaily.co.kr/site/data/html/2019/11/28/2019112800031.html', 'http://www.edaily.co.kr/news/newspath.asp?newsid=02220566622690312', 'http://www.greenpostkorea.co.kr/news/articleView.html?idxno=111510', 'http://www.notepet.co.kr/news/article/article_view/?idx=17530&groupCode=AB120AD120', 'http://kpenews.com/View.aspx?No=336812', 'http://www.thefirstmedia.net/news/articleView.html?idxno=51211', 'http://www.metroseoul.co.kr/news/newsview?newscd=2019112800074', 'http://www.kdfnews.com/news/articleView.html?idxno=40662', 'http://weekly.cnbnews.com/news/article.html?no=131345']]\n",
      "Wall time: 4.75 s\n"
     ]
    }
   ],
   "source": [
    "%%time\n",
    "if __name__ == '__main__':\n",
    "    urlSelect = zip(urls, repeat(htmlSelect))\n",
    "    \n",
    "    with mp.Pool(mp.cpu_count()) as pool:\n",
    "        print(pool.starmap(DataTools.get_href, urlSelect))\n",
    "        pool.close()\n",
    "        pool.join()"
   ]
  },
  {
   "cell_type": "code",
   "execution_count": 10,
   "metadata": {},
   "outputs": [
    {
     "name": "stdout",
     "output_type": "stream",
     "text": [
      "Wall time: 0 ns\n"
     ]
    }
   ],
   "source": [
    "%%time\n",
    "# if __name__ == '__main__':\n",
    "#     urls = set()\n",
    "    \n",
    "#     with mp.Pool(mp.cpu_count()) as pool:\n",
    "#         urls.union(pool.map(scraper.main, range(10)))\n",
    "#         pool.close()\n",
    "#         pool.join()"
   ]
  },
  {
   "cell_type": "code",
   "execution_count": null,
   "metadata": {},
   "outputs": [],
   "source": []
  }
 ],
 "metadata": {
  "kernelspec": {
   "display_name": "isProject",
   "language": "python",
   "name": "proj"
  },
  "language_info": {
   "codemirror_mode": {
    "name": "ipython",
    "version": 3
   },
   "file_extension": ".py",
   "mimetype": "text/x-python",
   "name": "python",
   "nbconvert_exporter": "python",
   "pygments_lexer": "ipython3",
   "version": "3.7.9"
  }
 },
 "nbformat": 4,
 "nbformat_minor": 4
}
