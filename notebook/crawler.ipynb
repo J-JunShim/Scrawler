{
 "cells": [
  {
   "cell_type": "code",
   "execution_count": 2,
   "metadata": {},
   "outputs": [
    {
     "name": "stdout",
     "output_type": "stream",
     "text": [
      "[1, 2, 3, 4, 5, 7, 9, 6, 8]\n"
     ]
    }
   ],
   "source": [
    "graph={\n",
    "1:[2,3],\n",
    "2:[1,4,5,7],\n",
    "3:[1,5,9],\n",
    "4:[2,6],\n",
    "5:[2,3,7,8],\n",
    "6:[4],\n",
    "7:[5,2],\n",
    "8:[5],\n",
    "9:[3],\n",
    "}\n",
    "\n",
    "def BFS(graph,root):\n",
    "    visited=[]\n",
    "    queue=[root]\n",
    "\n",
    "    while queue:#while queue is not empty\n",
    "        n = queue.pop(0)\n",
    "        if n not in visited:#if n is not in visited list.\n",
    "            visited.append(n)#put the n to the visited list.\n",
    "        for i in graph[n]:#the numbers i connected with n\n",
    "            if i not in visited:#i is not in visited list.\n",
    "                queue.append(i)#put the i to the queue.\n",
    "                \n",
    "    return visited\n",
    "print(BFS(graph,1))"
   ]
  },
  {
   "cell_type": "code",
   "execution_count": 3,
   "metadata": {},
   "outputs": [
    {
     "name": "stdout",
     "output_type": "stream",
     "text": [
      "{'start_year': 2017, 'start_month': 1, 'end_year': 2018, 'end_month': 4}\n"
     ]
    }
   ],
   "source": [
    "from korea_news_crawler.articlecrawler import ArticleCrawler\n",
    "\n",
    "Crawler = ArticleCrawler()  \n",
    "Crawler.set_category(\"정치\", \"IT과학\", \"economy\")  \n",
    "Crawler.set_date_range(2017, 1, 2018, 4)  \n",
    "Crawler.start()"
   ]
  },
  {
   "cell_type": "code",
   "execution_count": null,
   "metadata": {},
   "outputs": [],
   "source": [
    "https://search.naver.com/search.naver?\n",
    "where=news\n",
    "&sm=tab_jum\n",
    "&query=%EC%BD%94%EB%A1%9C%EB%82%98\n",
    "\n",
    "https://search.naver.com/search.naver?\n",
    "&where=news\n",
    "&query=%EC%BD%94%EB%A1%9C%EB%82%98\n",
    "&sm=tab_pge\n",
    "&sort=0\n",
    "&photo=0\n",
    "&field=0\n",
    "&reporter_article=\n",
    "&pd=0\n",
    "&ds=\n",
    "&de=\n",
    "&docid=\n",
    "&nso=so:r,p:all,a:all\n",
    "&mynews=0\n",
    "&cluster_rank=33\n",
    "&start=11\n",
    "&refresh_start=0\n",
    "\n",
    "https://search.naver.com/search.naver?\n",
    "where=news\n",
    "&query=%EC%BD%94%EB%A1%9C%EB%82%98\n",
    "&sm=tab_srt\n",
    "&sort=1\n",
    "&photo=0\n",
    "&field=0\n",
    "&reporter_article=\n",
    "&pd=0\n",
    "&ds=\n",
    "&de=\n",
    "&docid=\n",
    "&nso=so%3Add%2Cp%3Aall%2Ca%3Aall\n",
    "&mynews=0\n",
    "&refresh_start=0\n",
    "&related=0"
   ]
  },
  {
   "cell_type": "code",
   "execution_count": null,
   "metadata": {},
   "outputs": [],
   "source": [
    "https://search.naver.com/search.naver?&where=news&query=%EC%BD%94%EB%A1%9C%EB%82%98&sm=tab_pge&sort=0&photo=0&field=0&reporter_article=&pd=0&ds=&de=&docid=\n",
    "    &nso=so:r,p:all,a:all\n",
    "                &mynews=0&cluster_rank=59&start=11&refresh_start=0\n",
    "                \n",
    "https://search.naver.com/search.naver?where=news&query=%EC%BD%94%EB%A1%9C%EB%82%98&sm=tab_opt&sort=0&photo=0&field=0&reporter_article=&pd=3&ds=2020.10.31&de=2020.10.31&docid=&nso=so%3Ar%2Cp%3Afrom20201031to20201031%2Ca%3Aall&mynews=0&refresh_start=0&related=0\n",
    "    \n",
    "https://search.naver.com/search.naver?where=news&query=%EC%BD%94%EB%A1%9C%EB%82%98&sm=tab_srt&sort=1&photo=0&field=0&reporter_article=&pd=3&ds=2020.10.31&de=2020.10.31&docid=&nso=so%3Add%2Cp%3Afrom20201031to20201031%2Ca%3Aall&mynews=0&refresh_start=0&related=0\n",
    "    \n",
    "https://search.naver.com/search.naver?where=news&query=%EC%BD%94%EB%A1%9C%EB%82%98&sm=tab_opt&sort=1&photo=0&field=0&reporter_article=&pd=4&ds=&de=&docid=\n",
    "    &nso=so%3Add%2Cp%3A1d%2Ca%3Aall\n",
    "    &mynews=0&refresh_start=0&related=0\n",
    "    \n",
    "https://search.naver.com/search.naver?where=news&query=%EC%BD%94%EB%A1%9C%EB%82%98&sm=tab_opt&sort=1&photo=3&field=0&reporter_article=&pd=3&ds=2020.10.31&de=2020.10.31&docid=\n",
    "    &nso=so%3Add%2Cp%3Afrom20201031to20201031%2Ca%3Aall\n",
    "    &mynews=0&refresh_start=0&related=0\n",
    "    \n",
    "https://search.naver.com/search.naver?where=news&query=%EC%BD%94%EB%A1%9C%EB%82%98&sm=tab_srt&sort=2&photo=3&field=0&reporter_article=&pd=5&ds=2019.11.02&de=2020.11.01&docid=&nso=so%3Ada%2Cp%3A1y%2Ca%3Aall&mynews=0&refresh_start=0&related=0"
   ]
  },
  {
   "cell_type": "code",
   "execution_count": 2,
   "metadata": {},
   "outputs": [],
   "source": [
    "def make_url(query, sort, start):\n",
    "    where = 'news'\n",
    "    sms = ['jum', 'pge', 'srt', 'opt'][3]\n",
    "    sm = f'tab_{sms}'\n",
    "    sort = [0, 1, 2][sort]\n",
    "    ds = '2020.10.31'\n",
    "    de = '2020.10.31'\n",
    "    nso = 'so%3Add%2Cp%3Afrom20201031to20201031%2Ca%3Aall'\n",
    "\n",
    "    url = f'https://search.naver.com/search.naver?where={where}&query={query}&sm={sm}&sort={sort}&nso={nso}&start={start}'\n",
    "    \n",
    "    return url"
   ]
  },
  {
   "cell_type": "code",
   "execution_count": 1,
   "metadata": {},
   "outputs": [],
   "source": [
    "import os, sys\n",
    "sys.path.append(os.path.abspath('../.'))"
   ]
  },
  {
   "cell_type": "code",
   "execution_count": 5,
   "metadata": {},
   "outputs": [],
   "source": [
    "from DataScraper import main, DataTools"
   ]
  },
  {
   "cell_type": "code",
   "execution_count": 3,
   "metadata": {},
   "outputs": [],
   "source": [
    "import multiprocessing as mp\n",
    "\n",
    "from itertools import repeat"
   ]
  },
  {
   "cell_type": "code",
   "execution_count": 50,
   "metadata": {
    "collapsed": true,
    "jupyter": {
     "outputs_hidden": true
    }
   },
   "outputs": [
    {
     "name": "stdout",
     "output_type": "stream",
     "text": [
      "[['http://news.tf.co.kr/read/economy/1821695.htm', 'http://news.tf.co.kr/read/life/1821727.htm', 'http://www.wowtv.co.kr/NewsCenter/News/Read?articleId=A202010300337&t=NN', 'http://www.ajunews.com/view/20201030192538025', 'http://news.tf.co.kr/read/entertain/1821667.htm', 'http://www.laborplus.co.kr/news/articleView.html?idxno=25712', 'http://news.tf.co.kr/read/economy/1821551.htm', 'http://news.tf.co.kr/read/economy/1821724.htm', 'http://www.newsis.com/view/?id=NISX20201030_0001216988&cID=13001&pID=13000', 'http://news.mk.co.kr/newsRead.php?no=1117278&year=2020'], ['http://www.newsworks.co.kr/news/articleView.html?idxno=499499', 'http://www.sisamagazine.co.kr/news/articleView.html?idxno=334626', 'http://www.inews24.com/view/1312343', 'http://news.tf.co.kr/read/ptoday/1821731.htm', 'http://www.edaily.co.kr/news/newspath.asp?newsid=01098806625938496', 'https://www.dailian.co.kr/news/view/932477/?sc=Naver', 'https://www.dailian.co.kr/news/view/932489/?sc=Naver', 'http://mksports.co.kr/view/2020/1117274/', 'http://www.k-health.com/news/articleView.html?idxno=50755', 'http://www.inews24.com/view/1310668'], ['http://news.tf.co.kr/read/economy/1821741.htm', 'http://www.newsworks.co.kr/news/articleView.html?idxno=499499', 'http://www.sisamagazine.co.kr/news/articleView.html?idxno=334626', 'https://www.dailian.co.kr/news/view/932477/?sc=Naver', 'http://www.inews24.com/view/1312343', 'http://www.inews24.com/view/1310661', 'https://www.dailian.co.kr/news/view/932307/?sc=Naver', 'http://digitalchosun.dizzo.com/site/data/html_dir/2020/10/30/2020103080167.html', 'https://www.theguru.co.kr/news/article.html?no=15684', 'http://news.kmib.co.kr/article/view.asp?arcid=0015166454&code=61161211&cp=nv'], ['http://www.idjnews.kr/news/articleView.html?idxno=126097', 'https://www.theguru.co.kr/news/article.html?no=15684', 'http://news.kmib.co.kr/article/view.asp?arcid=0015166454&code=61161211&cp=nv', 'http://news.joins.com/article/olink/23502794', 'https://www.theguru.co.kr/news/article.html?no=15581', 'http://www.phmbc.co.kr/www/news/desk_news?idx=172450&mode=view', 'http://www.hkbs.co.kr/news/articleView.html?idxno=596236', 'http://www.newsfreezone.co.kr/news/articleView.html?idxno=270915', 'http://www.joongdo.co.kr/web/view.php?key=20201031010008870', 'http://www.kukinews.com/newsView/kuk202010300405'], ['https://www.chosun.com/sports/baseball/2020/10/31/3QJZACWENJD23DMNGQ6PWOYXVE/?utm_source=naver&utm_medium=original&utm_campaign=news', 'http://www.kukinews.com/newsView/kuk202010300278', 'https://www.hankyung.com/opinion/article/2020103084441', 'http://www.kukinews.com/newsView/kuk202010300405', 'http://www.hkbs.co.kr/news/articleView.html?idxno=596236', 'http://news.joins.com/article/olink/23502795', 'http://news.joins.com/article/olink/23502796', 'http://theleader.mt.co.kr/articleView.html?no=2020103023587897708', 'https://www.hankyung.com/opinion/article/2020103084451', 'http://www.newsdigm.com/22173'], ['http://news.mk.co.kr/newsRead.php?no=1117282&year=2020', 'http://www.ccreview.co.kr/news/articleView.html?idxno=293739', 'http://www.kgdm.co.kr/news/articleView.html?idxno=722672', 'https://ilyo.co.kr/?ac=article_view&entry_id=383492', 'https://www.news1.kr/articles/?4104479', 'https://www.theguru.co.kr/news/article.html?no=15557', 'http://www.g-enews.com/ko-kr/news/article/news_all/2020103023370787599ecba8d8b8_1/article.html', 'http://www.fomos.kr/redirect/news_view?news_cate_id=5&entry_id=94372', 'http://www.eduinnews.co.kr/news/articleView.html?idxno=36092', 'http://www.ajunews.com/view/20201030114519794'], ['https://www.news1.kr/articles/?4104490', 'http://www.ajunews.com/view/20201030114519794', 'http://www.skyedaily.com/news/news_view.html?ID=114754', 'https://www.hankyung.com/opinion/article/2020103084411', 'http://www.newscj.com/news/articleView.html?idxno=794738', 'http://www.ecomedia.co.kr/news/newsview.php?ncode=1065625096144173', 'http://www.edaily.co.kr/news/newspath.asp?newsid=01105366625938496', 'http://news.joins.com/article/olink/23502802', 'http://www.thegolftimes.co.kr/news/articleView.html?idxno=47661', 'https://news.sbs.co.kr/news/endPage.do?news_id=N1006051272&plink=ORI&cooper=NAVER'], ['http://www.thegolftimes.co.kr/news/articleView.html?idxno=47661', 'http://www.slist.kr/news/articleView.html?idxno=196836', 'https://www.news1.kr/photos/view/?4457064', 'http://www.fnnews.com/news/202010301831200996', 'http://www.newscape.co.kr/news/view.php?idx=54583', 'http://www.fnnews.com/news/202010310003186267', 'http://www.srtimes.kr/news/articleView.html?idxno=77359', 'http://news.kbs.co.kr/news/view.do?ncd=5038066&ref=A', 'http://www.newsdigm.com/22174', 'http://www.g-enews.com/ko-kr/news/article/news_all/2020103100092324929ecba8d8b8_1/article.html'], ['http://www.g-enews.com/ko-kr/news/article/news_all/2020103100092324929ecba8d8b8_1/article.html', 'http://news.kbs.co.kr/news/view.do?ncd=5038051&ref=A', 'http://www.edupress.kr/news/articleView.html?idxno=6455', 'http://news.kbs.co.kr/news/view.do?ncd=5038052&ref=A', 'http://news.kbs.co.kr/news/view.do?ncd=5038057&ref=A', 'http://news.kbs.co.kr/news/view.do?ncd=5038056&ref=A', 'https://www.techm.kr/news/articleView.html?idxno=76813', 'http://www.womaneconomy.kr/news/articleView.html?idxno=95225', 'http://news.einfomax.co.kr/news/articleView.html?idxno=4114989', 'http://www.joongdo.co.kr/web/view.php?key=20201031010008874'], ['http://www.econotelling.com/news/articleView.html?idxno=3936', 'http://mksports.co.kr/view/2020/1117306/', 'https://www.ytn.co.kr/_ln/0102_202010310018069894', 'https://news.joins.com/article/olink/23502803', 'https://www.newsen.com/news_view.php?uid=202010310019360410', 'http://www.joongdo.co.kr/web/view.php?key=20201031010008875', 'http://www.econotelling.com/news/articleView.html?idxno=3937', 'http://news.joins.com/article/olink/23502808', 'http://news.joins.com/article/olink/23502812', 'http://news.joins.com/article/olink/23502824']]\n",
      "Wall time: 6.85 s\n"
     ]
    }
   ],
   "source": [
    "%%time\n",
    "if __name__ == '__main__':\n",
    "    htmlSelect = 'div.news_area > a'\n",
    "    urls = [make_url('코로나', 2, _ * 10) for _ in range(10)]\n",
    "    get_href = partial(DataTools.get_href, select=htmlSelect)\n",
    "    \n",
    "    with mp.Pool(mp.cpu_count()) as pool:\n",
    "        print(pool.map(get_href, urls))"
   ]
  },
  {
   "cell_type": "code",
   "execution_count": 7,
   "metadata": {
    "collapsed": true,
    "jupyter": {
     "outputs_hidden": true
    }
   },
   "outputs": [
    {
     "name": "stdout",
     "output_type": "stream",
     "text": [
      "[['http://www.laborplus.co.kr/news/articleView.html?idxno=25712', 'http://www.wowtv.co.kr/NewsCenter/News/Read?articleId=A202010300337&t=NN', 'http://news.tf.co.kr/read/entertain/1821667.htm', 'http://news.tf.co.kr/read/economy/1821724.htm', 'http://www.newsis.com/view/?id=NISX20201030_0001216988&cID=13001&pID=13000', 'http://www.ajunews.com/view/20201030192538025', 'http://news.tf.co.kr/read/economy/1821695.htm', 'http://news.tf.co.kr/read/life/1821727.htm', 'http://news.tf.co.kr/read/economy/1821551.htm', 'http://www.newsworks.co.kr/news/articleView.html?idxno=499499'], ['http://mksports.co.kr/view/2020/1117274/', 'http://www.inews24.com/view/1310668', 'http://www.k-health.com/news/articleView.html?idxno=50755', 'https://www.dailian.co.kr/news/view/932477/?sc=Naver', 'http://news.mk.co.kr/newsRead.php?no=1117278&year=2020', 'http://www.mydaily.co.kr/new_yk/html/read.php?newsid=202010302228154942&ext=na', 'http://news.tf.co.kr/read/economy/1821741.htm', 'http://www.inews24.com/view/1312343', 'https://www.asiatoday.co.kr/view.php?key=20201030010018849', 'https://www.ytn.co.kr/_ln/0103_202010310001136553'], ['http://www.inews24.com/view/1310661', 'https://www.dailian.co.kr/news/view/932307/?sc=Naver', 'http://digitalchosun.dizzo.com/site/data/html_dir/2020/10/30/2020103080167.html', 'http://www.newsworks.co.kr/news/articleView.html?idxno=499499', 'http://www.sisamagazine.co.kr/news/articleView.html?idxno=334626', 'http://news.tf.co.kr/read/ptoday/1821731.htm', 'http://www.edaily.co.kr/news/newspath.asp?newsid=01098806625938496', 'https://www.dailian.co.kr/news/view/932489/?sc=Naver', 'http://news.kmib.co.kr/article/view.asp?arcid=0015166454&code=61161211&cp=nv', 'https://www.theguru.co.kr/news/article.html?no=15684'], ['http://www.phmbc.co.kr/www/news/desk_news?idx=172450&mode=view', 'http://news.joins.com/article/olink/23502794', 'https://www.theguru.co.kr/news/article.html?no=15581', 'http://news.kmib.co.kr/article/view.asp?arcid=0015166454&code=61161211&cp=nv', 'https://www.theguru.co.kr/news/article.html?no=15684', 'http://www.idjnews.kr/news/articleView.html?idxno=126097', 'http://www.newsfreezone.co.kr/news/articleView.html?idxno=270915', 'http://www.hkbs.co.kr/news/articleView.html?idxno=596236', 'http://www.ajunews.com/view/20201030131401814', 'http://www.joongdo.co.kr/web/view.php?key=20201031010008870'], ['http://www.kukinews.com/newsView/kuk202010300405', 'http://www.joongdo.co.kr/web/view.php?key=20201031010008870', 'http://www.ajunews.com/view/20201030131401814', 'http://sports.khan.co.kr/news/sk_index.html?art_id=202010310003003&sec_id=540101&pt=nv', 'https://www.hankyung.com/opinion/article/2020103084441', 'http://www.newsdigm.com/22173', 'http://news.joins.com/article/olink/23502795', 'http://news.joins.com/article/olink/23502796', 'https://www.hankyung.com/opinion/article/2020103084451', 'http://theleader.mt.co.kr/articleView.html?no=2020103023587897708'], ['http://www.fomos.kr/redirect/news_view?news_cate_id=5&entry_id=94372', 'http://www.eduinnews.co.kr/news/articleView.html?idxno=36092', 'http://news.mk.co.kr/newsRead.php?no=1117282&year=2020', 'https://ilyo.co.kr/?ac=article_view&entry_id=383492', 'http://www.g-enews.com/ko-kr/news/article/news_all/2020103023370787599ecba8d8b8_1/article.html', 'http://www.kgdm.co.kr/news/articleView.html?idxno=722672', 'http://www.ccreview.co.kr/news/articleView.html?idxno=293739', 'https://www.news1.kr/articles/?4104479', 'https://www.theguru.co.kr/news/article.html?no=15557', 'https://www.sedaily.com/NewsView/1Z9CE7UF19'], ['https://www.news1.kr/articles/?4104490', 'http://www.ajunews.com/view/20201030114519794', 'http://www.skyedaily.com/news/news_view.html?ID=114754', 'https://www.hankyung.com/opinion/article/2020103084411', 'http://www.edaily.co.kr/news/newspath.asp?newsid=01105366625938496', 'http://www.ecomedia.co.kr/news/newsview.php?ncode=1065625096144173', 'http://www.newscj.com/news/articleView.html?idxno=794738', 'http://www.osen.co.kr/article/G1111463567', 'http://news.joins.com/article/olink/23502802', 'https://news.sbs.co.kr/news/endPage.do?news_id=N1006051272&plink=ORI&cooper=NAVER'], ['http://www.osen.co.kr/article/G1111463567', 'https://www.news1.kr/photos/view/?4457064', 'http://www.newscape.co.kr/news/view.php?idx=54583', 'http://www.fnnews.com/news/202010301831200996', 'http://www.slist.kr/news/articleView.html?idxno=196836', 'http://www.fnnews.com/news/202010310003186267', 'http://www.srtimes.kr/news/articleView.html?idxno=77359', 'http://news.kbs.co.kr/news/view.do?ncd=5038066&ref=A', 'http://www.newsdigm.com/22174', 'http://www.g-enews.com/ko-kr/news/article/news_all/2020103100092324929ecba8d8b8_1/article.html'], ['http://www.topstarnews.net/news/articleView.html?idxno=842668', 'http://news.kbs.co.kr/news/view.do?ncd=5038052&ref=A', 'http://www.edupress.kr/news/articleView.html?idxno=6455', 'http://news.kbs.co.kr/news/view.do?ncd=5038051&ref=A', 'http://news.kbs.co.kr/news/view.do?ncd=5038056&ref=A', 'https://www.techm.kr/news/articleView.html?idxno=76813', 'http://news.kbs.co.kr/news/view.do?ncd=5038057&ref=A', 'http://www.womaneconomy.kr/news/articleView.html?idxno=95225', 'http://news.einfomax.co.kr/news/articleView.html?idxno=4114989', 'http://www.joongdo.co.kr/web/view.php?key=20201031010008874'], ['http://www.econotelling.com/news/articleView.html?idxno=3936', 'https://www.ytn.co.kr/_ln/0102_202010310018069894', 'http://mksports.co.kr/view/2020/1117306/', 'http://www.econotelling.com/news/articleView.html?idxno=3937', 'http://www.joongdo.co.kr/web/view.php?key=20201031010008875', 'https://news.joins.com/article/olink/23502803', 'https://www.newsen.com/news_view.php?uid=202010310019360410', 'http://news.joins.com/article/olink/23502808', 'http://news.joins.com/article/olink/23502812', 'http://news.joins.com/article/olink/23502824']]\n",
      "Wall time: 5.71 s\n"
     ]
    }
   ],
   "source": [
    "%%time\n",
    "if __name__ == '__main__':\n",
    "    htmlSelect = 'div.news_area > a'\n",
    "    urls = [make_url('코로나', 2, _ * 10) for _ in range(10)]\n",
    "    urlSelect = zip(urls, repeat(htmlSelect))\n",
    "    \n",
    "    with mp.Pool(mp.cpu_count()) as pool:\n",
    "        print(pool.starmap(DataTools.get_href, urlSelect))\n",
    "        pool.close()\n",
    "        pool.join()"
   ]
  },
  {
   "cell_type": "code",
   "execution_count": 51,
   "metadata": {},
   "outputs": [
    {
     "data": {
      "text/plain": [
       "{1, 2, 3}"
      ]
     },
     "execution_count": 51,
     "metadata": {},
     "output_type": "execute_result"
    }
   ],
   "source": [
    "set().union([1, 2, 3, 2, 2])"
   ]
  },
  {
   "cell_type": "code",
   "execution_count": 6,
   "metadata": {},
   "outputs": [
    {
     "name": "stdout",
     "output_type": "stream",
     "text": [
      "Wall time: 4.26 s\n"
     ]
    }
   ],
   "source": [
    "%%time\n",
    "if __name__ == '__main__':\n",
    "    urls = set()\n",
    "    \n",
    "    with mp.Pool(mp.cpu_count()) as pool:\n",
    "        urls.union(pool.map(main.craw, range(10)))\n",
    "        pool.close()\n",
    "        pool.join()\n",
    "        \n",
    "    "
   ]
  },
  {
   "cell_type": "code",
   "execution_count": 8,
   "metadata": {},
   "outputs": [],
   "source": [
    "from newspaper import Article"
   ]
  },
  {
   "cell_type": "code",
   "execution_count": 9,
   "metadata": {},
   "outputs": [],
   "source": [
    "#크롤링할 url 주소 입력\n",
    "url = 'http://v.media.daum.net/v/20170604205121164'"
   ]
  },
  {
   "cell_type": "code",
   "execution_count": 10,
   "metadata": {},
   "outputs": [
    {
     "name": "stdout",
     "output_type": "stream",
     "text": [
      "True\n",
      "True\n"
     ]
    }
   ],
   "source": [
    "#언어가 한국어이므로 language='ko'로 설정\n",
    "a = Article(url, language='ko')\n",
    "print(a.is_valid_url())\n",
    "a.download()\n",
    "a.parse()\n",
    "print(a.is_parsed)"
   ]
  },
  {
   "cell_type": "code",
   "execution_count": 15,
   "metadata": {},
   "outputs": [],
   "source": [
    "dia = article_to_dict(a)"
   ]
  },
  {
   "cell_type": "code",
   "execution_count": 19,
   "metadata": {},
   "outputs": [
    {
     "data": {
      "text/plain": [
       "'2017-06-04T20:51:20'"
      ]
     },
     "execution_count": 19,
     "metadata": {},
     "output_type": "execute_result"
    }
   ],
   "source": [
    "dia['date'].isoformat()"
   ]
  },
  {
   "cell_type": "code",
   "execution_count": 12,
   "metadata": {},
   "outputs": [],
   "source": [
    "def article_to_dict(article):\n",
    "    url = article.url\n",
    "    title = article.title\n",
    "    text = article.text\n",
    "    publish_date = article.publish_date\n",
    "\n",
    "    return {'url': url, 'date': publish_date, 'body': [title, text]}"
   ]
  },
  {
   "cell_type": "code",
   "execution_count": 51,
   "metadata": {
    "collapsed": true,
    "jupyter": {
     "outputs_hidden": true
    }
   },
   "outputs": [
    {
     "name": "stdout",
     "output_type": "stream",
     "text": [
      "['http://news.tf.co.kr/read/economy/1821695.htm', 'http://news.tf.co.kr/read/life/1821727.htm', 'http://www.wowtv.co.kr/NewsCenter/News/Read?articleId=A202010300337&t=NN', 'http://www.ajunews.com/view/20201030192538025', 'http://news.tf.co.kr/read/entertain/1821667.htm', 'http://www.laborplus.co.kr/news/articleView.html?idxno=25712', 'http://news.tf.co.kr/read/economy/1821551.htm', 'http://news.tf.co.kr/read/economy/1821724.htm', 'http://www.newsis.com/view/?id=NISX20201030_0001216988&cID=13001&pID=13000', 'http://news.mk.co.kr/newsRead.php?no=1117278&year=2020']\n",
      "['http://www.ajunews.com/view/20201030192538025', 'http://news.tf.co.kr/read/economy/1821695.htm', 'http://news.tf.co.kr/read/life/1821727.htm', 'http://www.wowtv.co.kr/NewsCenter/News/Read?articleId=A202010300337&t=NN', 'http://news.tf.co.kr/read/economy/1821551.htm', 'http://news.tf.co.kr/read/economy/1821724.htm', 'http://www.newsis.com/view/?id=NISX20201030_0001216988&cID=13001&pID=13000', 'http://www.laborplus.co.kr/news/articleView.html?idxno=25712', 'http://news.tf.co.kr/read/entertain/1821667.htm', 'http://news.tf.co.kr/read/ptoday/1821731.htm']\n",
      "['http://news.tf.co.kr/read/economy/1821551.htm', 'http://www.wowtv.co.kr/NewsCenter/News/Read?articleId=A202010300337&t=NN', 'http://www.laborplus.co.kr/news/articleView.html?idxno=25712', 'http://www.ajunews.com/view/20201030192538025', 'http://news.tf.co.kr/read/economy/1821724.htm', 'http://www.newsis.com/view/?id=NISX20201030_0001216988&cID=13001&pID=13000', 'http://news.tf.co.kr/read/economy/1821695.htm', 'http://news.tf.co.kr/read/life/1821727.htm', 'http://www.inews24.com/view/1312343', 'http://news.mk.co.kr/newsRead.php?no=1117278&year=2020']\n",
      "['http://news.tf.co.kr/read/entertain/1821667.htm', 'http://www.laborplus.co.kr/news/articleView.html?idxno=25712', 'http://www.wowtv.co.kr/NewsCenter/News/Read?articleId=A202010300337&t=NN', 'http://news.tf.co.kr/read/economy/1821695.htm', 'http://news.tf.co.kr/read/life/1821727.htm', 'http://news.tf.co.kr/read/economy/1821724.htm', 'http://www.newsis.com/view/?id=NISX20201030_0001216988&cID=13001&pID=13000', 'http://news.mk.co.kr/newsRead.php?no=1117278&year=2020', 'http://www.inews24.com/view/1312343', 'http://www.newsworks.co.kr/news/articleView.html?idxno=499499']\n",
      "['http://news.tf.co.kr/read/economy/1821695.htm', 'http://news.tf.co.kr/read/life/1821727.htm', 'http://www.ajunews.com/view/20201030192538025', 'http://www.laborplus.co.kr/news/articleView.html?idxno=25712', 'http://news.tf.co.kr/read/economy/1821551.htm', 'http://news.tf.co.kr/read/entertain/1821667.htm', 'http://news.tf.co.kr/read/ptoday/1821731.htm', 'http://www.edaily.co.kr/news/newspath.asp?newsid=01098806625938496', 'http://www.newsworks.co.kr/news/articleView.html?idxno=499499', 'http://www.sisamagazine.co.kr/news/articleView.html?idxno=334626']\n",
      "['http://news.tf.co.kr/read/economy/1821695.htm', 'http://news.tf.co.kr/read/life/1821727.htm', 'http://www.laborplus.co.kr/news/articleView.html?idxno=25712', 'http://news.tf.co.kr/read/economy/1821551.htm', 'http://www.wowtv.co.kr/NewsCenter/News/Read?articleId=A202010300337&t=NN', 'https://www.dailian.co.kr/news/view/932477/?sc=Naver', 'http://www.inews24.com/view/1312343', 'http://www.mydaily.co.kr/new_yk/html/read.php?newsid=202010302228154942&ext=na', 'http://news.tf.co.kr/read/economy/1821741.htm', 'http://www.newsworks.co.kr/news/articleView.html?idxno=499499']\n",
      "['http://news.tf.co.kr/read/life/1821727.htm', 'http://www.ajunews.com/view/20201030192538025', 'http://news.tf.co.kr/read/economy/1821724.htm', 'http://www.newsis.com/view/?id=NISX20201030_0001216988&cID=13001&pID=13000', 'http://news.mk.co.kr/newsRead.php?no=1117278&year=2020', 'http://mksports.co.kr/view/2020/1117274/', 'http://www.k-health.com/news/articleView.html?idxno=50755', 'http://www.inews24.com/view/1310668', 'http://www.inews24.com/view/1312343', 'http://www.inews24.com/view/1310661']\n",
      "['http://www.laborplus.co.kr/news/articleView.html?idxno=25712', 'http://news.tf.co.kr/read/economy/1821551.htm', 'http://news.tf.co.kr/read/entertain/1821667.htm', 'http://news.tf.co.kr/read/ptoday/1821731.htm', 'http://www.edaily.co.kr/news/newspath.asp?newsid=01098806625938496', 'http://www.newsworks.co.kr/news/articleView.html?idxno=499499', 'http://www.sisamagazine.co.kr/news/articleView.html?idxno=334626', 'http://mksports.co.kr/view/2020/1117274/', 'http://www.k-health.com/news/articleView.html?idxno=50755', 'http://www.inews24.com/view/1310668']\n",
      "['http://www.laborplus.co.kr/news/articleView.html?idxno=25712', 'http://www.wowtv.co.kr/NewsCenter/News/Read?articleId=A202010300337&t=NN', 'https://www.dailian.co.kr/news/view/932477/?sc=Naver', 'http://news.tf.co.kr/read/ptoday/1821731.htm', 'http://www.edaily.co.kr/news/newspath.asp?newsid=01098806625938496', 'http://mksports.co.kr/view/2020/1117274/', 'http://www.k-health.com/news/articleView.html?idxno=50755', 'http://www.inews24.com/view/1310668', 'http://www.mydaily.co.kr/new_yk/html/read.php?newsid=202010302228154942&ext=na', 'http://news.tf.co.kr/read/economy/1821741.htm']\n",
      "['http://news.tf.co.kr/read/economy/1821551.htm', 'http://www.newsworks.co.kr/news/articleView.html?idxno=499499', 'http://www.sisamagazine.co.kr/news/articleView.html?idxno=334626', 'https://www.dailian.co.kr/news/view/932477/?sc=Naver', 'https://www.asiatoday.co.kr/view.php?key=20201030010018849', 'https://www.ytn.co.kr/_ln/0103_202010310001136553', 'http://mksports.co.kr/view/2020/1117274/', 'http://www.k-health.com/news/articleView.html?idxno=50755', 'http://www.inews24.com/view/1310668', 'http://www.mydaily.co.kr/new_yk/html/read.php?newsid=202010302228154942&ext=na']\n",
      "Wall time: 11.4 s\n"
     ]
    }
   ],
   "source": [
    "%%time\n",
    "htmlSelect = 'div.news_area > a'\n",
    "visited = set()\n",
    "\n",
    "for i in range(10):\n",
    "    urls = make_url('코로나', 2, i)\n",
    "    hrefs = DataTools.get_href(urls, htmlSelect)\n",
    "    print(hrefs)\n",
    "    \n",
    "#     for url in hrefs:\n",
    "        \n",
    "#         if url not in visited:\n",
    "#             visited.add(url)\n",
    "#             try:\n",
    "#                 article = DataTools.get_article(url)\n",
    "#                 print(article.title, article.publish_date)\n",
    "#             except:\n",
    "#                 print('pass:', url)\n",
    "                \n",
    "#     print(i, ':\\t', len(visited))"
   ]
  },
  {
   "cell_type": "code",
   "execution_count": 8,
   "metadata": {
    "collapsed": true,
    "jupyter": {
     "outputs_hidden": true
    }
   },
   "outputs": [
    {
     "name": "stdout",
     "output_type": "stream",
     "text": [
      "[TF이슈] '비밀의 방' 열리자 옵티머스 문건 나왔다 2020-10-31 00:00:02+09:00\n",
      "'롯데온세상' vs '쓱데이'…파격 할인 맞대결 승자는? 2020-10-31 00:00:02+09:00\n",
      "배터리 1위 전략 '첫 단추' LG화학, 주가 하락 우려에도 자신감 드러낸 이유 2020-10-31 00:00:02+09:00\n",
      "아이돌Live, ‘2020 코리아 뮤직 드라이브인 페스티벌’ 31일 생중계 2020-10-31 00:00:00+09:00\n",
      "인터넷가입 비교사이트 통해 SK KT LG 인터넷·TV 설치 시 \"현금 사은품 개통당일 지원\" 2020-10-31 00:00:01+00:00\n",
      "[코로나19에 맞선 공무원들] ⑧ 남산의 기적, 남산생활치료센터 2020-10-31 00:00:00+09:00\n",
      "'코로나 직격탄' 아모레퍼시픽, 4분기 반등 키워드 '광군제·디지털' 2020-10-31 00:00:01+09:00\n",
      "한국산업관광진흥협회, 中 옌타이시와 관광협력 플랫폼 구축 나선다 2020-10-31 00:00:00+09:00\n",
      "[TF업앤다운] 사랑의 결실 맺은 스타들…냉탕과 온탕 오간 SM 2020-10-31 00:00:01+09:00\n",
      "[TF프리즘] '미래차가 미래다'…文, 현대차 향한 애정 2020-10-31 00:01:02+09:00\n",
      "0 :\t 10\n",
      "[사설] 美·유럽 코로나 봉쇄령, 핼러윈데이 즐길 때 아니다 2020-10-31 00:01:02+09:00\n",
      "1 :\t 11\n",
      "pass: http://www.newsworks.co.kr/news/articleView.html?idxno=499499\n",
      "광주 남구, 민간의료 연계 ‘독거노인 의료방문 서비스’ 재개 2020-10-31 00:00:00+09:00\n",
      "2 :\t 13\n",
      "유태평양·임태경이 눈물로 부른 '국민 엄마' 고두심의 인생곡 None\n",
      "3 :\t 14\n",
      "마이데일리 2020-10-31 00:00:03+09:00\n",
      "[TF체험기] 소니, PS5에 촉각 강조하더니...다 계획이 있었구나 2020-10-31 00:00:03+09:00\n",
      "4 :\t 16\n"
     ]
    },
    {
     "ename": "KeyboardInterrupt",
     "evalue": "",
     "output_type": "error",
     "traceback": [
      "\u001b[1;31m---------------------------------------------------------------------------\u001b[0m",
      "\u001b[1;31mKeyboardInterrupt\u001b[0m                         Traceback (most recent call last)",
      "\u001b[1;32m<ipython-input-8-31eff68d7523>\u001b[0m in \u001b[0;36m<module>\u001b[1;34m\u001b[0m\n\u001b[0;32m      4\u001b[0m \u001b[1;32mfor\u001b[0m \u001b[0mi\u001b[0m \u001b[1;32min\u001b[0m \u001b[0mrange\u001b[0m\u001b[1;33m(\u001b[0m\u001b[1;36m10\u001b[0m\u001b[1;33m)\u001b[0m\u001b[1;33m:\u001b[0m\u001b[1;33m\u001b[0m\u001b[1;33m\u001b[0m\u001b[0m\n\u001b[0;32m      5\u001b[0m     \u001b[0murls\u001b[0m \u001b[1;33m=\u001b[0m \u001b[0mmake_url\u001b[0m\u001b[1;33m(\u001b[0m\u001b[1;34m'코로나'\u001b[0m\u001b[1;33m,\u001b[0m \u001b[1;36m2\u001b[0m\u001b[1;33m,\u001b[0m \u001b[0mi\u001b[0m\u001b[1;33m)\u001b[0m\u001b[1;33m\u001b[0m\u001b[1;33m\u001b[0m\u001b[0m\n\u001b[1;32m----> 6\u001b[1;33m     \u001b[0mhrefs\u001b[0m \u001b[1;33m=\u001b[0m \u001b[0mDataTools\u001b[0m\u001b[1;33m.\u001b[0m\u001b[0mget_href\u001b[0m\u001b[1;33m(\u001b[0m\u001b[0murls\u001b[0m\u001b[1;33m,\u001b[0m \u001b[0mhtmlSelect\u001b[0m\u001b[1;33m)\u001b[0m\u001b[1;33m\u001b[0m\u001b[1;33m\u001b[0m\u001b[0m\n\u001b[0m\u001b[0;32m      7\u001b[0m \u001b[1;33m\u001b[0m\u001b[0m\n\u001b[0;32m      8\u001b[0m     \u001b[1;32mfor\u001b[0m \u001b[0murl\u001b[0m \u001b[1;32min\u001b[0m \u001b[0mhrefs\u001b[0m\u001b[1;33m:\u001b[0m\u001b[1;33m\u001b[0m\u001b[1;33m\u001b[0m\u001b[0m\n",
      "\u001b[1;32m~\\Documents\\GitHub\\isProject\\DataTools.py\u001b[0m in \u001b[0;36mget_href\u001b[1;34m(url, select)\u001b[0m\n\u001b[0;32m     10\u001b[0m \u001b[1;33m\u001b[0m\u001b[0m\n\u001b[0;32m     11\u001b[0m     \u001b[1;32mif\u001b[0m \u001b[0mrequest\u001b[0m\u001b[1;33m.\u001b[0m\u001b[0mok\u001b[0m\u001b[1;33m:\u001b[0m\u001b[1;33m\u001b[0m\u001b[1;33m\u001b[0m\u001b[0m\n\u001b[1;32m---> 12\u001b[1;33m         \u001b[0mdocument\u001b[0m \u001b[1;33m=\u001b[0m \u001b[0mBeautifulSoup\u001b[0m\u001b[1;33m(\u001b[0m\u001b[0mrequest\u001b[0m\u001b[1;33m.\u001b[0m\u001b[0mtext\u001b[0m\u001b[1;33m,\u001b[0m \u001b[1;34m'html.parser'\u001b[0m\u001b[1;33m)\u001b[0m\u001b[1;33m\u001b[0m\u001b[1;33m\u001b[0m\u001b[0m\n\u001b[0m\u001b[0;32m     13\u001b[0m         \u001b[1;32mfor\u001b[0m \u001b[0ma\u001b[0m \u001b[1;32min\u001b[0m \u001b[0mdocument\u001b[0m\u001b[1;33m.\u001b[0m\u001b[0mselect\u001b[0m\u001b[1;33m(\u001b[0m\u001b[0mselect\u001b[0m\u001b[1;33m)\u001b[0m\u001b[1;33m:\u001b[0m\u001b[1;33m\u001b[0m\u001b[1;33m\u001b[0m\u001b[0m\n\u001b[0;32m     14\u001b[0m             \u001b[0mhref\u001b[0m \u001b[1;33m=\u001b[0m \u001b[0ma\u001b[0m\u001b[1;33m.\u001b[0m\u001b[0mget\u001b[0m\u001b[1;33m(\u001b[0m\u001b[1;34m'href'\u001b[0m\u001b[1;33m)\u001b[0m\u001b[1;33m\u001b[0m\u001b[1;33m\u001b[0m\u001b[0m\n",
      "\u001b[1;32m~\\Anaconda3\\envs\\proj\\lib\\site-packages\\bs4\\__init__.py\u001b[0m in \u001b[0;36m__init__\u001b[1;34m(self, markup, features, builder, parse_only, from_encoding, exclude_encodings, element_classes, **kwargs)\u001b[0m\n\u001b[0;32m    346\u001b[0m             \u001b[0mself\u001b[0m\u001b[1;33m.\u001b[0m\u001b[0mreset\u001b[0m\u001b[1;33m(\u001b[0m\u001b[1;33m)\u001b[0m\u001b[1;33m\u001b[0m\u001b[1;33m\u001b[0m\u001b[0m\n\u001b[0;32m    347\u001b[0m             \u001b[1;32mtry\u001b[0m\u001b[1;33m:\u001b[0m\u001b[1;33m\u001b[0m\u001b[1;33m\u001b[0m\u001b[0m\n\u001b[1;32m--> 348\u001b[1;33m                 \u001b[0mself\u001b[0m\u001b[1;33m.\u001b[0m\u001b[0m_feed\u001b[0m\u001b[1;33m(\u001b[0m\u001b[1;33m)\u001b[0m\u001b[1;33m\u001b[0m\u001b[1;33m\u001b[0m\u001b[0m\n\u001b[0m\u001b[0;32m    349\u001b[0m                 \u001b[0msuccess\u001b[0m \u001b[1;33m=\u001b[0m \u001b[1;32mTrue\u001b[0m\u001b[1;33m\u001b[0m\u001b[1;33m\u001b[0m\u001b[0m\n\u001b[0;32m    350\u001b[0m                 \u001b[1;32mbreak\u001b[0m\u001b[1;33m\u001b[0m\u001b[1;33m\u001b[0m\u001b[0m\n",
      "\u001b[1;32m~\\Anaconda3\\envs\\proj\\lib\\site-packages\\bs4\\__init__.py\u001b[0m in \u001b[0;36m_feed\u001b[1;34m(self)\u001b[0m\n\u001b[0;32m    432\u001b[0m         \u001b[0mself\u001b[0m\u001b[1;33m.\u001b[0m\u001b[0mbuilder\u001b[0m\u001b[1;33m.\u001b[0m\u001b[0mreset\u001b[0m\u001b[1;33m(\u001b[0m\u001b[1;33m)\u001b[0m\u001b[1;33m\u001b[0m\u001b[1;33m\u001b[0m\u001b[0m\n\u001b[0;32m    433\u001b[0m \u001b[1;33m\u001b[0m\u001b[0m\n\u001b[1;32m--> 434\u001b[1;33m         \u001b[0mself\u001b[0m\u001b[1;33m.\u001b[0m\u001b[0mbuilder\u001b[0m\u001b[1;33m.\u001b[0m\u001b[0mfeed\u001b[0m\u001b[1;33m(\u001b[0m\u001b[0mself\u001b[0m\u001b[1;33m.\u001b[0m\u001b[0mmarkup\u001b[0m\u001b[1;33m)\u001b[0m\u001b[1;33m\u001b[0m\u001b[1;33m\u001b[0m\u001b[0m\n\u001b[0m\u001b[0;32m    435\u001b[0m         \u001b[1;31m# Close out any unfinished strings and close all the open tags.\u001b[0m\u001b[1;33m\u001b[0m\u001b[1;33m\u001b[0m\u001b[1;33m\u001b[0m\u001b[0m\n\u001b[0;32m    436\u001b[0m         \u001b[0mself\u001b[0m\u001b[1;33m.\u001b[0m\u001b[0mendData\u001b[0m\u001b[1;33m(\u001b[0m\u001b[1;33m)\u001b[0m\u001b[1;33m\u001b[0m\u001b[1;33m\u001b[0m\u001b[0m\n",
      "\u001b[1;32m~\\Anaconda3\\envs\\proj\\lib\\site-packages\\bs4\\builder\\_htmlparser.py\u001b[0m in \u001b[0;36mfeed\u001b[1;34m(self, markup)\u001b[0m\n\u001b[0;32m    375\u001b[0m         \u001b[0mparser\u001b[0m\u001b[1;33m.\u001b[0m\u001b[0msoup\u001b[0m \u001b[1;33m=\u001b[0m \u001b[0mself\u001b[0m\u001b[1;33m.\u001b[0m\u001b[0msoup\u001b[0m\u001b[1;33m\u001b[0m\u001b[1;33m\u001b[0m\u001b[0m\n\u001b[0;32m    376\u001b[0m         \u001b[1;32mtry\u001b[0m\u001b[1;33m:\u001b[0m\u001b[1;33m\u001b[0m\u001b[1;33m\u001b[0m\u001b[0m\n\u001b[1;32m--> 377\u001b[1;33m             \u001b[0mparser\u001b[0m\u001b[1;33m.\u001b[0m\u001b[0mfeed\u001b[0m\u001b[1;33m(\u001b[0m\u001b[0mmarkup\u001b[0m\u001b[1;33m)\u001b[0m\u001b[1;33m\u001b[0m\u001b[1;33m\u001b[0m\u001b[0m\n\u001b[0m\u001b[0;32m    378\u001b[0m             \u001b[0mparser\u001b[0m\u001b[1;33m.\u001b[0m\u001b[0mclose\u001b[0m\u001b[1;33m(\u001b[0m\u001b[1;33m)\u001b[0m\u001b[1;33m\u001b[0m\u001b[1;33m\u001b[0m\u001b[0m\n\u001b[0;32m    379\u001b[0m         \u001b[1;32mexcept\u001b[0m \u001b[0mHTMLParseError\u001b[0m \u001b[1;32mas\u001b[0m \u001b[0me\u001b[0m\u001b[1;33m:\u001b[0m\u001b[1;33m\u001b[0m\u001b[1;33m\u001b[0m\u001b[0m\n",
      "\u001b[1;32m~\\Anaconda3\\envs\\proj\\lib\\html\\parser.py\u001b[0m in \u001b[0;36mfeed\u001b[1;34m(self, data)\u001b[0m\n\u001b[0;32m    109\u001b[0m         \"\"\"\n\u001b[0;32m    110\u001b[0m         \u001b[0mself\u001b[0m\u001b[1;33m.\u001b[0m\u001b[0mrawdata\u001b[0m \u001b[1;33m=\u001b[0m \u001b[0mself\u001b[0m\u001b[1;33m.\u001b[0m\u001b[0mrawdata\u001b[0m \u001b[1;33m+\u001b[0m \u001b[0mdata\u001b[0m\u001b[1;33m\u001b[0m\u001b[1;33m\u001b[0m\u001b[0m\n\u001b[1;32m--> 111\u001b[1;33m         \u001b[0mself\u001b[0m\u001b[1;33m.\u001b[0m\u001b[0mgoahead\u001b[0m\u001b[1;33m(\u001b[0m\u001b[1;36m0\u001b[0m\u001b[1;33m)\u001b[0m\u001b[1;33m\u001b[0m\u001b[1;33m\u001b[0m\u001b[0m\n\u001b[0m\u001b[0;32m    112\u001b[0m \u001b[1;33m\u001b[0m\u001b[0m\n\u001b[0;32m    113\u001b[0m     \u001b[1;32mdef\u001b[0m \u001b[0mclose\u001b[0m\u001b[1;33m(\u001b[0m\u001b[0mself\u001b[0m\u001b[1;33m)\u001b[0m\u001b[1;33m:\u001b[0m\u001b[1;33m\u001b[0m\u001b[1;33m\u001b[0m\u001b[0m\n",
      "\u001b[1;32m~\\Anaconda3\\envs\\proj\\lib\\html\\parser.py\u001b[0m in \u001b[0;36mgoahead\u001b[1;34m(self, end)\u001b[0m\n\u001b[0;32m    171\u001b[0m                     \u001b[0mk\u001b[0m \u001b[1;33m=\u001b[0m \u001b[0mself\u001b[0m\u001b[1;33m.\u001b[0m\u001b[0mparse_starttag\u001b[0m\u001b[1;33m(\u001b[0m\u001b[0mi\u001b[0m\u001b[1;33m)\u001b[0m\u001b[1;33m\u001b[0m\u001b[1;33m\u001b[0m\u001b[0m\n\u001b[0;32m    172\u001b[0m                 \u001b[1;32melif\u001b[0m \u001b[0mstartswith\u001b[0m\u001b[1;33m(\u001b[0m\u001b[1;34m\"</\"\u001b[0m\u001b[1;33m,\u001b[0m \u001b[0mi\u001b[0m\u001b[1;33m)\u001b[0m\u001b[1;33m:\u001b[0m\u001b[1;33m\u001b[0m\u001b[1;33m\u001b[0m\u001b[0m\n\u001b[1;32m--> 173\u001b[1;33m                     \u001b[0mk\u001b[0m \u001b[1;33m=\u001b[0m \u001b[0mself\u001b[0m\u001b[1;33m.\u001b[0m\u001b[0mparse_endtag\u001b[0m\u001b[1;33m(\u001b[0m\u001b[0mi\u001b[0m\u001b[1;33m)\u001b[0m\u001b[1;33m\u001b[0m\u001b[1;33m\u001b[0m\u001b[0m\n\u001b[0m\u001b[0;32m    174\u001b[0m                 \u001b[1;32melif\u001b[0m \u001b[0mstartswith\u001b[0m\u001b[1;33m(\u001b[0m\u001b[1;34m\"<!--\"\u001b[0m\u001b[1;33m,\u001b[0m \u001b[0mi\u001b[0m\u001b[1;33m)\u001b[0m\u001b[1;33m:\u001b[0m\u001b[1;33m\u001b[0m\u001b[1;33m\u001b[0m\u001b[0m\n\u001b[0;32m    175\u001b[0m                     \u001b[0mk\u001b[0m \u001b[1;33m=\u001b[0m \u001b[0mself\u001b[0m\u001b[1;33m.\u001b[0m\u001b[0mparse_comment\u001b[0m\u001b[1;33m(\u001b[0m\u001b[0mi\u001b[0m\u001b[1;33m)\u001b[0m\u001b[1;33m\u001b[0m\u001b[1;33m\u001b[0m\u001b[0m\n",
      "\u001b[1;32m~\\Anaconda3\\envs\\proj\\lib\\html\\parser.py\u001b[0m in \u001b[0;36mparse_endtag\u001b[1;34m(self, i)\u001b[0m\n\u001b[0;32m    419\u001b[0m                 \u001b[1;32mreturn\u001b[0m \u001b[0mgtpos\u001b[0m\u001b[1;33m\u001b[0m\u001b[1;33m\u001b[0m\u001b[0m\n\u001b[0;32m    420\u001b[0m \u001b[1;33m\u001b[0m\u001b[0m\n\u001b[1;32m--> 421\u001b[1;33m         \u001b[0mself\u001b[0m\u001b[1;33m.\u001b[0m\u001b[0mhandle_endtag\u001b[0m\u001b[1;33m(\u001b[0m\u001b[0melem\u001b[0m\u001b[1;33m)\u001b[0m\u001b[1;33m\u001b[0m\u001b[1;33m\u001b[0m\u001b[0m\n\u001b[0m\u001b[0;32m    422\u001b[0m         \u001b[0mself\u001b[0m\u001b[1;33m.\u001b[0m\u001b[0mclear_cdata_mode\u001b[0m\u001b[1;33m(\u001b[0m\u001b[1;33m)\u001b[0m\u001b[1;33m\u001b[0m\u001b[1;33m\u001b[0m\u001b[0m\n\u001b[0;32m    423\u001b[0m         \u001b[1;32mreturn\u001b[0m \u001b[0mgtpos\u001b[0m\u001b[1;33m\u001b[0m\u001b[1;33m\u001b[0m\u001b[0m\n",
      "\u001b[1;32m~\\Anaconda3\\envs\\proj\\lib\\site-packages\\bs4\\builder\\_htmlparser.py\u001b[0m in \u001b[0;36mhandle_endtag\u001b[1;34m(self, name, check_already_closed)\u001b[0m\n\u001b[0;32m    185\u001b[0m             \u001b[0mself\u001b[0m\u001b[1;33m.\u001b[0m\u001b[0malready_closed_empty_element\u001b[0m\u001b[1;33m.\u001b[0m\u001b[0mremove\u001b[0m\u001b[1;33m(\u001b[0m\u001b[0mname\u001b[0m\u001b[1;33m)\u001b[0m\u001b[1;33m\u001b[0m\u001b[1;33m\u001b[0m\u001b[0m\n\u001b[0;32m    186\u001b[0m         \u001b[1;32melse\u001b[0m\u001b[1;33m:\u001b[0m\u001b[1;33m\u001b[0m\u001b[1;33m\u001b[0m\u001b[0m\n\u001b[1;32m--> 187\u001b[1;33m             \u001b[0mself\u001b[0m\u001b[1;33m.\u001b[0m\u001b[0msoup\u001b[0m\u001b[1;33m.\u001b[0m\u001b[0mhandle_endtag\u001b[0m\u001b[1;33m(\u001b[0m\u001b[0mname\u001b[0m\u001b[1;33m)\u001b[0m\u001b[1;33m\u001b[0m\u001b[1;33m\u001b[0m\u001b[0m\n\u001b[0m\u001b[0;32m    188\u001b[0m \u001b[1;33m\u001b[0m\u001b[0m\n\u001b[0;32m    189\u001b[0m     \u001b[1;32mdef\u001b[0m \u001b[0mhandle_data\u001b[0m\u001b[1;33m(\u001b[0m\u001b[0mself\u001b[0m\u001b[1;33m,\u001b[0m \u001b[0mdata\u001b[0m\u001b[1;33m)\u001b[0m\u001b[1;33m:\u001b[0m\u001b[1;33m\u001b[0m\u001b[1;33m\u001b[0m\u001b[0m\n",
      "\u001b[1;31mKeyboardInterrupt\u001b[0m: "
     ]
    }
   ],
   "source": [
    "htmlSelect = 'div.news_area > a'\n",
    "visited = set()\n",
    "\n",
    "for i in range(10):\n",
    "    urls = make_url('코로나', 2, i * 10)\n",
    "    hrefs = DataTools.get_href(urls, htmlSelect)\n",
    "    \n",
    "    for url in hrefs:\n",
    "        if url not in visited:\n",
    "            visited.add(url)\n",
    "            try:\n",
    "                article = DataTools.get_article(url)\n",
    "                print(article.title, article.publish_date)\n",
    "            except:\n",
    "                print('pass:', url)\n",
    "                \n",
    "    print(i, ':\\t', len(visited))"
   ]
  },
  {
   "cell_type": "code",
   "execution_count": 88,
   "metadata": {},
   "outputs": [
    {
     "data": {
      "text/plain": [
       "87"
      ]
     },
     "execution_count": 88,
     "metadata": {},
     "output_type": "execute_result"
    }
   ],
   "source": [
    "len(set(hrefs))"
   ]
  },
  {
   "cell_type": "code",
   "execution_count": 41,
   "metadata": {},
   "outputs": [],
   "source": [
    "from datetime import datetime, timedelta\n",
    "from dateutil.relativedelta import relativedelta"
   ]
  },
  {
   "cell_type": "code",
   "execution_count": 20,
   "metadata": {},
   "outputs": [],
   "source": [
    "now = datetime.now()"
   ]
  },
  {
   "cell_type": "code",
   "execution_count": 25,
   "metadata": {},
   "outputs": [
    {
     "data": {
      "text/plain": [
       "'2020-11-02T05:36:59.997143'"
      ]
     },
     "execution_count": 25,
     "metadata": {},
     "output_type": "execute_result"
    }
   ],
   "source": [
    "now.isoformat()"
   ]
  },
  {
   "cell_type": "code",
   "execution_count": 28,
   "metadata": {},
   "outputs": [
    {
     "name": "stdout",
     "output_type": "stream",
     "text": [
      "2020-11-02 05:36:59.997143\n"
     ]
    }
   ],
   "source": [
    "print(now)"
   ]
  },
  {
   "cell_type": "code",
   "execution_count": 43,
   "metadata": {},
   "outputs": [
    {
     "data": {
      "text/plain": [
       "'20201102'"
      ]
     },
     "execution_count": 43,
     "metadata": {},
     "output_type": "execute_result"
    }
   ],
   "source": [
    "now.strftime('%Y%m%d')"
   ]
  },
  {
   "cell_type": "code",
   "execution_count": 27,
   "metadata": {},
   "outputs": [
    {
     "data": {
      "text/plain": [
       "'2020112'"
      ]
     },
     "execution_count": 27,
     "metadata": {},
     "output_type": "execute_result"
    }
   ],
   "source": [
    "f'{now.year}{now.month}{now.day}'"
   ]
  },
  {
   "cell_type": "code",
   "execution_count": 36,
   "metadata": {},
   "outputs": [
    {
     "data": {
      "text/plain": [
       "datetime.datetime(2020, 11, 1, 5, 36, 59, 997143)"
      ]
     },
     "execution_count": 36,
     "metadata": {},
     "output_type": "execute_result"
    }
   ],
   "source": [
    "now - timedelta(days=1)"
   ]
  },
  {
   "cell_type": "code",
   "execution_count": 47,
   "metadata": {},
   "outputs": [
    {
     "data": {
      "text/plain": [
       "datetime.datetime(2019, 11, 2, 5, 36, 59, 997143)"
      ]
     },
     "execution_count": 47,
     "metadata": {},
     "output_type": "execute_result"
    }
   ],
   "source": [
    "now - relativedelta(year=now.year - 1)"
   ]
  },
  {
   "cell_type": "code",
   "execution_count": 44,
   "metadata": {},
   "outputs": [
    {
     "data": {
      "text/plain": [
       "relativedelta(year=1)"
      ]
     },
     "execution_count": 44,
     "metadata": {},
     "output_type": "execute_result"
    }
   ],
   "source": [
    "relativedelta(year=1)"
   ]
  },
  {
   "cell_type": "code",
   "execution_count": 45,
   "metadata": {},
   "outputs": [
    {
     "data": {
      "text/plain": [
       "datetime.datetime(2020, 1, 2, 5, 36, 59, 997143)"
      ]
     },
     "execution_count": 45,
     "metadata": {},
     "output_type": "execute_result"
    }
   ],
   "source": [
    "now - relativedelta(month=1)"
   ]
  },
  {
   "cell_type": "code",
   "execution_count": 21,
   "metadata": {},
   "outputs": [
    {
     "data": {
      "text/plain": [
       "False"
      ]
     },
     "execution_count": 21,
     "metadata": {},
     "output_type": "execute_result"
    }
   ],
   "source": [
    "not list([1, 2])"
   ]
  },
  {
   "cell_type": "code",
   "execution_count": null,
   "metadata": {},
   "outputs": [],
   "source": []
  }
 ],
 "metadata": {
  "kernelspec": {
   "display_name": "isProject",
   "language": "python",
   "name": "proj"
  },
  "language_info": {
   "codemirror_mode": {
    "name": "ipython",
    "version": 3
   },
   "file_extension": ".py",
   "mimetype": "text/x-python",
   "name": "python",
   "nbconvert_exporter": "python",
   "pygments_lexer": "ipython3",
   "version": "3.7.9"
  }
 },
 "nbformat": 4,
 "nbformat_minor": 4
}
