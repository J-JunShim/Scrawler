{
 "cells": [
  {
   "cell_type": "code",
   "execution_count": 2,
   "metadata": {},
   "outputs": [
    {
     "name": "stdout",
     "output_type": "stream",
     "text": [
      "[1, 2, 3, 4, 5, 7, 9, 6, 8]\n"
     ]
    }
   ],
   "source": [
    "graph={\n",
    "1:[2,3],\n",
    "2:[1,4,5,7],\n",
    "3:[1,5,9],\n",
    "4:[2,6],\n",
    "5:[2,3,7,8],\n",
    "6:[4],\n",
    "7:[5,2],\n",
    "8:[5],\n",
    "9:[3],\n",
    "}\n",
    "\n",
    "def BFS(graph,root):\n",
    "    visited=[]\n",
    "    queue=[root]\n",
    "\n",
    "    while queue:#while queue is not empty\n",
    "        n = queue.pop(0)\n",
    "        if n not in visited:#if n is not in visited list.\n",
    "            visited.append(n)#put the n to the visited list.\n",
    "        for i in graph[n]:#the numbers i connected with n\n",
    "            if i not in visited:#i is not in visited list.\n",
    "                queue.append(i)#put the i to the queue.\n",
    "                \n",
    "    return visited\n",
    "print(BFS(graph,1))"
   ]
  },
  {
   "cell_type": "code",
   "execution_count": 1,
   "metadata": {},
   "outputs": [],
   "source": [
    "import os, sys\n",
    "sys.path.append(os.path.abspath('../.'))\n",
    "\n",
    "from DataScraper import main, DataTools"
   ]
  },
  {
   "cell_type": "code",
   "execution_count": 12,
   "metadata": {},
   "outputs": [],
   "source": [
    "def article_to_dict(article):\n",
    "    url = article.url\n",
    "    title = article.title\n",
    "    text = article.text\n",
    "    publish_date = article.publish_date\n",
    "\n",
    "    return {'url': url, 'date': publish_date, 'body': [title, text]}"
   ]
  },
  {
   "cell_type": "code",
   "execution_count": 51,
   "metadata": {
    "collapsed": true,
    "jupyter": {
     "outputs_hidden": true
    }
   },
   "outputs": [
    {
     "name": "stdout",
     "output_type": "stream",
     "text": [
      "['http://news.tf.co.kr/read/economy/1821695.htm', 'http://news.tf.co.kr/read/life/1821727.htm', 'http://www.wowtv.co.kr/NewsCenter/News/Read?articleId=A202010300337&t=NN', 'http://www.ajunews.com/view/20201030192538025', 'http://news.tf.co.kr/read/entertain/1821667.htm', 'http://www.laborplus.co.kr/news/articleView.html?idxno=25712', 'http://news.tf.co.kr/read/economy/1821551.htm', 'http://news.tf.co.kr/read/economy/1821724.htm', 'http://www.newsis.com/view/?id=NISX20201030_0001216988&cID=13001&pID=13000', 'http://news.mk.co.kr/newsRead.php?no=1117278&year=2020']\n",
      "['http://www.ajunews.com/view/20201030192538025', 'http://news.tf.co.kr/read/economy/1821695.htm', 'http://news.tf.co.kr/read/life/1821727.htm', 'http://www.wowtv.co.kr/NewsCenter/News/Read?articleId=A202010300337&t=NN', 'http://news.tf.co.kr/read/economy/1821551.htm', 'http://news.tf.co.kr/read/economy/1821724.htm', 'http://www.newsis.com/view/?id=NISX20201030_0001216988&cID=13001&pID=13000', 'http://www.laborplus.co.kr/news/articleView.html?idxno=25712', 'http://news.tf.co.kr/read/entertain/1821667.htm', 'http://news.tf.co.kr/read/ptoday/1821731.htm']\n",
      "['http://news.tf.co.kr/read/economy/1821551.htm', 'http://www.wowtv.co.kr/NewsCenter/News/Read?articleId=A202010300337&t=NN', 'http://www.laborplus.co.kr/news/articleView.html?idxno=25712', 'http://www.ajunews.com/view/20201030192538025', 'http://news.tf.co.kr/read/economy/1821724.htm', 'http://www.newsis.com/view/?id=NISX20201030_0001216988&cID=13001&pID=13000', 'http://news.tf.co.kr/read/economy/1821695.htm', 'http://news.tf.co.kr/read/life/1821727.htm', 'http://www.inews24.com/view/1312343', 'http://news.mk.co.kr/newsRead.php?no=1117278&year=2020']\n",
      "['http://news.tf.co.kr/read/entertain/1821667.htm', 'http://www.laborplus.co.kr/news/articleView.html?idxno=25712', 'http://www.wowtv.co.kr/NewsCenter/News/Read?articleId=A202010300337&t=NN', 'http://news.tf.co.kr/read/economy/1821695.htm', 'http://news.tf.co.kr/read/life/1821727.htm', 'http://news.tf.co.kr/read/economy/1821724.htm', 'http://www.newsis.com/view/?id=NISX20201030_0001216988&cID=13001&pID=13000', 'http://news.mk.co.kr/newsRead.php?no=1117278&year=2020', 'http://www.inews24.com/view/1312343', 'http://www.newsworks.co.kr/news/articleView.html?idxno=499499']\n",
      "['http://news.tf.co.kr/read/economy/1821695.htm', 'http://news.tf.co.kr/read/life/1821727.htm', 'http://www.ajunews.com/view/20201030192538025', 'http://www.laborplus.co.kr/news/articleView.html?idxno=25712', 'http://news.tf.co.kr/read/economy/1821551.htm', 'http://news.tf.co.kr/read/entertain/1821667.htm', 'http://news.tf.co.kr/read/ptoday/1821731.htm', 'http://www.edaily.co.kr/news/newspath.asp?newsid=01098806625938496', 'http://www.newsworks.co.kr/news/articleView.html?idxno=499499', 'http://www.sisamagazine.co.kr/news/articleView.html?idxno=334626']\n",
      "['http://news.tf.co.kr/read/economy/1821695.htm', 'http://news.tf.co.kr/read/life/1821727.htm', 'http://www.laborplus.co.kr/news/articleView.html?idxno=25712', 'http://news.tf.co.kr/read/economy/1821551.htm', 'http://www.wowtv.co.kr/NewsCenter/News/Read?articleId=A202010300337&t=NN', 'https://www.dailian.co.kr/news/view/932477/?sc=Naver', 'http://www.inews24.com/view/1312343', 'http://www.mydaily.co.kr/new_yk/html/read.php?newsid=202010302228154942&ext=na', 'http://news.tf.co.kr/read/economy/1821741.htm', 'http://www.newsworks.co.kr/news/articleView.html?idxno=499499']\n",
      "['http://news.tf.co.kr/read/life/1821727.htm', 'http://www.ajunews.com/view/20201030192538025', 'http://news.tf.co.kr/read/economy/1821724.htm', 'http://www.newsis.com/view/?id=NISX20201030_0001216988&cID=13001&pID=13000', 'http://news.mk.co.kr/newsRead.php?no=1117278&year=2020', 'http://mksports.co.kr/view/2020/1117274/', 'http://www.k-health.com/news/articleView.html?idxno=50755', 'http://www.inews24.com/view/1310668', 'http://www.inews24.com/view/1312343', 'http://www.inews24.com/view/1310661']\n",
      "['http://www.laborplus.co.kr/news/articleView.html?idxno=25712', 'http://news.tf.co.kr/read/economy/1821551.htm', 'http://news.tf.co.kr/read/entertain/1821667.htm', 'http://news.tf.co.kr/read/ptoday/1821731.htm', 'http://www.edaily.co.kr/news/newspath.asp?newsid=01098806625938496', 'http://www.newsworks.co.kr/news/articleView.html?idxno=499499', 'http://www.sisamagazine.co.kr/news/articleView.html?idxno=334626', 'http://mksports.co.kr/view/2020/1117274/', 'http://www.k-health.com/news/articleView.html?idxno=50755', 'http://www.inews24.com/view/1310668']\n",
      "['http://www.laborplus.co.kr/news/articleView.html?idxno=25712', 'http://www.wowtv.co.kr/NewsCenter/News/Read?articleId=A202010300337&t=NN', 'https://www.dailian.co.kr/news/view/932477/?sc=Naver', 'http://news.tf.co.kr/read/ptoday/1821731.htm', 'http://www.edaily.co.kr/news/newspath.asp?newsid=01098806625938496', 'http://mksports.co.kr/view/2020/1117274/', 'http://www.k-health.com/news/articleView.html?idxno=50755', 'http://www.inews24.com/view/1310668', 'http://www.mydaily.co.kr/new_yk/html/read.php?newsid=202010302228154942&ext=na', 'http://news.tf.co.kr/read/economy/1821741.htm']\n",
      "['http://news.tf.co.kr/read/economy/1821551.htm', 'http://www.newsworks.co.kr/news/articleView.html?idxno=499499', 'http://www.sisamagazine.co.kr/news/articleView.html?idxno=334626', 'https://www.dailian.co.kr/news/view/932477/?sc=Naver', 'https://www.asiatoday.co.kr/view.php?key=20201030010018849', 'https://www.ytn.co.kr/_ln/0103_202010310001136553', 'http://mksports.co.kr/view/2020/1117274/', 'http://www.k-health.com/news/articleView.html?idxno=50755', 'http://www.inews24.com/view/1310668', 'http://www.mydaily.co.kr/new_yk/html/read.php?newsid=202010302228154942&ext=na']\n",
      "Wall time: 11.4 s\n"
     ]
    }
   ],
   "source": [
    "%%time\n",
    "htmlSelect = 'div.news_area > a'\n",
    "visited = set()\n",
    "\n",
    "for i in range(10):\n",
    "    urls = make_url('코로나', 2, i)\n",
    "    hrefs = DataTools.get_href(urls, htmlSelect)\n",
    "    print(hrefs)\n",
    "    \n",
    "#     for url in hrefs:\n",
    "        \n",
    "#         if url not in visited:\n",
    "#             visited.add(url)\n",
    "#             try:\n",
    "#                 article = DataTools.get_article(url)\n",
    "#                 print(article.title, article.publish_date)\n",
    "#             except:\n",
    "#                 print('pass:', url)\n",
    "                \n",
    "#     print(i, ':\\t', len(visited))"
   ]
  },
  {
   "cell_type": "code",
   "execution_count": 8,
   "metadata": {
    "collapsed": true,
    "jupyter": {
     "outputs_hidden": true
    }
   },
   "outputs": [
    {
     "name": "stdout",
     "output_type": "stream",
     "text": [
      "[TF이슈] '비밀의 방' 열리자 옵티머스 문건 나왔다 2020-10-31 00:00:02+09:00\n",
      "'롯데온세상' vs '쓱데이'…파격 할인 맞대결 승자는? 2020-10-31 00:00:02+09:00\n",
      "배터리 1위 전략 '첫 단추' LG화학, 주가 하락 우려에도 자신감 드러낸 이유 2020-10-31 00:00:02+09:00\n",
      "아이돌Live, ‘2020 코리아 뮤직 드라이브인 페스티벌’ 31일 생중계 2020-10-31 00:00:00+09:00\n",
      "인터넷가입 비교사이트 통해 SK KT LG 인터넷·TV 설치 시 \"현금 사은품 개통당일 지원\" 2020-10-31 00:00:01+00:00\n",
      "[코로나19에 맞선 공무원들] ⑧ 남산의 기적, 남산생활치료센터 2020-10-31 00:00:00+09:00\n",
      "'코로나 직격탄' 아모레퍼시픽, 4분기 반등 키워드 '광군제·디지털' 2020-10-31 00:00:01+09:00\n",
      "한국산업관광진흥협회, 中 옌타이시와 관광협력 플랫폼 구축 나선다 2020-10-31 00:00:00+09:00\n",
      "[TF업앤다운] 사랑의 결실 맺은 스타들…냉탕과 온탕 오간 SM 2020-10-31 00:00:01+09:00\n",
      "[TF프리즘] '미래차가 미래다'…文, 현대차 향한 애정 2020-10-31 00:01:02+09:00\n",
      "0 :\t 10\n",
      "[사설] 美·유럽 코로나 봉쇄령, 핼러윈데이 즐길 때 아니다 2020-10-31 00:01:02+09:00\n",
      "1 :\t 11\n",
      "pass: http://www.newsworks.co.kr/news/articleView.html?idxno=499499\n",
      "광주 남구, 민간의료 연계 ‘독거노인 의료방문 서비스’ 재개 2020-10-31 00:00:00+09:00\n",
      "2 :\t 13\n",
      "유태평양·임태경이 눈물로 부른 '국민 엄마' 고두심의 인생곡 None\n",
      "3 :\t 14\n",
      "마이데일리 2020-10-31 00:00:03+09:00\n",
      "[TF체험기] 소니, PS5에 촉각 강조하더니...다 계획이 있었구나 2020-10-31 00:00:03+09:00\n",
      "4 :\t 16\n"
     ]
    },
    {
     "ename": "KeyboardInterrupt",
     "evalue": "",
     "output_type": "error",
     "traceback": [
      "\u001b[1;31m---------------------------------------------------------------------------\u001b[0m",
      "\u001b[1;31mKeyboardInterrupt\u001b[0m                         Traceback (most recent call last)",
      "\u001b[1;32m<ipython-input-8-31eff68d7523>\u001b[0m in \u001b[0;36m<module>\u001b[1;34m\u001b[0m\n\u001b[0;32m      4\u001b[0m \u001b[1;32mfor\u001b[0m \u001b[0mi\u001b[0m \u001b[1;32min\u001b[0m \u001b[0mrange\u001b[0m\u001b[1;33m(\u001b[0m\u001b[1;36m10\u001b[0m\u001b[1;33m)\u001b[0m\u001b[1;33m:\u001b[0m\u001b[1;33m\u001b[0m\u001b[1;33m\u001b[0m\u001b[0m\n\u001b[0;32m      5\u001b[0m     \u001b[0murls\u001b[0m \u001b[1;33m=\u001b[0m \u001b[0mmake_url\u001b[0m\u001b[1;33m(\u001b[0m\u001b[1;34m'코로나'\u001b[0m\u001b[1;33m,\u001b[0m \u001b[1;36m2\u001b[0m\u001b[1;33m,\u001b[0m \u001b[0mi\u001b[0m\u001b[1;33m)\u001b[0m\u001b[1;33m\u001b[0m\u001b[1;33m\u001b[0m\u001b[0m\n\u001b[1;32m----> 6\u001b[1;33m     \u001b[0mhrefs\u001b[0m \u001b[1;33m=\u001b[0m \u001b[0mDataTools\u001b[0m\u001b[1;33m.\u001b[0m\u001b[0mget_href\u001b[0m\u001b[1;33m(\u001b[0m\u001b[0murls\u001b[0m\u001b[1;33m,\u001b[0m \u001b[0mhtmlSelect\u001b[0m\u001b[1;33m)\u001b[0m\u001b[1;33m\u001b[0m\u001b[1;33m\u001b[0m\u001b[0m\n\u001b[0m\u001b[0;32m      7\u001b[0m \u001b[1;33m\u001b[0m\u001b[0m\n\u001b[0;32m      8\u001b[0m     \u001b[1;32mfor\u001b[0m \u001b[0murl\u001b[0m \u001b[1;32min\u001b[0m \u001b[0mhrefs\u001b[0m\u001b[1;33m:\u001b[0m\u001b[1;33m\u001b[0m\u001b[1;33m\u001b[0m\u001b[0m\n",
      "\u001b[1;32m~\\Documents\\GitHub\\isProject\\DataTools.py\u001b[0m in \u001b[0;36mget_href\u001b[1;34m(url, select)\u001b[0m\n\u001b[0;32m     10\u001b[0m \u001b[1;33m\u001b[0m\u001b[0m\n\u001b[0;32m     11\u001b[0m     \u001b[1;32mif\u001b[0m \u001b[0mrequest\u001b[0m\u001b[1;33m.\u001b[0m\u001b[0mok\u001b[0m\u001b[1;33m:\u001b[0m\u001b[1;33m\u001b[0m\u001b[1;33m\u001b[0m\u001b[0m\n\u001b[1;32m---> 12\u001b[1;33m         \u001b[0mdocument\u001b[0m \u001b[1;33m=\u001b[0m \u001b[0mBeautifulSoup\u001b[0m\u001b[1;33m(\u001b[0m\u001b[0mrequest\u001b[0m\u001b[1;33m.\u001b[0m\u001b[0mtext\u001b[0m\u001b[1;33m,\u001b[0m \u001b[1;34m'html.parser'\u001b[0m\u001b[1;33m)\u001b[0m\u001b[1;33m\u001b[0m\u001b[1;33m\u001b[0m\u001b[0m\n\u001b[0m\u001b[0;32m     13\u001b[0m         \u001b[1;32mfor\u001b[0m \u001b[0ma\u001b[0m \u001b[1;32min\u001b[0m \u001b[0mdocument\u001b[0m\u001b[1;33m.\u001b[0m\u001b[0mselect\u001b[0m\u001b[1;33m(\u001b[0m\u001b[0mselect\u001b[0m\u001b[1;33m)\u001b[0m\u001b[1;33m:\u001b[0m\u001b[1;33m\u001b[0m\u001b[1;33m\u001b[0m\u001b[0m\n\u001b[0;32m     14\u001b[0m             \u001b[0mhref\u001b[0m \u001b[1;33m=\u001b[0m \u001b[0ma\u001b[0m\u001b[1;33m.\u001b[0m\u001b[0mget\u001b[0m\u001b[1;33m(\u001b[0m\u001b[1;34m'href'\u001b[0m\u001b[1;33m)\u001b[0m\u001b[1;33m\u001b[0m\u001b[1;33m\u001b[0m\u001b[0m\n",
      "\u001b[1;32m~\\Anaconda3\\envs\\proj\\lib\\site-packages\\bs4\\__init__.py\u001b[0m in \u001b[0;36m__init__\u001b[1;34m(self, markup, features, builder, parse_only, from_encoding, exclude_encodings, element_classes, **kwargs)\u001b[0m\n\u001b[0;32m    346\u001b[0m             \u001b[0mself\u001b[0m\u001b[1;33m.\u001b[0m\u001b[0mreset\u001b[0m\u001b[1;33m(\u001b[0m\u001b[1;33m)\u001b[0m\u001b[1;33m\u001b[0m\u001b[1;33m\u001b[0m\u001b[0m\n\u001b[0;32m    347\u001b[0m             \u001b[1;32mtry\u001b[0m\u001b[1;33m:\u001b[0m\u001b[1;33m\u001b[0m\u001b[1;33m\u001b[0m\u001b[0m\n\u001b[1;32m--> 348\u001b[1;33m                 \u001b[0mself\u001b[0m\u001b[1;33m.\u001b[0m\u001b[0m_feed\u001b[0m\u001b[1;33m(\u001b[0m\u001b[1;33m)\u001b[0m\u001b[1;33m\u001b[0m\u001b[1;33m\u001b[0m\u001b[0m\n\u001b[0m\u001b[0;32m    349\u001b[0m                 \u001b[0msuccess\u001b[0m \u001b[1;33m=\u001b[0m \u001b[1;32mTrue\u001b[0m\u001b[1;33m\u001b[0m\u001b[1;33m\u001b[0m\u001b[0m\n\u001b[0;32m    350\u001b[0m                 \u001b[1;32mbreak\u001b[0m\u001b[1;33m\u001b[0m\u001b[1;33m\u001b[0m\u001b[0m\n",
      "\u001b[1;32m~\\Anaconda3\\envs\\proj\\lib\\site-packages\\bs4\\__init__.py\u001b[0m in \u001b[0;36m_feed\u001b[1;34m(self)\u001b[0m\n\u001b[0;32m    432\u001b[0m         \u001b[0mself\u001b[0m\u001b[1;33m.\u001b[0m\u001b[0mbuilder\u001b[0m\u001b[1;33m.\u001b[0m\u001b[0mreset\u001b[0m\u001b[1;33m(\u001b[0m\u001b[1;33m)\u001b[0m\u001b[1;33m\u001b[0m\u001b[1;33m\u001b[0m\u001b[0m\n\u001b[0;32m    433\u001b[0m \u001b[1;33m\u001b[0m\u001b[0m\n\u001b[1;32m--> 434\u001b[1;33m         \u001b[0mself\u001b[0m\u001b[1;33m.\u001b[0m\u001b[0mbuilder\u001b[0m\u001b[1;33m.\u001b[0m\u001b[0mfeed\u001b[0m\u001b[1;33m(\u001b[0m\u001b[0mself\u001b[0m\u001b[1;33m.\u001b[0m\u001b[0mmarkup\u001b[0m\u001b[1;33m)\u001b[0m\u001b[1;33m\u001b[0m\u001b[1;33m\u001b[0m\u001b[0m\n\u001b[0m\u001b[0;32m    435\u001b[0m         \u001b[1;31m# Close out any unfinished strings and close all the open tags.\u001b[0m\u001b[1;33m\u001b[0m\u001b[1;33m\u001b[0m\u001b[1;33m\u001b[0m\u001b[0m\n\u001b[0;32m    436\u001b[0m         \u001b[0mself\u001b[0m\u001b[1;33m.\u001b[0m\u001b[0mendData\u001b[0m\u001b[1;33m(\u001b[0m\u001b[1;33m)\u001b[0m\u001b[1;33m\u001b[0m\u001b[1;33m\u001b[0m\u001b[0m\n",
      "\u001b[1;32m~\\Anaconda3\\envs\\proj\\lib\\site-packages\\bs4\\builder\\_htmlparser.py\u001b[0m in \u001b[0;36mfeed\u001b[1;34m(self, markup)\u001b[0m\n\u001b[0;32m    375\u001b[0m         \u001b[0mparser\u001b[0m\u001b[1;33m.\u001b[0m\u001b[0msoup\u001b[0m \u001b[1;33m=\u001b[0m \u001b[0mself\u001b[0m\u001b[1;33m.\u001b[0m\u001b[0msoup\u001b[0m\u001b[1;33m\u001b[0m\u001b[1;33m\u001b[0m\u001b[0m\n\u001b[0;32m    376\u001b[0m         \u001b[1;32mtry\u001b[0m\u001b[1;33m:\u001b[0m\u001b[1;33m\u001b[0m\u001b[1;33m\u001b[0m\u001b[0m\n\u001b[1;32m--> 377\u001b[1;33m             \u001b[0mparser\u001b[0m\u001b[1;33m.\u001b[0m\u001b[0mfeed\u001b[0m\u001b[1;33m(\u001b[0m\u001b[0mmarkup\u001b[0m\u001b[1;33m)\u001b[0m\u001b[1;33m\u001b[0m\u001b[1;33m\u001b[0m\u001b[0m\n\u001b[0m\u001b[0;32m    378\u001b[0m             \u001b[0mparser\u001b[0m\u001b[1;33m.\u001b[0m\u001b[0mclose\u001b[0m\u001b[1;33m(\u001b[0m\u001b[1;33m)\u001b[0m\u001b[1;33m\u001b[0m\u001b[1;33m\u001b[0m\u001b[0m\n\u001b[0;32m    379\u001b[0m         \u001b[1;32mexcept\u001b[0m \u001b[0mHTMLParseError\u001b[0m \u001b[1;32mas\u001b[0m \u001b[0me\u001b[0m\u001b[1;33m:\u001b[0m\u001b[1;33m\u001b[0m\u001b[1;33m\u001b[0m\u001b[0m\n",
      "\u001b[1;32m~\\Anaconda3\\envs\\proj\\lib\\html\\parser.py\u001b[0m in \u001b[0;36mfeed\u001b[1;34m(self, data)\u001b[0m\n\u001b[0;32m    109\u001b[0m         \"\"\"\n\u001b[0;32m    110\u001b[0m         \u001b[0mself\u001b[0m\u001b[1;33m.\u001b[0m\u001b[0mrawdata\u001b[0m \u001b[1;33m=\u001b[0m \u001b[0mself\u001b[0m\u001b[1;33m.\u001b[0m\u001b[0mrawdata\u001b[0m \u001b[1;33m+\u001b[0m \u001b[0mdata\u001b[0m\u001b[1;33m\u001b[0m\u001b[1;33m\u001b[0m\u001b[0m\n\u001b[1;32m--> 111\u001b[1;33m         \u001b[0mself\u001b[0m\u001b[1;33m.\u001b[0m\u001b[0mgoahead\u001b[0m\u001b[1;33m(\u001b[0m\u001b[1;36m0\u001b[0m\u001b[1;33m)\u001b[0m\u001b[1;33m\u001b[0m\u001b[1;33m\u001b[0m\u001b[0m\n\u001b[0m\u001b[0;32m    112\u001b[0m \u001b[1;33m\u001b[0m\u001b[0m\n\u001b[0;32m    113\u001b[0m     \u001b[1;32mdef\u001b[0m \u001b[0mclose\u001b[0m\u001b[1;33m(\u001b[0m\u001b[0mself\u001b[0m\u001b[1;33m)\u001b[0m\u001b[1;33m:\u001b[0m\u001b[1;33m\u001b[0m\u001b[1;33m\u001b[0m\u001b[0m\n",
      "\u001b[1;32m~\\Anaconda3\\envs\\proj\\lib\\html\\parser.py\u001b[0m in \u001b[0;36mgoahead\u001b[1;34m(self, end)\u001b[0m\n\u001b[0;32m    171\u001b[0m                     \u001b[0mk\u001b[0m \u001b[1;33m=\u001b[0m \u001b[0mself\u001b[0m\u001b[1;33m.\u001b[0m\u001b[0mparse_starttag\u001b[0m\u001b[1;33m(\u001b[0m\u001b[0mi\u001b[0m\u001b[1;33m)\u001b[0m\u001b[1;33m\u001b[0m\u001b[1;33m\u001b[0m\u001b[0m\n\u001b[0;32m    172\u001b[0m                 \u001b[1;32melif\u001b[0m \u001b[0mstartswith\u001b[0m\u001b[1;33m(\u001b[0m\u001b[1;34m\"</\"\u001b[0m\u001b[1;33m,\u001b[0m \u001b[0mi\u001b[0m\u001b[1;33m)\u001b[0m\u001b[1;33m:\u001b[0m\u001b[1;33m\u001b[0m\u001b[1;33m\u001b[0m\u001b[0m\n\u001b[1;32m--> 173\u001b[1;33m                     \u001b[0mk\u001b[0m \u001b[1;33m=\u001b[0m \u001b[0mself\u001b[0m\u001b[1;33m.\u001b[0m\u001b[0mparse_endtag\u001b[0m\u001b[1;33m(\u001b[0m\u001b[0mi\u001b[0m\u001b[1;33m)\u001b[0m\u001b[1;33m\u001b[0m\u001b[1;33m\u001b[0m\u001b[0m\n\u001b[0m\u001b[0;32m    174\u001b[0m                 \u001b[1;32melif\u001b[0m \u001b[0mstartswith\u001b[0m\u001b[1;33m(\u001b[0m\u001b[1;34m\"<!--\"\u001b[0m\u001b[1;33m,\u001b[0m \u001b[0mi\u001b[0m\u001b[1;33m)\u001b[0m\u001b[1;33m:\u001b[0m\u001b[1;33m\u001b[0m\u001b[1;33m\u001b[0m\u001b[0m\n\u001b[0;32m    175\u001b[0m                     \u001b[0mk\u001b[0m \u001b[1;33m=\u001b[0m \u001b[0mself\u001b[0m\u001b[1;33m.\u001b[0m\u001b[0mparse_comment\u001b[0m\u001b[1;33m(\u001b[0m\u001b[0mi\u001b[0m\u001b[1;33m)\u001b[0m\u001b[1;33m\u001b[0m\u001b[1;33m\u001b[0m\u001b[0m\n",
      "\u001b[1;32m~\\Anaconda3\\envs\\proj\\lib\\html\\parser.py\u001b[0m in \u001b[0;36mparse_endtag\u001b[1;34m(self, i)\u001b[0m\n\u001b[0;32m    419\u001b[0m                 \u001b[1;32mreturn\u001b[0m \u001b[0mgtpos\u001b[0m\u001b[1;33m\u001b[0m\u001b[1;33m\u001b[0m\u001b[0m\n\u001b[0;32m    420\u001b[0m \u001b[1;33m\u001b[0m\u001b[0m\n\u001b[1;32m--> 421\u001b[1;33m         \u001b[0mself\u001b[0m\u001b[1;33m.\u001b[0m\u001b[0mhandle_endtag\u001b[0m\u001b[1;33m(\u001b[0m\u001b[0melem\u001b[0m\u001b[1;33m)\u001b[0m\u001b[1;33m\u001b[0m\u001b[1;33m\u001b[0m\u001b[0m\n\u001b[0m\u001b[0;32m    422\u001b[0m         \u001b[0mself\u001b[0m\u001b[1;33m.\u001b[0m\u001b[0mclear_cdata_mode\u001b[0m\u001b[1;33m(\u001b[0m\u001b[1;33m)\u001b[0m\u001b[1;33m\u001b[0m\u001b[1;33m\u001b[0m\u001b[0m\n\u001b[0;32m    423\u001b[0m         \u001b[1;32mreturn\u001b[0m \u001b[0mgtpos\u001b[0m\u001b[1;33m\u001b[0m\u001b[1;33m\u001b[0m\u001b[0m\n",
      "\u001b[1;32m~\\Anaconda3\\envs\\proj\\lib\\site-packages\\bs4\\builder\\_htmlparser.py\u001b[0m in \u001b[0;36mhandle_endtag\u001b[1;34m(self, name, check_already_closed)\u001b[0m\n\u001b[0;32m    185\u001b[0m             \u001b[0mself\u001b[0m\u001b[1;33m.\u001b[0m\u001b[0malready_closed_empty_element\u001b[0m\u001b[1;33m.\u001b[0m\u001b[0mremove\u001b[0m\u001b[1;33m(\u001b[0m\u001b[0mname\u001b[0m\u001b[1;33m)\u001b[0m\u001b[1;33m\u001b[0m\u001b[1;33m\u001b[0m\u001b[0m\n\u001b[0;32m    186\u001b[0m         \u001b[1;32melse\u001b[0m\u001b[1;33m:\u001b[0m\u001b[1;33m\u001b[0m\u001b[1;33m\u001b[0m\u001b[0m\n\u001b[1;32m--> 187\u001b[1;33m             \u001b[0mself\u001b[0m\u001b[1;33m.\u001b[0m\u001b[0msoup\u001b[0m\u001b[1;33m.\u001b[0m\u001b[0mhandle_endtag\u001b[0m\u001b[1;33m(\u001b[0m\u001b[0mname\u001b[0m\u001b[1;33m)\u001b[0m\u001b[1;33m\u001b[0m\u001b[1;33m\u001b[0m\u001b[0m\n\u001b[0m\u001b[0;32m    188\u001b[0m \u001b[1;33m\u001b[0m\u001b[0m\n\u001b[0;32m    189\u001b[0m     \u001b[1;32mdef\u001b[0m \u001b[0mhandle_data\u001b[0m\u001b[1;33m(\u001b[0m\u001b[0mself\u001b[0m\u001b[1;33m,\u001b[0m \u001b[0mdata\u001b[0m\u001b[1;33m)\u001b[0m\u001b[1;33m:\u001b[0m\u001b[1;33m\u001b[0m\u001b[1;33m\u001b[0m\u001b[0m\n",
      "\u001b[1;31mKeyboardInterrupt\u001b[0m: "
     ]
    }
   ],
   "source": [
    "htmlSelect = 'div.news_area > a'\n",
    "visited = set()\n",
    "\n",
    "for i in range(10):\n",
    "    urls = make_url('코로나', 2, i * 10)\n",
    "    hrefs = DataTools.get_href(urls, htmlSelect)\n",
    "    \n",
    "    for url in hrefs:\n",
    "        if url not in visited:\n",
    "            visited.add(url)\n",
    "            try:\n",
    "                article = DataTools.get_article(url)\n",
    "                print(article.title, article.publish_date)\n",
    "            except:\n",
    "                print('pass:', url)\n",
    "                \n",
    "    print(i, ':\\t', len(visited))"
   ]
  },
  {
   "cell_type": "code",
   "execution_count": 88,
   "metadata": {},
   "outputs": [
    {
     "data": {
      "text/plain": [
       "87"
      ]
     },
     "execution_count": 88,
     "metadata": {},
     "output_type": "execute_result"
    }
   ],
   "source": [
    "len(set(hrefs))"
   ]
  },
  {
   "cell_type": "code",
   "execution_count": 21,
   "metadata": {},
   "outputs": [
    {
     "data": {
      "text/plain": [
       "False"
      ]
     },
     "execution_count": 21,
     "metadata": {},
     "output_type": "execute_result"
    }
   ],
   "source": [
    "not list([1, 2])"
   ]
  },
  {
   "cell_type": "code",
   "execution_count": null,
   "metadata": {},
   "outputs": [],
   "source": []
  }
 ],
 "metadata": {
  "kernelspec": {
   "display_name": "isProject",
   "language": "python",
   "name": "proj"
  },
  "language_info": {
   "codemirror_mode": {
    "name": "ipython",
    "version": 3
   },
   "file_extension": ".py",
   "mimetype": "text/x-python",
   "name": "python",
   "nbconvert_exporter": "python",
   "pygments_lexer": "ipython3",
   "version": "3.7.9"
  }
 },
 "nbformat": 4,
 "nbformat_minor": 4
}
