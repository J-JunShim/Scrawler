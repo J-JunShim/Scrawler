{
 "cells": [
  {
   "cell_type": "code",
   "execution_count": 1,
   "id": "0bdaab8a-8c33-417f-ba11-4498e3bee132",
   "metadata": {},
   "outputs": [],
   "source": [
    "import requests\n",
    "\n",
    "from IPython.display import clear_output\n",
    "\n",
    "from modules import naver\n",
    "from modules.utils import iotools"
   ]
  },
  {
   "cell_type": "code",
   "execution_count": 2,
   "id": "e1c8396f-5532-492e-8b63-62e4aadf34ee",
   "metadata": {},
   "outputs": [],
   "source": [
    "naverDriver = naver.CafeDriver()\n",
    "# driver = naverDriver.start_driver('headless')\n",
    "\n",
    "# naverDriver.login()\n"
   ]
  },
  {
   "cell_type": "code",
   "execution_count": 4,
   "id": "7e87a2d2-3c70-45b2-bee5-48723f6c9940",
   "metadata": {},
   "outputs": [
    {
     "ename": "AttributeError",
     "evalue": "'NoneType' object has no attribute 'get_cookies'",
     "output_type": "error",
     "traceback": [
      "\u001b[1;31m---------------------------------------------------------------------------\u001b[0m",
      "\u001b[1;31mAttributeError\u001b[0m                            Traceback (most recent call last)",
      "\u001b[1;32me:\\Projects\\research\\naver_crawler.ipynb 셀 3\u001b[0m in \u001b[0;36m<cell line: 1>\u001b[1;34m()\u001b[0m\n\u001b[1;32m----> <a href='vscode-notebook-cell:/e%3A/Projects/research/naver_crawler.ipynb#ch0000004?line=0'>1</a>\u001b[0m naverDriver\u001b[39m.\u001b[39;49msave_cookie()\n\u001b[0;32m      <a href='vscode-notebook-cell:/e%3A/Projects/research/naver_crawler.ipynb#ch0000004?line=1'>2</a>\u001b[0m naverDriver\u001b[39m.\u001b[39mclose_driver()\n",
      "File \u001b[1;32me:\\Projects\\research\\modules\\naver.py:107\u001b[0m, in \u001b[0;36mCafeDriver.save_cookie\u001b[1;34m(self)\u001b[0m\n\u001b[0;32m    106\u001b[0m \u001b[39mdef\u001b[39;00m \u001b[39msave_cookie\u001b[39m(\u001b[39mself\u001b[39m):\n\u001b[1;32m--> 107\u001b[0m     \u001b[39mself\u001b[39;49m\u001b[39m.\u001b[39;49mget_cookie()\n\u001b[0;32m    109\u001b[0m     iotools\u001b[39m.\u001b[39msave_in_json(\u001b[39mself\u001b[39m\u001b[39m.\u001b[39mcookieFile, \u001b[39mself\u001b[39m\u001b[39m.\u001b[39mcookies)\n",
      "File \u001b[1;32me:\\Projects\\research\\modules\\driver.py:42\u001b[0m, in \u001b[0;36mDriver.get_cookie\u001b[1;34m(self)\u001b[0m\n\u001b[0;32m     41\u001b[0m \u001b[39mdef\u001b[39;00m \u001b[39mget_cookie\u001b[39m(\u001b[39mself\u001b[39m):\n\u001b[1;32m---> 42\u001b[0m     \u001b[39mself\u001b[39m\u001b[39m.\u001b[39mcookies \u001b[39m=\u001b[39m \u001b[39mself\u001b[39;49m\u001b[39m.\u001b[39;49mdriver\u001b[39m.\u001b[39;49mget_cookies()\n",
      "\u001b[1;31mAttributeError\u001b[0m: 'NoneType' object has no attribute 'get_cookies'"
     ]
    }
   ],
   "source": [
    "naverDriver.save_cookie()\n",
    "naverDriver.close_driver()"
   ]
  },
  {
   "cell_type": "code",
   "execution_count": 3,
   "id": "06c727bc-7f29-4f2c-b199-b0f48249665f",
   "metadata": {
    "tags": []
   },
   "outputs": [],
   "source": [
    "headers = {'User-Agent': 'Mozilla/5.0'}\n",
    "cookies = iotools.load_from_json(naverDriver.cookieFile)\n",
    "session = requests.Session()\n",
    "\n",
    "session.headers.update(headers)\n",
    "for cookie in cookies:\n",
    "    session.cookies.set(cookie['name'], cookie['value'])\n"
   ]
  },
  {
   "cell_type": "code",
   "execution_count": 5,
   "id": "f584b05b-441f-412e-a9a7-b3f5c72d20ef",
   "metadata": {
    "scrolled": true,
    "tags": []
   },
   "outputs": [
    {
     "name": "stdout",
     "output_type": "stream",
     "text": [
      "[2022-07-11T10:11:21.716692] 코뮤니티 cafe is Done!\n"
     ]
    }
   ],
   "source": [
    "cafeIDDict = {'스펙업': 15754634, '독취사': 16996348, '코뮤니티': 30026525}\n",
    "menuIDDict = {15754634: [1211, 9686, 1212, 8719, 870, 2642, 9486, 4830], 16996348: [\n",
    "    313, 325, 710, 390, 634, 1233, 1162, 218, 3217, 191, 3218, 868, 168, 811, 423, 3365], 30026525: [1, 140, 340, 341, 342]}\n",
    "\n",
    "for cafeName, cafeID in cafeIDDict.items():\n",
    "    naverDriver.now()\n",
    "    print(cafeName, 'cafe is start!')\n",
    "\n",
    "    for menuID in menuIDDict.get(cafeID):\n",
    "        articleIDList = []\n",
    "        page = 1\n",
    "\n",
    "        while page <= 1000:\n",
    "            url = naver.url_gen_list(cafeID, menuID, page)\n",
    "            response = session.get(url)\n",
    "\n",
    "            if response.ok:\n",
    "                data = response.json()\n",
    "            articles = data['message']['result']['articleList']\n",
    "\n",
    "            if articles:\n",
    "                articleIDList.extend(articles)\n",
    "            else:\n",
    "                break\n",
    "            page += 1\n",
    "\n",
    "        timestamp = naverDriver.now().strftime('%Y%m%d_%H%M')\n",
    "        fileName = f'./data/{timestamp}_{cafeID}_{menuID}-articles.json'\n",
    "\n",
    "        iotools.save_in_json(fileName, articleIDList)\n",
    "        clear_output(wait=True)\n",
    "\n",
    "    naverDriver.now()\n",
    "    print(cafeName, 'cafe is Done!')\n"
   ]
  },
  {
   "cell_type": "code",
   "execution_count": 16,
   "id": "b1703807-3f85-4f7c-83c6-98a49b9ea014",
   "metadata": {},
   "outputs": [],
   "source": [
    "articleIDList = list(set(articleIDList))"
   ]
  },
  {
   "cell_type": "code",
   "execution_count": 18,
   "id": "b7c632a4-96bb-4ad2-bc92-49754352062f",
   "metadata": {},
   "outputs": [
    {
     "name": "stdout",
     "output_type": "stream",
     "text": [
      "[2022-07-10T13:15:27.931815] "
     ]
    }
   ],
   "source": [
    "timestamp = naverDriver.now().strftime('%Y%m%d_%H%M')\n",
    "iotools.save_in_json(f'./data/{timestamp}_{cafeID}_{menuID}-articlelist.json', articleIDList)"
   ]
  },
  {
   "cell_type": "code",
   "execution_count": null,
   "id": "786b5f4e-e5e8-4d65-b2ec-18c79322f816",
   "metadata": {},
   "outputs": [],
   "source": []
  }
 ],
 "metadata": {
  "kernelspec": {
   "display_name": "ipa",
   "language": "python",
   "name": "ipa"
  },
  "language_info": {
   "codemirror_mode": {
    "name": "ipython",
    "version": 3
   },
   "file_extension": ".py",
   "mimetype": "text/x-python",
   "name": "python",
   "nbconvert_exporter": "python",
   "pygments_lexer": "ipython3",
   "version": "3.10.4"
  },
  "vscode": {
   "interpreter": {
    "hash": "ba24b226aaf4271adebaaacf0c2756f2df3efb861d05e9772efb2cac98308cc9"
   }
  }
 },
 "nbformat": 4,
 "nbformat_minor": 5
}
