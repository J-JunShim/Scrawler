{
 "cells": [
  {
   "cell_type": "code",
   "execution_count": 1,
   "id": "6fc7d6c8-a6be-4f01-a3e4-1414dc0b83cd",
   "metadata": {},
   "outputs": [],
   "source": [
    "import os\n",
    "import re\n",
    "import pandas as pd"
   ]
  },
  {
   "cell_type": "code",
   "execution_count": 2,
   "id": "6c0bed83-d20c-4964-893e-3c2f9d7aa5e6",
   "metadata": {},
   "outputs": [
    {
     "name": "stdout",
     "output_type": "stream",
     "text": [
      "<class 'pandas.core.frame.DataFrame'>\n",
      "Int64Index: 368875 entries, 0 to 371075\n",
      "Data columns (total 7 columns):\n",
      " #   Column   Non-Null Count   Dtype \n",
      "---  ------   --------------   ----- \n",
      " 0   id       368875 non-null  int64 \n",
      " 1   menu     368875 non-null  int64 \n",
      " 2   cafe     368875 non-null  int64 \n",
      " 3   title    368875 non-null  object\n",
      " 4   author   368875 non-null  object\n",
      " 5   date     368875 non-null  object\n",
      " 6   content  368875 non-null  object\n",
      "dtypes: int64(3), object(4)\n",
      "memory usage: 22.5+ MB\n"
     ]
    }
   ],
   "source": [
    "fileList = ('./data/' + _ for _ in os.listdir('./data/') if 'article.csv' in _)\n",
    "dataset = (pd.read_csv(file) for file in fileList)\n",
    "dataDF = pd.concat(dataset, ignore_index=True).dropna()\n",
    "\n",
    "dataDF.info()\n",
    "    "
   ]
  },
  {
   "cell_type": "code",
   "execution_count": 33,
   "id": "9451fab5-f793-454f-929b-295c8d4d0c8f",
   "metadata": {},
   "outputs": [
    {
     "name": "stderr",
     "output_type": "stream",
     "text": [
      "Skipping line 39569: NULL byte detected. This byte cannot be processed in Python's native csv library at the moment, so please pass in engine='c' instead\n",
      "Skipping line 40359: NULL byte detected. This byte cannot be processed in Python's native csv library at the moment, so please pass in engine='c' instead\n",
      "Skipping line 41736: NULL byte detected. This byte cannot be processed in Python's native csv library at the moment, so please pass in engine='c' instead\n",
      "Skipping line 42836: NULL byte detected. This byte cannot be processed in Python's native csv library at the moment, so please pass in engine='c' instead\n",
      "Skipping line 62743: NULL byte detected. This byte cannot be processed in Python's native csv library at the moment, so please pass in engine='c' instead\n"
     ]
    },
    {
     "name": "stdout",
     "output_type": "stream",
     "text": [
      "<class 'pandas.core.frame.DataFrame'>\n",
      "Int64Index: 1170761 entries, 0 to 1205323\n",
      "Data columns (total 5 columns):\n",
      " #   Column  Non-Null Count    Dtype  \n",
      "---  ------  --------------    -----  \n",
      " 0   ï»¿id   1170761 non-null  object \n",
      " 1   cafe    1170761 non-null  float64\n",
      " 2   name    1170761 non-null  object \n",
      " 3   date    1170761 non-null  object \n",
      " 4   text    1170761 non-null  object \n",
      "dtypes: float64(1), object(4)\n",
      "memory usage: 53.6+ MB\n"
     ]
    }
   ],
   "source": [
    "fileList = ('./data/' + _ for _ in os.listdir('./data/') if 'comment.csv' in _)\n",
    "dataset = (pd.read_csv(file, encoding='ISO-8859-1', on_bad_lines='warn', engine='python') for file in fileList)\n",
    "commentDF = pd.concat(dataset, ignore_index=True).dropna()\n",
    "\n",
    "commentDF.info()"
   ]
  },
  {
   "cell_type": "code",
   "execution_count": 3,
   "id": "4eedc002-13d0-4a95-92bc-32b6fb04b707",
   "metadata": {},
   "outputs": [],
   "source": [
    "dataDF['date'] = pd.to_datetime(dataDF['date'], format='%Y-%m-%dT%H:%M:%S')"
   ]
  },
  {
   "cell_type": "code",
   "execution_count": 4,
   "id": "4f4eb8a7-0009-4b89-a7ea-8a8107f81faf",
   "metadata": {
    "collapsed": true,
    "jupyter": {
     "outputs_hidden": true
    },
    "tags": []
   },
   "outputs": [
    {
     "data": {
      "text/html": [
       "<div>\n",
       "<style scoped>\n",
       "    .dataframe tbody tr th:only-of-type {\n",
       "        vertical-align: middle;\n",
       "    }\n",
       "\n",
       "    .dataframe tbody tr th {\n",
       "        vertical-align: top;\n",
       "    }\n",
       "\n",
       "    .dataframe thead th {\n",
       "        text-align: right;\n",
       "    }\n",
       "</style>\n",
       "<table border=\"1\" class=\"dataframe\">\n",
       "  <thead>\n",
       "    <tr style=\"text-align: right;\">\n",
       "      <th></th>\n",
       "      <th>id</th>\n",
       "      <th>menu</th>\n",
       "      <th>cafe</th>\n",
       "      <th>title</th>\n",
       "      <th>author</th>\n",
       "      <th>date</th>\n",
       "      <th>content</th>\n",
       "    </tr>\n",
       "  </thead>\n",
       "  <tbody>\n",
       "    <tr>\n",
       "      <th>166618</th>\n",
       "      <td>11670006</td>\n",
       "      <td>313</td>\n",
       "      <td>16996348</td>\n",
       "      <td>다대일 면접 분위기</td>\n",
       "      <td>olkm03</td>\n",
       "      <td>2022-04-23 20:22:48.793</td>\n",
       "      <td>다대일 면접 분위기 어떤가요?다대다 면접보다 떨릴 것 같아요..ㅎ​🔥 꼭 봐야할 이...</td>\n",
       "    </tr>\n",
       "    <tr>\n",
       "      <th>15527</th>\n",
       "      <td>6648215</td>\n",
       "      <td>1211</td>\n",
       "      <td>15754634</td>\n",
       "      <td>고구마 맛잇네요 제철이라</td>\n",
       "      <td>ynpfvpzbdjyxi</td>\n",
       "      <td>2021-03-11 16:02:53.607</td>\n",
       "      <td>​​​​꿀맛​​​🔥최초배포🔥 자소서, 면접 준비 시간 확 줄여주는  직무별 가이드북...</td>\n",
       "    </tr>\n",
       "    <tr>\n",
       "      <th>275496</th>\n",
       "      <td>4376481</td>\n",
       "      <td>423</td>\n",
       "      <td>16996348</td>\n",
       "      <td>인턴 3개이상했는데 필요없나요&gt;</td>\n",
       "      <td>rjstjd0417</td>\n",
       "      <td>2014-03-04 22:18:04.633</td>\n",
       "      <td>근데 단기로함.. 두달 한달 한달            [[[CONTENT-ELEME...</td>\n",
       "    </tr>\n",
       "    <tr>\n",
       "      <th>319759</th>\n",
       "      <td>11771318</td>\n",
       "      <td>811</td>\n",
       "      <td>16996348</td>\n",
       "      <td>1분 자기소개로 하반기 취준 대비하자!</td>\n",
       "      <td>fhj78</td>\n",
       "      <td>2022-07-01 14:32:32.497</td>\n",
       "      <td>하반기 공채 시즌이 시작되고 있습니다이번 분기에도 여러 회사에서 채용이 진행될 예정...</td>\n",
       "    </tr>\n",
       "    <tr>\n",
       "      <th>140460</th>\n",
       "      <td>10255618</td>\n",
       "      <td>218</td>\n",
       "      <td>16996348</td>\n",
       "      <td>중견 재무회계팀 스펙 방향 고민입니다. (세무사 1차)</td>\n",
       "      <td>ksh0168</td>\n",
       "      <td>2020-06-16 00:40:58.050</td>\n",
       "      <td>[[[CONTENT-ELEMENT-0]]]  제목 작성 방법을 꼭 지켜주세요! ▶ ...</td>\n",
       "    </tr>\n",
       "  </tbody>\n",
       "</table>\n",
       "</div>"
      ],
      "text/plain": [
       "              id  menu      cafe                           title  \\\n",
       "166618  11670006   313  16996348                      다대일 면접 분위기   \n",
       "15527    6648215  1211  15754634                   고구마 맛잇네요 제철이라   \n",
       "275496   4376481   423  16996348               인턴 3개이상했는데 필요없나요>   \n",
       "319759  11771318   811  16996348           1분 자기소개로 하반기 취준 대비하자!   \n",
       "140460  10255618   218  16996348  중견 재무회계팀 스펙 방향 고민입니다. (세무사 1차)   \n",
       "\n",
       "               author                    date  \\\n",
       "166618         olkm03 2022-04-23 20:22:48.793   \n",
       "15527   ynpfvpzbdjyxi 2021-03-11 16:02:53.607   \n",
       "275496     rjstjd0417 2014-03-04 22:18:04.633   \n",
       "319759          fhj78 2022-07-01 14:32:32.497   \n",
       "140460        ksh0168 2020-06-16 00:40:58.050   \n",
       "\n",
       "                                                  content  \n",
       "166618  다대일 면접 분위기 어떤가요?다대다 면접보다 떨릴 것 같아요..ㅎ​🔥 꼭 봐야할 이...  \n",
       "15527   ​​​​꿀맛​​​🔥최초배포🔥 자소서, 면접 준비 시간 확 줄여주는  직무별 가이드북...  \n",
       "275496  근데 단기로함.. 두달 한달 한달            [[[CONTENT-ELEME...  \n",
       "319759  하반기 공채 시즌이 시작되고 있습니다이번 분기에도 여러 회사에서 채용이 진행될 예정...  \n",
       "140460  [[[CONTENT-ELEMENT-0]]]  제목 작성 방법을 꼭 지켜주세요! ▶ ...  "
      ]
     },
     "execution_count": 4,
     "metadata": {},
     "output_type": "execute_result"
    }
   ],
   "source": [
    "dataDF.sample(5)"
   ]
  },
  {
   "cell_type": "code",
   "execution_count": 13,
   "id": "192e61b9-00d6-45b4-af4c-10f09cc22df1",
   "metadata": {},
   "outputs": [
    {
     "data": {
      "text/html": [
       "<div>\n",
       "<style scoped>\n",
       "    .dataframe tbody tr th:only-of-type {\n",
       "        vertical-align: middle;\n",
       "    }\n",
       "\n",
       "    .dataframe tbody tr th {\n",
       "        vertical-align: top;\n",
       "    }\n",
       "\n",
       "    .dataframe thead th {\n",
       "        text-align: right;\n",
       "    }\n",
       "</style>\n",
       "<table border=\"1\" class=\"dataframe\">\n",
       "  <thead>\n",
       "    <tr style=\"text-align: right;\">\n",
       "      <th></th>\n",
       "      <th>id</th>\n",
       "      <th>menu</th>\n",
       "      <th>cafe</th>\n",
       "      <th>title</th>\n",
       "      <th>author</th>\n",
       "      <th>content</th>\n",
       "    </tr>\n",
       "    <tr>\n",
       "      <th>date</th>\n",
       "      <th></th>\n",
       "      <th></th>\n",
       "      <th></th>\n",
       "      <th></th>\n",
       "      <th></th>\n",
       "      <th></th>\n",
       "    </tr>\n",
       "  </thead>\n",
       "  <tbody>\n",
       "    <tr>\n",
       "      <th>2012-12-31</th>\n",
       "      <td>228</td>\n",
       "      <td>228</td>\n",
       "      <td>228</td>\n",
       "      <td>228</td>\n",
       "      <td>228</td>\n",
       "      <td>228</td>\n",
       "    </tr>\n",
       "    <tr>\n",
       "      <th>2013-12-31</th>\n",
       "      <td>4844</td>\n",
       "      <td>4844</td>\n",
       "      <td>4844</td>\n",
       "      <td>4844</td>\n",
       "      <td>4844</td>\n",
       "      <td>4844</td>\n",
       "    </tr>\n",
       "    <tr>\n",
       "      <th>2014-12-31</th>\n",
       "      <td>6588</td>\n",
       "      <td>6588</td>\n",
       "      <td>6588</td>\n",
       "      <td>6588</td>\n",
       "      <td>6588</td>\n",
       "      <td>6588</td>\n",
       "    </tr>\n",
       "    <tr>\n",
       "      <th>2015-12-31</th>\n",
       "      <td>6829</td>\n",
       "      <td>6829</td>\n",
       "      <td>6829</td>\n",
       "      <td>6829</td>\n",
       "      <td>6829</td>\n",
       "      <td>6829</td>\n",
       "    </tr>\n",
       "    <tr>\n",
       "      <th>2016-12-31</th>\n",
       "      <td>9897</td>\n",
       "      <td>9897</td>\n",
       "      <td>9897</td>\n",
       "      <td>9897</td>\n",
       "      <td>9897</td>\n",
       "      <td>9897</td>\n",
       "    </tr>\n",
       "    <tr>\n",
       "      <th>2017-12-31</th>\n",
       "      <td>18098</td>\n",
       "      <td>18098</td>\n",
       "      <td>18098</td>\n",
       "      <td>18098</td>\n",
       "      <td>18098</td>\n",
       "      <td>18098</td>\n",
       "    </tr>\n",
       "    <tr>\n",
       "      <th>2018-12-31</th>\n",
       "      <td>29999</td>\n",
       "      <td>29999</td>\n",
       "      <td>29999</td>\n",
       "      <td>29999</td>\n",
       "      <td>29999</td>\n",
       "      <td>29999</td>\n",
       "    </tr>\n",
       "    <tr>\n",
       "      <th>2019-12-31</th>\n",
       "      <td>24351</td>\n",
       "      <td>24351</td>\n",
       "      <td>24351</td>\n",
       "      <td>24351</td>\n",
       "      <td>24351</td>\n",
       "      <td>24351</td>\n",
       "    </tr>\n",
       "    <tr>\n",
       "      <th>2020-12-31</th>\n",
       "      <td>51330</td>\n",
       "      <td>51330</td>\n",
       "      <td>51330</td>\n",
       "      <td>51330</td>\n",
       "      <td>51330</td>\n",
       "      <td>51330</td>\n",
       "    </tr>\n",
       "    <tr>\n",
       "      <th>2021-12-31</th>\n",
       "      <td>116556</td>\n",
       "      <td>116556</td>\n",
       "      <td>116556</td>\n",
       "      <td>116556</td>\n",
       "      <td>116556</td>\n",
       "      <td>116556</td>\n",
       "    </tr>\n",
       "    <tr>\n",
       "      <th>2022-12-31</th>\n",
       "      <td>100155</td>\n",
       "      <td>100155</td>\n",
       "      <td>100155</td>\n",
       "      <td>100155</td>\n",
       "      <td>100155</td>\n",
       "      <td>100155</td>\n",
       "    </tr>\n",
       "  </tbody>\n",
       "</table>\n",
       "</div>"
      ],
      "text/plain": [
       "                id    menu    cafe   title  author  content\n",
       "date                                                       \n",
       "2012-12-31     228     228     228     228     228      228\n",
       "2013-12-31    4844    4844    4844    4844    4844     4844\n",
       "2014-12-31    6588    6588    6588    6588    6588     6588\n",
       "2015-12-31    6829    6829    6829    6829    6829     6829\n",
       "2016-12-31    9897    9897    9897    9897    9897     9897\n",
       "2017-12-31   18098   18098   18098   18098   18098    18098\n",
       "2018-12-31   29999   29999   29999   29999   29999    29999\n",
       "2019-12-31   24351   24351   24351   24351   24351    24351\n",
       "2020-12-31   51330   51330   51330   51330   51330    51330\n",
       "2021-12-31  116556  116556  116556  116556  116556   116556\n",
       "2022-12-31  100155  100155  100155  100155  100155   100155"
      ]
     },
     "execution_count": 13,
     "metadata": {},
     "output_type": "execute_result"
    }
   ],
   "source": [
    "dataDF.groupby(pd.Grouper(key='date', freq='Y')).count()"
   ]
  },
  {
   "cell_type": "code",
   "execution_count": 5,
   "id": "c617f744-848f-4f7e-a34a-452b82ed9110",
   "metadata": {},
   "outputs": [],
   "source": [
    "data = dataDF.copy()\n",
    "\n",
    "data['year'] = data.date.dt.year"
   ]
  },
  {
   "cell_type": "code",
   "execution_count": 16,
   "id": "b33e4724-3877-45e4-9620-1c62ac9ee895",
   "metadata": {},
   "outputs": [
    {
     "data": {
      "text/plain": [
       "<AxesSubplot:xlabel='year'>"
      ]
     },
     "execution_count": 16,
     "metadata": {},
     "output_type": "execute_result"
    },
    {
     "data": {
      "image/png": "[encoded data removed]",
      "text/plain": [
       "<Figure size 432x288 with 1 Axes>"
      ]
     },
     "metadata": {
      "needs_background": "light"
     },
     "output_type": "display_data"
    }
   ],
   "source": [
    "dataCount = data[['year', 'content']].groupby(['year']).count()\n",
    "dataPlot = dataCount.plot.bar()\n",
    "\n",
    "dataPlot"
   ]
  },
  {
   "cell_type": "code",
   "execution_count": 21,
   "id": "64237c61-5ae3-4b45-add3-49ede67887db",
   "metadata": {},
   "outputs": [],
   "source": [
    "dataCount.to_excel('./data/countbyyear.xlsx', encoding='utf-8-sig')"
   ]
  },
  {
   "cell_type": "code",
   "execution_count": 17,
   "id": "c22fe6da-bba8-447a-bcb2-a041300cf4eb",
   "metadata": {},
   "outputs": [
    {
     "data": {
      "text/plain": [
       "matplotlib.axes._subplots.AxesSubplot"
      ]
     },
     "execution_count": 17,
     "metadata": {},
     "output_type": "execute_result"
    }
   ],
   "source": [
    "type(dataPlot)"
   ]
  },
  {
   "cell_type": "code",
   "execution_count": 5,
   "id": "34e0be0a-2387-46e0-8635-22b97d97cd1c",
   "metadata": {},
   "outputs": [
    {
     "data": {
      "text/plain": [
       "'2학년 1학기 마치고 개인사정으로 휴학하게 되었는데, 1년동안 영어공부만 하기는 좀 그래서 c언어를 공부한 다음에 반도체 관련된 프로그래밍 언어를 공부해볼까 합니다.\\u200b첫 번째는 verilog공부를 해서 최종적으로는 FPGA공부도 해볼 생각입니다. 하지만 여기서 걸리는게 FPGA와 verilog는 주로 석사부터 메리트가 있다고 알고있는 회로설계 분야에 많이 쓰이는데, 저는 대학원 생각이 없어서 나중에 도움이 될지 모르겠습니다. 물론 학사로도 회로설계쪽으로 갈 수 있다면 그쪽을 우선적으로 지망할 것 같습니다.\\u200b두 번째는 python공부를 하고, 그걸로 tensorflow deep learning 공부를 해볼 생각입니다. 1학년 2학기 프로그래밍 시간에 조금 배우긴 했지만, 약간 암기?식으로 가르쳐주시고 공부도 그렇게 해서 알고 있는 내용은 별로 없습니다. 평소에 해보고싶은 부분이었기도하고, 만약 나중에 반도체가 아닌 다른 진로를 생각하더라도 FPGA보단 범용성이 높을 것 같기 때문입니다. 하지만 여기서 망설여지는건, 삼성전자 직무기술서를 봤을 때 Deep learning이 언급된 분아가 공정설계밖에 없어서 반도체와 크게 관련이 있는지 의문입니다.\\u200b답변 주시면 정말정말 감사하겠습니다...\\u200b🚨대학생 베스트 인기글🚨 \\u200b🤔전공학점 3.98인데 4.0이랑 차이 많은가요? https://vo.la/JRYr3D\\u200b\\u200b😋휴학 알차게 보내는 방법!! https://vo.la/d6Ki5I\\u200b\\u200b💦졸업생이 후회하는 전공 1위 └ 취업 잘 되는건 다 옛말이네 ... https://bit.ly/3LSHa8M\\u200b\\u200b💰필기/면접후기만 남기면 오천원 바로 드림! https://vo.la/ViAGU1\\u200b\\u200b\\u200b※회원님들이 남겨주신 콘텐츠 및 게시글의 저작권은 작성자와 스펙업카페에 있으며, 스펙업에서 제작하는 콘텐츠에  활용될 수 있음을 알려드립니다.'"
      ]
     },
     "execution_count": 5,
     "metadata": {},
     "output_type": "execute_result"
    }
   ],
   "source": [
    "dataDF.loc[250, 'content']"
   ]
  },
  {
   "cell_type": "code",
   "execution_count": 13,
   "id": "ca006403-60c5-4b39-84c0-fcb5a3245577",
   "metadata": {},
   "outputs": [
    {
     "data": {
      "text/plain": [
       "'2학년 1학기 마치고 개인사정으로 휴학하게 되었는데, 1년동안 영어공부만 하기는 좀 그래서 c언어를 공부한 다음에 반도체 관련된 프로그래밍 언어를 공부해볼까 합니다.첫 번째는 verilog공부를 해서 최종적으로는 FPGA공부도 해볼 생각입니다. 하지만 여기서 걸리는게 FPGA와 verilog는 주로 석사부터 메리트가 있다고 알고있는 회로설계 분야에 많이 쓰이는데, 저는 대학원 생각이 없어서 나중에 도움이 될지 모르겠습니다. 물론 학사로도 회로설계쪽으로 갈 수 있다면 그쪽을 우선적으로 지망할 것 같습니다.두 번째는 python공부를 하고, 그걸로 tensorflow deep learning 공부를 해볼 생각입니다. 1학년 2학기 프로그래밍 시간에 조금 배우긴 했지만, 약간 암기?식으로 가르쳐주시고 공부도 그렇게 해서 알고 있는 내용은 별로 없습니다. 평소에 해보고싶은 부분이었기도하고, 만약 나중에 반도체가 아닌 다른 진로를 생각하더라도 FPGA보단 범용성이 높을 것 같기 때문입니다. 하지만 여기서 망설여지는건, 삼성전자 직무기술서를 봤을 때 Deep learning이 언급된 분아가 공정설계밖에 없어서 반도체와 크게 관련이 있는지 의문입니다.답변 주시면 정말정말 감사하겠습니다...대학생 베스트 인기글 전공학점 3.98인데 4.0이랑 차이 많은가요? 휴학 알차게 보내는 방법!! 졸업생이 후회하는 전공 1위  취업 잘 되는건 다 옛말이네 ... 필기면접후기만 남기면 오천원 바로 드림! 회원님들이 남겨주신 콘텐츠 및 게시글의 저작권은 작성자와 스펙업카페에 있으며, 스펙업에서 제작하는 콘텐츠에  활용될 수 있음을 알려드립니다.'"
      ]
     },
     "execution_count": 13,
     "metadata": {},
     "output_type": "execute_result"
    }
   ],
   "source": [
    "# pattern = r'[(http(s)?):\\/\\/(www\\.)?a-zA-Z0-9@:%._\\+~#=]{2,256}\\.[a-z]{2,6}\\b([-a-zA-Z0-9@:%_\\+.~#?&//=]*)'\n",
    "# pattern = r'\\\\(\"|\\\\|\\/|b|f|n|r|t|u(\\w|\\d){4})'\n",
    "# pattern = r'[^\\s\\d\\w,.?!]+'\n",
    "pattern = r'\\n'\n",
    "# pattern = r'\\\\p{L}'\n",
    "\n",
    "re.sub(pattern, '', data.loc[250, 'content'])"
   ]
  },
  {
   "cell_type": "code",
   "execution_count": 14,
   "id": "bbc4e74e-b13b-444f-9c44-e6dd6656849e",
   "metadata": {},
   "outputs": [],
   "source": [
    "data['content'] = data[['content']].replace(pattern, '', regex=True)"
   ]
  },
  {
   "cell_type": "code",
   "execution_count": 15,
   "id": "dabc715c-f65d-43a9-a665-8337d1c413bb",
   "metadata": {},
   "outputs": [
    {
     "data": {
      "text/html": [
       "<div>\n",
       "<style scoped>\n",
       "    .dataframe tbody tr th:only-of-type {\n",
       "        vertical-align: middle;\n",
       "    }\n",
       "\n",
       "    .dataframe tbody tr th {\n",
       "        vertical-align: top;\n",
       "    }\n",
       "\n",
       "    .dataframe thead th {\n",
       "        text-align: right;\n",
       "    }\n",
       "</style>\n",
       "<table border=\"1\" class=\"dataframe\">\n",
       "  <thead>\n",
       "    <tr style=\"text-align: right;\">\n",
       "      <th></th>\n",
       "      <th>id</th>\n",
       "      <th>menu</th>\n",
       "      <th>cafe</th>\n",
       "      <th>title</th>\n",
       "      <th>author</th>\n",
       "      <th>date</th>\n",
       "      <th>content</th>\n",
       "    </tr>\n",
       "  </thead>\n",
       "  <tbody>\n",
       "    <tr>\n",
       "      <th>268871</th>\n",
       "      <td>6674250</td>\n",
       "      <td>423</td>\n",
       "      <td>16996348</td>\n",
       "      <td>아시아나 인턴</td>\n",
       "      <td>qhdwn9630</td>\n",
       "      <td>2016-09-30T14:17:59.233000</td>\n",
       "      <td>아시아나 인턴 채용되면 거의 정규직 되나요?CONTENTELEMENT0CONTENT...</td>\n",
       "    </tr>\n",
       "    <tr>\n",
       "      <th>131131</th>\n",
       "      <td>7841744</td>\n",
       "      <td>191</td>\n",
       "      <td>16996348</td>\n",
       "      <td>4성급 호텔 사무직 총무 인사 부서 연봉 질문 드립니다!</td>\n",
       "      <td>hwanseok11</td>\n",
       "      <td>2018-01-08T17:50:03.917000</td>\n",
       "      <td>안녕하세요! 이번에 4성급 호텔에 입사하게 되었는데, 호텔리어 아니고 사무직으로 입...</td>\n",
       "    </tr>\n",
       "    <tr>\n",
       "      <th>269821</th>\n",
       "      <td>6351070</td>\n",
       "      <td>423</td>\n",
       "      <td>16996348</td>\n",
       "      <td>인턴 서류</td>\n",
       "      <td>davin93</td>\n",
       "      <td>2016-04-17T13:09:17.397000</td>\n",
       "      <td>보통 기업들이나 공기업에서 인턴 뽑을때, 스펙 중요하게 생각하나요..?제가지금 토익...</td>\n",
       "    </tr>\n",
       "    <tr>\n",
       "      <th>161961</th>\n",
       "      <td>11714437</td>\n",
       "      <td>313</td>\n",
       "      <td>16996348</td>\n",
       "      <td>첫 자소서 늦은 새벽까지 써봅니다..</td>\n",
       "      <td>ghksgur1235</td>\n",
       "      <td>2022-05-24T03:24:58.837000</td>\n",
       "      <td>첫 도전이네요... 자소서 쓴지 벌써 3시간째.. 힘드네요ㅠㅠ 꼭 봐야할 이번주 독...</td>\n",
       "    </tr>\n",
       "    <tr>\n",
       "      <th>85918</th>\n",
       "      <td>11490651</td>\n",
       "      <td>1233</td>\n",
       "      <td>16996348</td>\n",
       "      <td>반도체쪽 강소or중견 가능할까요?</td>\n",
       "      <td>mijung417</td>\n",
       "      <td>2022-01-14T00:36:01.777000</td>\n",
       "      <td>공대 학점 2.94토익 800 오픽ih 컴활2급반도체공정 실습 단기 대학 랩실 참여...</td>\n",
       "    </tr>\n",
       "  </tbody>\n",
       "</table>\n",
       "</div>"
      ],
      "text/plain": [
       "              id  menu      cafe                            title  \\\n",
       "268871   6674250   423  16996348                          아시아나 인턴   \n",
       "131131   7841744   191  16996348  4성급 호텔 사무직 총무 인사 부서 연봉 질문 드립니다!   \n",
       "269821   6351070   423  16996348                            인턴 서류   \n",
       "161961  11714437   313  16996348             첫 자소서 늦은 새벽까지 써봅니다..   \n",
       "85918   11490651  1233  16996348               반도체쪽 강소or중견 가능할까요?   \n",
       "\n",
       "             author                        date  \\\n",
       "268871    qhdwn9630  2016-09-30T14:17:59.233000   \n",
       "131131   hwanseok11  2018-01-08T17:50:03.917000   \n",
       "269821      davin93  2016-04-17T13:09:17.397000   \n",
       "161961  ghksgur1235  2022-05-24T03:24:58.837000   \n",
       "85918     mijung417  2022-01-14T00:36:01.777000   \n",
       "\n",
       "                                                  content  \n",
       "268871  아시아나 인턴 채용되면 거의 정규직 되나요?CONTENTELEMENT0CONTENT...  \n",
       "131131  안녕하세요! 이번에 4성급 호텔에 입사하게 되었는데, 호텔리어 아니고 사무직으로 입...  \n",
       "269821  보통 기업들이나 공기업에서 인턴 뽑을때, 스펙 중요하게 생각하나요..?제가지금 토익...  \n",
       "161961  첫 도전이네요... 자소서 쓴지 벌써 3시간째.. 힘드네요ㅠㅠ 꼭 봐야할 이번주 독...  \n",
       "85918   공대 학점 2.94토익 800 오픽ih 컴활2급반도체공정 실습 단기 대학 랩실 참여...  "
      ]
     },
     "execution_count": 15,
     "metadata": {},
     "output_type": "execute_result"
    }
   ],
   "source": [
    "data.sample(5)"
   ]
  },
  {
   "cell_type": "code",
   "execution_count": 16,
   "id": "5602b33c-9c56-419c-8e3e-be60851a23c6",
   "metadata": {},
   "outputs": [
    {
     "data": {
      "text/plain": [
       "'ㅈㄱㄴ대학생 베스트 인기글 아니 대외활동 합불 결과는 왜 안알려주는건데!? 완전 잡무만 하는중...인턴은 원래 이래?! 알바도 대감집에서 해야 하는 이유  여긴 알바생 등록금까지 내줌 ㄷㄷ 필기면접후기만 남기면 오천원 바로 드림! 무스펙도 합격하는 1기 대외활동 앱에서 매일보기  회원님들이 남겨주신 콘텐츠 및 게시글의 저작권은 작성자와 스펙업카페에 있으며, 스펙업에서 제작하는 콘텐츠에  활용될 수 있음을 알려드립니다.'"
      ]
     },
     "execution_count": 16,
     "metadata": {},
     "output_type": "execute_result"
    }
   ],
   "source": [
    "data.iloc[1000].content"
   ]
  },
  {
   "cell_type": "code",
   "execution_count": 51,
   "id": "71af2fd0-2db6-4851-a9ca-5d0f23c19914",
   "metadata": {},
   "outputs": [],
   "source": [
    "AICorp = data.loc[data['content'].str.contains('인공지능', case=False)]\n",
    "bCorp = data.loc[data['content'].str.contains('벤처', case=False)]"
   ]
  },
  {
   "cell_type": "code",
   "execution_count": 45,
   "id": "1f728c76-3681-4395-876a-bd789252b64f",
   "metadata": {
    "collapsed": true,
    "jupyter": {
     "outputs_hidden": true
    },
    "tags": []
   },
   "outputs": [
    {
     "name": "stdout",
     "output_type": "stream",
     "text": [
      "<class 'pandas.core.frame.DataFrame'>\n",
      "Int64Index: 638 entries, 88 to 369980\n",
      "Data columns (total 7 columns):\n",
      " #   Column   Non-Null Count  Dtype \n",
      "---  ------   --------------  ----- \n",
      " 0   id       638 non-null    int64 \n",
      " 1   menu     638 non-null    int64 \n",
      " 2   cafe     638 non-null    int64 \n",
      " 3   title    638 non-null    object\n",
      " 4   author   638 non-null    object\n",
      " 5   date     638 non-null    object\n",
      " 6   content  638 non-null    object\n",
      "dtypes: int64(3), object(4)\n",
      "memory usage: 39.9+ KB\n"
     ]
    }
   ],
   "source": [
    "AICorp.info()"
   ]
  },
  {
   "cell_type": "code",
   "execution_count": 46,
   "id": "49b5399f-a2a7-4d87-9ff3-a24eb2431a24",
   "metadata": {
    "collapsed": true,
    "jupyter": {
     "outputs_hidden": true
    },
    "tags": []
   },
   "outputs": [
    {
     "data": {
      "text/html": [
       "<div>\n",
       "<style scoped>\n",
       "    .dataframe tbody tr th:only-of-type {\n",
       "        vertical-align: middle;\n",
       "    }\n",
       "\n",
       "    .dataframe tbody tr th {\n",
       "        vertical-align: top;\n",
       "    }\n",
       "\n",
       "    .dataframe thead th {\n",
       "        text-align: right;\n",
       "    }\n",
       "</style>\n",
       "<table border=\"1\" class=\"dataframe\">\n",
       "  <thead>\n",
       "    <tr style=\"text-align: right;\">\n",
       "      <th></th>\n",
       "      <th>id</th>\n",
       "      <th>menu</th>\n",
       "      <th>cafe</th>\n",
       "      <th>title</th>\n",
       "      <th>author</th>\n",
       "      <th>date</th>\n",
       "      <th>content</th>\n",
       "    </tr>\n",
       "  </thead>\n",
       "  <tbody>\n",
       "    <tr>\n",
       "      <th>368731</th>\n",
       "      <td>6955840</td>\n",
       "      <td>1211</td>\n",
       "      <td>15754634</td>\n",
       "      <td>통계학과 복전 고민</td>\n",
       "      <td>통롱이</td>\n",
       "      <td>2022-04-29T17:19:00</td>\n",
       "      <td>통계학과 다니고 있습니다. 복수전공으로 컴공이나 인공지능 쪽 생각하고 있는데 사실 ...</td>\n",
       "    </tr>\n",
       "    <tr>\n",
       "      <th>345745</th>\n",
       "      <td>10137304</td>\n",
       "      <td>868</td>\n",
       "      <td>16996348</td>\n",
       "      <td>인성검사를 AI면접으로 본다고도 하네요?? ㄷㄷㄷ</td>\n",
       "      <td>osolemio11</td>\n",
       "      <td>2020-04-27T12:24:52.107000</td>\n",
       "      <td>CONTENTELEMENT1안녕하세요 힘든 월요일도 어느덧 점심시간인데식사는 맛나게...</td>\n",
       "    </tr>\n",
       "    <tr>\n",
       "      <th>360327</th>\n",
       "      <td>36156</td>\n",
       "      <td>1</td>\n",
       "      <td>30026525</td>\n",
       "      <td>[유튜브 채널추천]인공지능과 관련된 프로젝트들을 따라하면서 체험할 수 있어요 !</td>\n",
       "      <td>rkdckddnjs9</td>\n",
       "      <td>2021-08-08T21:30:17.970000</td>\n",
       "      <td>안녕하세요 제가 인공지능에 관심이 많아서유튜브에서 자주 보던 채널을 소개시켜드리려구...</td>\n",
       "    </tr>\n",
       "    <tr>\n",
       "      <th>18123</th>\n",
       "      <td>6619068</td>\n",
       "      <td>1211</td>\n",
       "      <td>15754634</td>\n",
       "      <td>인공지능학과 노트북</td>\n",
       "      <td>hi-09114</td>\n",
       "      <td>2021-02-02T00:22:25.920000</td>\n",
       "      <td>인공지능학과 입학예정입니다노트북 추천해주세요지금 삼성 2018펜s i3쓰고 있는데 ...</td>\n",
       "    </tr>\n",
       "    <tr>\n",
       "      <th>311620</th>\n",
       "      <td>11079400</td>\n",
       "      <td>710</td>\n",
       "      <td>16996348</td>\n",
       "      <td>토스오픽 고득점 받는 비법은 간단하다!</td>\n",
       "      <td>hackers_academia</td>\n",
       "      <td>2021-06-11T19:26:01.463000</td>\n",
       "      <td>토스오픽 고득점 받는 비법은 간단하다! 토스오픽은 요즘 취업 지원자격으로 많이 요구...</td>\n",
       "    </tr>\n",
       "  </tbody>\n",
       "</table>\n",
       "</div>"
      ],
      "text/plain": [
       "              id  menu      cafe  \\\n",
       "368731   6955840  1211  15754634   \n",
       "345745  10137304   868  16996348   \n",
       "360327     36156     1  30026525   \n",
       "18123    6619068  1211  15754634   \n",
       "311620  11079400   710  16996348   \n",
       "\n",
       "                                               title            author  \\\n",
       "368731                                    통계학과 복전 고민               통롱이   \n",
       "345745                   인성검사를 AI면접으로 본다고도 하네요?? ㄷㄷㄷ        osolemio11   \n",
       "360327  [유튜브 채널추천]인공지능과 관련된 프로젝트들을 따라하면서 체험할 수 있어요 !       rkdckddnjs9   \n",
       "18123                                     인공지능학과 노트북          hi-09114   \n",
       "311620                         토스오픽 고득점 받는 비법은 간단하다!  hackers_academia   \n",
       "\n",
       "                              date  \\\n",
       "368731         2022-04-29T17:19:00   \n",
       "345745  2020-04-27T12:24:52.107000   \n",
       "360327  2021-08-08T21:30:17.970000   \n",
       "18123   2021-02-02T00:22:25.920000   \n",
       "311620  2021-06-11T19:26:01.463000   \n",
       "\n",
       "                                                  content  \n",
       "368731  통계학과 다니고 있습니다. 복수전공으로 컴공이나 인공지능 쪽 생각하고 있는데 사실 ...  \n",
       "345745  CONTENTELEMENT1안녕하세요 힘든 월요일도 어느덧 점심시간인데식사는 맛나게...  \n",
       "360327  안녕하세요 제가 인공지능에 관심이 많아서유튜브에서 자주 보던 채널을 소개시켜드리려구...  \n",
       "18123   인공지능학과 입학예정입니다노트북 추천해주세요지금 삼성 2018펜s i3쓰고 있는데 ...  \n",
       "311620  토스오픽 고득점 받는 비법은 간단하다! 토스오픽은 요즘 취업 지원자격으로 많이 요구...  "
      ]
     },
     "execution_count": 46,
     "metadata": {},
     "output_type": "execute_result"
    }
   ],
   "source": [
    "AICorp.sample(5)"
   ]
  },
  {
   "cell_type": "code",
   "execution_count": 52,
   "id": "9abf243c-fd11-40ad-bde5-ac0831a479df",
   "metadata": {},
   "outputs": [
    {
     "name": "stdout",
     "output_type": "stream",
     "text": [
      "<class 'pandas.core.frame.DataFrame'>\n",
      "Int64Index: 643 entries, 769 to 368988\n",
      "Data columns (total 7 columns):\n",
      " #   Column   Non-Null Count  Dtype \n",
      "---  ------   --------------  ----- \n",
      " 0   id       643 non-null    int64 \n",
      " 1   menu     643 non-null    int64 \n",
      " 2   cafe     643 non-null    int64 \n",
      " 3   title    643 non-null    object\n",
      " 4   author   643 non-null    object\n",
      " 5   date     643 non-null    object\n",
      " 6   content  643 non-null    object\n",
      "dtypes: int64(3), object(4)\n",
      "memory usage: 40.2+ KB\n"
     ]
    }
   ],
   "source": [
    "bCorp.info()"
   ]
  },
  {
   "cell_type": "code",
   "execution_count": 53,
   "id": "3c9f1e07-3666-4859-ac0c-82e4ed0f1c4c",
   "metadata": {
    "tags": []
   },
   "outputs": [
    {
     "data": {
      "text/html": [
       "<div>\n",
       "<style scoped>\n",
       "    .dataframe tbody tr th:only-of-type {\n",
       "        vertical-align: middle;\n",
       "    }\n",
       "\n",
       "    .dataframe tbody tr th {\n",
       "        vertical-align: top;\n",
       "    }\n",
       "\n",
       "    .dataframe thead th {\n",
       "        text-align: right;\n",
       "    }\n",
       "</style>\n",
       "<table border=\"1\" class=\"dataframe\">\n",
       "  <thead>\n",
       "    <tr style=\"text-align: right;\">\n",
       "      <th></th>\n",
       "      <th>id</th>\n",
       "      <th>menu</th>\n",
       "      <th>cafe</th>\n",
       "      <th>title</th>\n",
       "      <th>author</th>\n",
       "      <th>date</th>\n",
       "      <th>content</th>\n",
       "    </tr>\n",
       "  </thead>\n",
       "  <tbody>\n",
       "    <tr>\n",
       "      <th>1743</th>\n",
       "      <td>6941927</td>\n",
       "      <td>1211</td>\n",
       "      <td>15754634</td>\n",
       "      <td>최종합격자의 자소서 예시 모음!</td>\n",
       "      <td>aijeymnnfx</td>\n",
       "      <td>2022-04-15T16:18:24.870000</td>\n",
       "      <td>최종합격자의 자소서 예시 모음! 안녕하세요 여러분! 자소서 작성하고 계신가요?자소서...</td>\n",
       "    </tr>\n",
       "    <tr>\n",
       "      <th>42879</th>\n",
       "      <td>6848561</td>\n",
       "      <td>870</td>\n",
       "      <td>15754634</td>\n",
       "      <td>30살 남자 스펙 대외활동x, 수상이력x</td>\n",
       "      <td>psj963852741</td>\n",
       "      <td>2022-01-12T05:07:08.830000</td>\n",
       "      <td>자신의 스펙 1. 학교 및 전공   한국외대 석사 마케팅 MBA2. 학점   4.1...</td>\n",
       "    </tr>\n",
       "    <tr>\n",
       "      <th>84740</th>\n",
       "      <td>11641314</td>\n",
       "      <td>1233</td>\n",
       "      <td>16996348</td>\n",
       "      <td>중견기업 취직어려울까요?</td>\n",
       "      <td>suminb0217</td>\n",
       "      <td>2022-04-06T02:08:29.613000</td>\n",
       "      <td>29살입니다 회계전문학사연결재무제표등 경험은 없고 회계삼실2년반정도 나머지는 경리일...</td>\n",
       "    </tr>\n",
       "    <tr>\n",
       "      <th>41949</th>\n",
       "      <td>3689294</td>\n",
       "      <td>4830</td>\n",
       "      <td>15754634</td>\n",
       "      <td>[정보] 2015년 공사/공기업 대졸 초임연봉 리스트</td>\n",
       "      <td>altuve89</td>\n",
       "      <td>2015-08-05T15:47:51.623000</td>\n",
       "      <td>CONTENTELEMENT0정보 2015년 공사공기업 대졸 초임연봉 리스트 사기업과...</td>\n",
       "    </tr>\n",
       "    <tr>\n",
       "      <th>1784</th>\n",
       "      <td>6940030</td>\n",
       "      <td>1211</td>\n",
       "      <td>15754634</td>\n",
       "      <td>청년 채용특별장려금 900만원 지원한다네요! (+조건, 방법, 서류)</td>\n",
       "      <td>alsdbswl9301</td>\n",
       "      <td>2022-04-13T21:27:18.363000</td>\n",
       "      <td>청년 채용특별장려금에 대해 들어보셨나요? 900만원을 지원하는 중소중견기업 대상 고...</td>\n",
       "    </tr>\n",
       "  </tbody>\n",
       "</table>\n",
       "</div>"
      ],
      "text/plain": [
       "             id  menu      cafe                                   title  \\\n",
       "1743    6941927  1211  15754634                       최종합격자의 자소서 예시 모음!   \n",
       "42879   6848561   870  15754634                  30살 남자 스펙 대외활동x, 수상이력x   \n",
       "84740  11641314  1233  16996348                           중견기업 취직어려울까요?   \n",
       "41949   3689294  4830  15754634          [정보] 2015년 공사/공기업 대졸 초임연봉 리스트    \n",
       "1784    6940030  1211  15754634  청년 채용특별장려금 900만원 지원한다네요! (+조건, 방법, 서류)   \n",
       "\n",
       "             author                        date  \\\n",
       "1743     aijeymnnfx  2022-04-15T16:18:24.870000   \n",
       "42879  psj963852741  2022-01-12T05:07:08.830000   \n",
       "84740    suminb0217  2022-04-06T02:08:29.613000   \n",
       "41949      altuve89  2015-08-05T15:47:51.623000   \n",
       "1784   alsdbswl9301  2022-04-13T21:27:18.363000   \n",
       "\n",
       "                                                 content  \n",
       "1743   최종합격자의 자소서 예시 모음! 안녕하세요 여러분! 자소서 작성하고 계신가요?자소서...  \n",
       "42879  자신의 스펙 1. 학교 및 전공   한국외대 석사 마케팅 MBA2. 학점   4.1...  \n",
       "84740  29살입니다 회계전문학사연결재무제표등 경험은 없고 회계삼실2년반정도 나머지는 경리일...  \n",
       "41949  CONTENTELEMENT0정보 2015년 공사공기업 대졸 초임연봉 리스트 사기업과...  \n",
       "1784   청년 채용특별장려금에 대해 들어보셨나요? 900만원을 지원하는 중소중견기업 대상 고...  "
      ]
     },
     "execution_count": 53,
     "metadata": {},
     "output_type": "execute_result"
    }
   ],
   "source": [
    "bCorp.sample(5)"
   ]
  },
  {
   "cell_type": "code",
   "execution_count": 17,
   "id": "05acba6a-f8c9-4a62-8595-ecc132fe5ffa",
   "metadata": {
    "tags": []
   },
   "outputs": [],
   "source": [
    "lCorp = data.loc[data['content'].str.contains('대기업', case=False)]\n",
    "mCorp = data.loc[data['content'].str.contains('중소기업', case=False)]\n",
    "sCorp = data.loc[data['content'].str.contains('스타트업', case=False)]"
   ]
  },
  {
   "cell_type": "code",
   "execution_count": 18,
   "id": "97af3cb2-957f-4c97-a423-2e4ef5c5c67a",
   "metadata": {
    "collapsed": true,
    "jupyter": {
     "outputs_hidden": true
    },
    "tags": []
   },
   "outputs": [
    {
     "name": "stdout",
     "output_type": "stream",
     "text": [
      "<class 'pandas.core.frame.DataFrame'>\n",
      "Int64Index: 162130 entries, 6 to 371069\n",
      "Data columns (total 7 columns):\n",
      " #   Column   Non-Null Count   Dtype \n",
      "---  ------   --------------   ----- \n",
      " 0   id       162130 non-null  int64 \n",
      " 1   menu     162130 non-null  int64 \n",
      " 2   cafe     162130 non-null  int64 \n",
      " 3   title    162130 non-null  object\n",
      " 4   author   162130 non-null  object\n",
      " 5   date     162130 non-null  object\n",
      " 6   content  162130 non-null  object\n",
      "dtypes: int64(3), object(4)\n",
      "memory usage: 9.9+ MB\n"
     ]
    }
   ],
   "source": [
    "lCorp.info()"
   ]
  },
  {
   "cell_type": "code",
   "execution_count": 124,
   "id": "89c0508c-310c-41f7-85d1-e917665e0d20",
   "metadata": {
    "collapsed": true,
    "jupyter": {
     "outputs_hidden": true
    },
    "tags": []
   },
   "outputs": [
    {
     "data": {
      "text/html": [
       "<div>\n",
       "<style scoped>\n",
       "    .dataframe tbody tr th:only-of-type {\n",
       "        vertical-align: middle;\n",
       "    }\n",
       "\n",
       "    .dataframe tbody tr th {\n",
       "        vertical-align: top;\n",
       "    }\n",
       "\n",
       "    .dataframe thead th {\n",
       "        text-align: right;\n",
       "    }\n",
       "</style>\n",
       "<table border=\"1\" class=\"dataframe\">\n",
       "  <thead>\n",
       "    <tr style=\"text-align: right;\">\n",
       "      <th></th>\n",
       "      <th>title</th>\n",
       "      <th>content</th>\n",
       "    </tr>\n",
       "  </thead>\n",
       "  <tbody>\n",
       "    <tr>\n",
       "      <th>362215</th>\n",
       "      <td>대외활동 면접 불참</td>\n",
       "      <td>대외활동 면접을 불참했는데못갈것같다고 연락은 드렸어요정말 가고싶었는데 개인적으로 사...</td>\n",
       "    </tr>\n",
       "    <tr>\n",
       "      <th>164724</th>\n",
       "      <td>부산코렌스이엠</td>\n",
       "      <td>면접보신분???  꼭 봐야할 이번주 독취사 인기글   대기업 취업 확실하게 준비하는...</td>\n",
       "    </tr>\n",
       "    <tr>\n",
       "      <th>251955</th>\n",
       "      <td>삼성바이오로직스 스펙</td>\n",
       "      <td>삼바 초대졸 스펙 알려주실 분 있나요?여타 제약회사랑 비슷한지 아니면 삼성이라서 좀...</td>\n",
       "    </tr>\n",
       "    <tr>\n",
       "      <th>299374</th>\n",
       "      <td>포트폴리오만 잘만들면 토익점수필요없겠죠??</td>\n",
       "      <td>몇점이상되야 지원가능하면 어쩔수 없지만 그게아니면 포폴만잘만들어도 괜찮겠죠??ㅜ 그...</td>\n",
       "    </tr>\n",
       "    <tr>\n",
       "      <th>50891</th>\n",
       "      <td>26여 스펙평가 부탁드려요!!!</td>\n",
       "      <td>중경외시 캠퍼스식품공학3.74토익895오픽IH위생사식품기사컴활1급미국인턴1년해외봉사...</td>\n",
       "    </tr>\n",
       "  </tbody>\n",
       "</table>\n",
       "</div>"
      ],
      "text/plain": [
       "                          title  \\\n",
       "362215               대외활동 면접 불참   \n",
       "164724                  부산코렌스이엠   \n",
       "251955              삼성바이오로직스 스펙   \n",
       "299374  포트폴리오만 잘만들면 토익점수필요없겠죠??   \n",
       "50891         26여 스펙평가 부탁드려요!!!   \n",
       "\n",
       "                                                  content  \n",
       "362215  대외활동 면접을 불참했는데못갈것같다고 연락은 드렸어요정말 가고싶었는데 개인적으로 사...  \n",
       "164724  면접보신분???  꼭 봐야할 이번주 독취사 인기글   대기업 취업 확실하게 준비하는...  \n",
       "251955  삼바 초대졸 스펙 알려주실 분 있나요?여타 제약회사랑 비슷한지 아니면 삼성이라서 좀...  \n",
       "299374  몇점이상되야 지원가능하면 어쩔수 없지만 그게아니면 포폴만잘만들어도 괜찮겠죠??ㅜ 그...  \n",
       "50891   중경외시 캠퍼스식품공학3.74토익895오픽IH위생사식품기사컴활1급미국인턴1년해외봉사...  "
      ]
     },
     "execution_count": 124,
     "metadata": {},
     "output_type": "execute_result"
    }
   ],
   "source": [
    "lCorp.sample(5)"
   ]
  },
  {
   "cell_type": "code",
   "execution_count": 19,
   "id": "311fdd08-cb39-48ae-b001-0d972f71cfb4",
   "metadata": {
    "collapsed": true,
    "jupyter": {
     "outputs_hidden": true
    },
    "tags": []
   },
   "outputs": [
    {
     "name": "stdout",
     "output_type": "stream",
     "text": [
      "<class 'pandas.core.frame.DataFrame'>\n",
      "Int64Index: 23633 entries, 24 to 371070\n",
      "Data columns (total 7 columns):\n",
      " #   Column   Non-Null Count  Dtype \n",
      "---  ------   --------------  ----- \n",
      " 0   id       23633 non-null  int64 \n",
      " 1   menu     23633 non-null  int64 \n",
      " 2   cafe     23633 non-null  int64 \n",
      " 3   title    23633 non-null  object\n",
      " 4   author   23633 non-null  object\n",
      " 5   date     23633 non-null  object\n",
      " 6   content  23633 non-null  object\n",
      "dtypes: int64(3), object(4)\n",
      "memory usage: 1.4+ MB\n"
     ]
    }
   ],
   "source": [
    "mCorp.info()"
   ]
  },
  {
   "cell_type": "code",
   "execution_count": 125,
   "id": "9031f9ae-7339-4d57-ba17-3c296331cc67",
   "metadata": {
    "collapsed": true,
    "jupyter": {
     "outputs_hidden": true
    },
    "tags": []
   },
   "outputs": [
    {
     "data": {
      "text/html": [
       "<div>\n",
       "<style scoped>\n",
       "    .dataframe tbody tr th:only-of-type {\n",
       "        vertical-align: middle;\n",
       "    }\n",
       "\n",
       "    .dataframe tbody tr th {\n",
       "        vertical-align: top;\n",
       "    }\n",
       "\n",
       "    .dataframe thead th {\n",
       "        text-align: right;\n",
       "    }\n",
       "</style>\n",
       "<table border=\"1\" class=\"dataframe\">\n",
       "  <thead>\n",
       "    <tr style=\"text-align: right;\">\n",
       "      <th></th>\n",
       "      <th>title</th>\n",
       "      <th>content</th>\n",
       "    </tr>\n",
       "  </thead>\n",
       "  <tbody>\n",
       "    <tr>\n",
       "      <th>120995</th>\n",
       "      <td>중소기업 연봉과 복지는 어떻게 되나요?</td>\n",
       "      <td>중소기업 연봉과 복지는 어떻게 되나요?중소기업과 중견기업의 차이는 연봉과 복지 면에...</td>\n",
       "    </tr>\n",
       "    <tr>\n",
       "      <th>197216</th>\n",
       "      <td>삼성 채용</td>\n",
       "      <td>자소서 작성하는데 자소서 첨삭 다들 받으시나요 지난번 서류 탈락해서 자소서를 어떻게...</td>\n",
       "    </tr>\n",
       "    <tr>\n",
       "      <th>24511</th>\n",
       "      <td>2022 청년지원금 정책 종류와 지원금 금액 전부 확인하세요!</td>\n",
       "      <td>2022 청년지원금, 정책 종류와 지원금 금액 전부 확인하세요!   안녕하세요! ...</td>\n",
       "    </tr>\n",
       "    <tr>\n",
       "      <th>292130</th>\n",
       "      <td>퇴사합니다</td>\n",
       "      <td>중소기업에 취직해서 일했는데 공채는 한번도 준비 안해봣어요. 나이25인데 한번은 진...</td>\n",
       "    </tr>\n",
       "    <tr>\n",
       "      <th>137259</th>\n",
       "      <td>23살 갓 전역한 군필입니다. 뭘 준비해야할지 모르겠어요.</td>\n",
       "      <td>현재 나의 스펙은?  학교전공학점  지방대철도경영학과3.48 어학점수   X 자격...</td>\n",
       "    </tr>\n",
       "  </tbody>\n",
       "</table>\n",
       "</div>"
      ],
      "text/plain": [
       "                                     title  \\\n",
       "120995               중소기업 연봉과 복지는 어떻게 되나요?   \n",
       "197216                               삼성 채용   \n",
       "24511   2022 청년지원금 정책 종류와 지원금 금액 전부 확인하세요!   \n",
       "292130                               퇴사합니다   \n",
       "137259    23살 갓 전역한 군필입니다. 뭘 준비해야할지 모르겠어요.   \n",
       "\n",
       "                                                  content  \n",
       "120995  중소기업 연봉과 복지는 어떻게 되나요?중소기업과 중견기업의 차이는 연봉과 복지 면에...  \n",
       "197216  자소서 작성하는데 자소서 첨삭 다들 받으시나요 지난번 서류 탈락해서 자소서를 어떻게...  \n",
       "24511    2022 청년지원금, 정책 종류와 지원금 금액 전부 확인하세요!   안녕하세요! ...  \n",
       "292130  중소기업에 취직해서 일했는데 공채는 한번도 준비 안해봣어요. 나이25인데 한번은 진...  \n",
       "137259   현재 나의 스펙은?  학교전공학점  지방대철도경영학과3.48 어학점수   X 자격...  "
      ]
     },
     "execution_count": 125,
     "metadata": {},
     "output_type": "execute_result"
    }
   ],
   "source": [
    "mCorp.sample(5)"
   ]
  },
  {
   "cell_type": "code",
   "execution_count": 20,
   "id": "51a14b08-9e68-45ab-a67f-894df39896b0",
   "metadata": {
    "collapsed": true,
    "jupyter": {
     "outputs_hidden": true
    },
    "tags": []
   },
   "outputs": [
    {
     "name": "stdout",
     "output_type": "stream",
     "text": [
      "<class 'pandas.core.frame.DataFrame'>\n",
      "Int64Index: 3186 entries, 121 to 370979\n",
      "Data columns (total 7 columns):\n",
      " #   Column   Non-Null Count  Dtype \n",
      "---  ------   --------------  ----- \n",
      " 0   id       3186 non-null   int64 \n",
      " 1   menu     3186 non-null   int64 \n",
      " 2   cafe     3186 non-null   int64 \n",
      " 3   title    3186 non-null   object\n",
      " 4   author   3186 non-null   object\n",
      " 5   date     3186 non-null   object\n",
      " 6   content  3186 non-null   object\n",
      "dtypes: int64(3), object(4)\n",
      "memory usage: 199.1+ KB\n"
     ]
    }
   ],
   "source": [
    "sCorp.info()"
   ]
  },
  {
   "cell_type": "code",
   "execution_count": 126,
   "id": "c7923e65-4201-45b9-96c6-77869485dc54",
   "metadata": {
    "collapsed": true,
    "jupyter": {
     "outputs_hidden": true
    },
    "tags": []
   },
   "outputs": [
    {
     "data": {
      "text/html": [
       "<div>\n",
       "<style scoped>\n",
       "    .dataframe tbody tr th:only-of-type {\n",
       "        vertical-align: middle;\n",
       "    }\n",
       "\n",
       "    .dataframe tbody tr th {\n",
       "        vertical-align: top;\n",
       "    }\n",
       "\n",
       "    .dataframe thead th {\n",
       "        text-align: right;\n",
       "    }\n",
       "</style>\n",
       "<table border=\"1\" class=\"dataframe\">\n",
       "  <thead>\n",
       "    <tr style=\"text-align: right;\">\n",
       "      <th></th>\n",
       "      <th>title</th>\n",
       "      <th>content</th>\n",
       "    </tr>\n",
       "  </thead>\n",
       "  <tbody>\n",
       "    <tr>\n",
       "      <th>327974</th>\n",
       "      <td>회사 면접에 대해서요.</td>\n",
       "      <td>이번에 이직하려고 서류접수했는데 그 회사 인사담당자한테 연락왔는데 우리회사에 적합하...</td>\n",
       "    </tr>\n",
       "    <tr>\n",
       "      <th>49560</th>\n",
       "      <td>23 남 스펙평가 부탁드려요</td>\n",
       "      <td>제목에 원하는 직무를 꼭 포함시켜주세요.CONTENTELEMENT0CONTENTEL...</td>\n",
       "    </tr>\n",
       "    <tr>\n",
       "      <th>8216</th>\n",
       "      <td>창원시 2021 블라썸 스타트업 아이디어 리그 930</td>\n",
       "      <td>2021 블라썸 스타트업 아이디어 리그 참가자 모집창의적인 아이디어제품서비스를 가진...</td>\n",
       "    </tr>\n",
       "    <tr>\n",
       "      <th>47029</th>\n",
       "      <td>온라인직군 스펙평가 부탁드려요!</td>\n",
       "      <td>CONTENTELEMENT0게시글 제목에 원하는 직무를 반드시 포함시켜주세요. 더 ...</td>\n",
       "    </tr>\n",
       "    <tr>\n",
       "      <th>14127</th>\n",
       "      <td>오픽 어떻게 공부하시나요?</td>\n",
       "      <td>요픽 공부 중인데 유명한 유튜버채널만 보기에는 좀 부족할것같아요다들 어떻게 공부하시...</td>\n",
       "    </tr>\n",
       "  </tbody>\n",
       "</table>\n",
       "</div>"
      ],
      "text/plain": [
       "                                title  \\\n",
       "327974                   회사 면접에 대해서요.   \n",
       "49560                 23 남 스펙평가 부탁드려요   \n",
       "8216    창원시 2021 블라썸 스타트업 아이디어 리그 930   \n",
       "47029               온라인직군 스펙평가 부탁드려요!   \n",
       "14127                  오픽 어떻게 공부하시나요?   \n",
       "\n",
       "                                                  content  \n",
       "327974  이번에 이직하려고 서류접수했는데 그 회사 인사담당자한테 연락왔는데 우리회사에 적합하...  \n",
       "49560   제목에 원하는 직무를 꼭 포함시켜주세요.CONTENTELEMENT0CONTENTEL...  \n",
       "8216    2021 블라썸 스타트업 아이디어 리그 참가자 모집창의적인 아이디어제품서비스를 가진...  \n",
       "47029   CONTENTELEMENT0게시글 제목에 원하는 직무를 반드시 포함시켜주세요. 더 ...  \n",
       "14127   요픽 공부 중인데 유명한 유튜버채널만 보기에는 좀 부족할것같아요다들 어떻게 공부하시...  "
      ]
     },
     "execution_count": 126,
     "metadata": {},
     "output_type": "execute_result"
    }
   ],
   "source": [
    "sCorp.sample(5)"
   ]
  },
  {
   "cell_type": "code",
   "execution_count": 54,
   "id": "cba87f31-c619-409d-8f91-ff65725df98f",
   "metadata": {},
   "outputs": [],
   "source": [
    "bCorp.to_csv('./data/벤처.csv', encoding='utf-8-sig')"
   ]
  },
  {
   "cell_type": "code",
   "execution_count": 43,
   "id": "f1219162-851f-42ae-94ac-0dd24e730905",
   "metadata": {
    "tags": []
   },
   "outputs": [],
   "source": [
    "selectedDF = sCorp.loc[sCorp['content'].str.contains('인공지능', case=False)]\n",
    "\n",
    "selectedDF.to_csv('./data/스타트업_업력.csv', encoding='utf-8-sig')"
   ]
  },
  {
   "cell_type": "code",
   "execution_count": null,
   "id": "291f16f7-c44e-400d-82a7-f9c2838bcf3e",
   "metadata": {},
   "outputs": [],
   "source": []
  }
 ],
 "metadata": {
  "kernelspec": {
   "display_name": "ipa",
   "language": "python",
   "name": "ipa"
  },
  "language_info": {
   "codemirror_mode": {
    "name": "ipython",
    "version": 3
   },
   "file_extension": ".py",
   "mimetype": "text/x-python",
   "name": "python",
   "nbconvert_exporter": "python",
   "pygments_lexer": "ipython3",
   "version": "3.10.4"
  }
 },
 "nbformat": 4,
 "nbformat_minor": 5
}
